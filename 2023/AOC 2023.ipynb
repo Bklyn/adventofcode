{
 "cells": [
  {
   "cell_type": "code",
   "execution_count": null,
   "metadata": {},
   "outputs": [],
   "source": [
    "from aoc import *\n",
    "import re\n",
    "import os\n",
    "from aocd.models import Puzzle as AOCDPuzzle\n",
    "\n",
    "def Puzzle(day, year=2023):\n",
    "   return AOCDPuzzle(year=year, day=day)"
   ]
  },
  {
   "cell_type": "code",
   "execution_count": null,
   "metadata": {},
   "outputs": [],
   "source": [
    "p = Puzzle(day=1)"
   ]
  },
  {
   "cell_type": "code",
   "execution_count": null,
   "metadata": {},
   "outputs": [],
   "source": [
    "WORDS = {\"one\": 1, \"two\": 2, \"three\": 3, \"four\": 4, \"five\": 5, \"six\": 6, \"seven\": 7, \"eight\": 8, \"nine\": 9}\n",
    "\n",
    "def words_to_digits(s: str):\n",
    "    while True:\n",
    "        first = 10**9\n",
    "        word = None\n",
    "        digit = None\n",
    "        for w, d in WORDS.items():\n",
    "            idx = s.find(w)\n",
    "            if idx >= 0 and idx < first:\n",
    "                first, word, digit = idx, w, d\n",
    "        if word is None:\n",
    "            break\n",
    "        s = s.replace(word, str(digit), 1)\n",
    "    return s\n",
    "\n",
    "def trebuchet(x):\n",
    "    def digits(line):\n",
    "        return [int(d) for d in line if d.isdigit()]\n",
    "    lines = [digits(line) for line in x.splitlines()]\n",
    "    return sum(digits[0] * 10 + digits[-1] for digits in lines)\n",
    "\n",
    "assert trebuchet(p.examples[0].input_data) == 142\n",
    "assert trebuchet(words_to_digits('''two1nine\n",
    "eightwothree\n",
    "abcone2threexyz\n",
    "xtwone3four\n",
    "4nineeightseven2\n",
    "zoneight234\n",
    "7pqrstsixteen''')) == 281"
   ]
  },
  {
   "cell_type": "code",
   "execution_count": null,
   "metadata": {},
   "outputs": [],
   "source": [
    "print (trebuchet(p.input_data), trebuchet(words_to_digits(p.input_data)))"
   ]
  },
  {
   "cell_type": "code",
   "execution_count": null,
   "metadata": {},
   "outputs": [],
   "source": []
  }
 ],
 "metadata": {
  "kernelspec": {
   "display_name": "Python 3",
   "language": "python",
   "name": "python3"
  },
  "language_info": {
   "codemirror_mode": {
    "name": "ipython",
    "version": 3
   },
   "file_extension": ".py",
   "mimetype": "text/x-python",
   "name": "python",
   "nbconvert_exporter": "python",
   "pygments_lexer": "ipython3",
   "version": "3.10.6"
  }
 },
 "nbformat": 4,
 "nbformat_minor": 2
}
