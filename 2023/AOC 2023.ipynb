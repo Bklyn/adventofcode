{
 "cells": [
  {
   "cell_type": "code",
   "execution_count": null,
   "metadata": {},
   "outputs": [],
   "source": [
    "from aoc import *\n",
    "import re\n",
    "import os\n",
    "from aocd.models import Puzzle as AOCDPuzzle\n",
    "\n",
    "\n",
    "def Puzzle(day, year=2023):\n",
    "    return AOCDPuzzle(year=year, day=day)"
   ]
  },
  {
   "cell_type": "code",
   "execution_count": null,
   "metadata": {},
   "outputs": [],
   "source": [
    "p = Puzzle(day=1)"
   ]
  },
  {
   "cell_type": "code",
   "execution_count": null,
   "metadata": {},
   "outputs": [],
   "source": [
    "WORDS = {\n",
    "    \"one\": 1,\n",
    "    \"two\": 2,\n",
    "    \"three\": 3,\n",
    "    \"four\": 4,\n",
    "    \"five\": 5,\n",
    "    \"six\": 6,\n",
    "    \"seven\": 7,\n",
    "    \"eight\": 8,\n",
    "    \"nine\": 9,\n",
    "}\n",
    "\n",
    "\n",
    "def words_to_digits(s: str):\n",
    "    while True:\n",
    "        first = 10**9\n",
    "        word = None\n",
    "        digit = None\n",
    "        for w, d in WORDS.items():\n",
    "            idx = s.find(w)\n",
    "            if idx >= 0 and idx < first:\n",
    "                first, word, digit = idx, w, d\n",
    "        if word is None:\n",
    "            break\n",
    "        s = s.replace(word, str(digit), 1)\n",
    "    return s\n",
    "\n",
    "\n",
    "def trebuchet(x):\n",
    "    def digits(line):\n",
    "        return [int(d) for d in line if d.isdigit()]\n",
    "\n",
    "    lines = [digits(line) for line in x.splitlines()]\n",
    "    return sum(digits[0] * 10 + digits[-1] for digits in lines)\n",
    "\n",
    "\n",
    "assert trebuchet(p.examples[0].input_data) == 142\n",
    "assert (\n",
    "    trebuchet(\n",
    "        words_to_digits(\n",
    "            \"\"\"two1nine\n",
    "eightwothree\n",
    "abcone2threexyz\n",
    "xtwone3four\n",
    "4nineeightseven2\n",
    "zoneight234\n",
    "7pqrstsixteen\"\"\"\n",
    "        )\n",
    "    )\n",
    "    == 281\n",
    ")"
   ]
  },
  {
   "cell_type": "code",
   "execution_count": null,
   "metadata": {},
   "outputs": [],
   "source": [
    "print(trebuchet(p.input_data), trebuchet(words_to_digits(p.input_data)))"
   ]
  },
  {
   "cell_type": "code",
   "execution_count": null,
   "metadata": {},
   "outputs": [],
   "source": [
    "p = Puzzle(day=2)"
   ]
  },
  {
   "cell_type": "code",
   "execution_count": null,
   "metadata": {},
   "outputs": [],
   "source": [
    "def parse_cube_game(line):\n",
    "    def parse_round(r):\n",
    "        return dict(\n",
    "            (tpl[1], int(tpl[0]))\n",
    "            for tpl in [tuple(x for x in t.split(\" \")) for t in r.split(\", \")]\n",
    "        )\n",
    "\n",
    "    game, rest = line.strip().split(\": \")\n",
    "    game = int(game[5:])\n",
    "    rounds = [parse_round(r) for r in rest.split(\"; \")]\n",
    "    return game, rounds\n",
    "\n",
    "\n",
    "def valid_round(round: dict, cubes: dict):\n",
    "    return all(balls <= cubes[color] for color, balls in round.items())\n",
    "\n",
    "\n",
    "def cube_game(data, cubes: dict = {\"red\": 12, \"green\": 13, \"blue\": 14}):\n",
    "    valid_games = 0\n",
    "    total_power = 0\n",
    "    for line in data.splitlines():\n",
    "        game, rounds = parse_cube_game(line)\n",
    "        if all(valid_round(r, cubes) for r in rounds):\n",
    "            valid_games += game\n",
    "        min_balls = defaultdict(int)\n",
    "        for r in rounds:\n",
    "            for color, count in r.items():\n",
    "                min_balls[color] = max(min_balls[color], count)\n",
    "        power = min_balls[\"red\"] * min_balls[\"green\"] * min_balls[\"blue\"]\n",
    "        total_power += power\n",
    "    return valid_games, total_power\n",
    "\n",
    "\n",
    "assert (8, 2286) == cube_game(p.examples[0].input_data)"
   ]
  },
  {
   "cell_type": "code",
   "execution_count": null,
   "metadata": {},
   "outputs": [],
   "source": [
    "p.answers = cube_game(p.input_data)"
   ]
  },
  {
   "cell_type": "code",
   "execution_count": null,
   "metadata": {},
   "outputs": [],
   "source": [
    "p = Puzzle(day=3)"
   ]
  },
  {
   "cell_type": "code",
   "execution_count": null,
   "metadata": {},
   "outputs": [],
   "source": [
    "def parse_gears(input):\n",
    "    total = 0\n",
    "    gear_ratio = 0\n",
    "    schematic = [l.strip() for l in input.splitlines()]\n",
    "    gears = defaultdict(set)\n",
    "\n",
    "    def is_part(row, start, end):\n",
    "        result = False\n",
    "        for x in range(start, end):\n",
    "            for xx, yy in neighbors8((x, row)):\n",
    "                if xx < 0 or xx >= len(line) or yy < 0 or yy >= len(schematic):\n",
    "                    continue\n",
    "                n = schematic[yy][xx]\n",
    "                if n.isdigit() or n == \".\":\n",
    "                    continue\n",
    "                if n == \"*\":\n",
    "                    gears[(xx, yy)].add((row, start, int(schematic[row][start:end])))\n",
    "                result = True\n",
    "        return result\n",
    "\n",
    "    for row, line in enumerate(schematic):\n",
    "        for m in re.finditer(r\"\\d+\", line):\n",
    "            start, end = m.span()\n",
    "            num = int(line[start:end])\n",
    "            if is_part(row, start, end):\n",
    "                total += num\n",
    "    for pos, parts in gears.items():\n",
    "        if len(parts) != 2:\n",
    "            continue\n",
    "        parts = list(parts)\n",
    "        gear_ratio += parts[0][-1] * parts[1][-1]\n",
    "    return total, gear_ratio\n",
    "\n",
    "\n",
    "assert (4361, 467835) == parse_gears(p.examples[0].input_data)"
   ]
  },
  {
   "cell_type": "code",
   "execution_count": null,
   "metadata": {},
   "outputs": [],
   "source": [
    "p.answers = parse_gears(p.input_data)"
   ]
  },
  {
   "cell_type": "code",
   "execution_count": null,
   "metadata": {},
   "outputs": [],
   "source": [
    "p = Puzzle(day=4)"
   ]
  },
  {
   "cell_type": "code",
   "execution_count": null,
   "metadata": {},
   "outputs": [],
   "source": [
    "def scratchcards(data):\n",
    "    total = 0\n",
    "    copies = defaultdict(lambda: 1)\n",
    "    for line in data.splitlines():\n",
    "        m = re.match(r\"^Card\\s+(\\d+): ([\\d\\s]+) \\| ([\\d\\s]+)\", line.strip())\n",
    "        assert m, line\n",
    "        card, winners, have = (\n",
    "            int(m.group(1)),\n",
    "            set(vector(m.group(2))),\n",
    "            set(vector(m.group(3))),\n",
    "        )\n",
    "        hits = len(winners & have)\n",
    "        points = 2 ** (hits - 1) if hits > 0 else 0\n",
    "        total += points\n",
    "        copies[card]\n",
    "        for x in range(card + 1, card + hits + 1):\n",
    "            copies[x] += copies[card]\n",
    "    return total, sum(copies.values())\n",
    "\n",
    "\n",
    "assert (13, 30) == scratchcards(p.examples[0].input_data)"
   ]
  },
  {
   "cell_type": "code",
   "execution_count": null,
   "metadata": {},
   "outputs": [],
   "source": [
    "p.answers = scratchcards(p.input_data)"
   ]
  },
  {
   "cell_type": "code",
   "execution_count": null,
   "metadata": {},
   "outputs": [],
   "source": [
    "p = Puzzle(day=5)"
   ]
  },
  {
   "cell_type": "code",
   "execution_count": null,
   "metadata": {},
   "outputs": [],
   "source": [
    "def parse_seeds(data):\n",
    "    lines = data.splitlines()\n",
    "    seeds = vector(lines[0][6:])\n",
    "    maps = []\n",
    "    m = None\n",
    "    for line in lines[2:]:\n",
    "        if not line.strip():\n",
    "            continue\n",
    "        if line.endswith(\"map:\"):\n",
    "            maps.append([])\n",
    "            m = maps[-1]\n",
    "            continue\n",
    "        m.append(vector(line))\n",
    "    return seeds, maps\n",
    "\n",
    "\n",
    "def map_val(val, m):\n",
    "    for dest, src, length in m:\n",
    "        offset = val - src\n",
    "        if 0 <= offset < length:\n",
    "            return dest + offset\n",
    "    return val\n",
    "\n",
    "\n",
    "def map_range(start: int, count: int, m: tuple[int]):\n",
    "    queue = [(start, count)]\n",
    "    while queue:\n",
    "        (start, count) = queue.pop()\n",
    "        for dest, src, length in m:\n",
    "\n",
    "            def translate(s):\n",
    "                offset = s - src\n",
    "                assert offset >= 0, f\"translate: {s} on {(dest, src, length)}\"\n",
    "                return dest + offset\n",
    "\n",
    "            x = max(src, start)\n",
    "            y = min(src + length, start + count)\n",
    "            if not x < y:\n",
    "                continue\n",
    "            yield translate(x), y - x\n",
    "            if x > start:\n",
    "                queue.append((start, x - start))\n",
    "            if y < start + count:\n",
    "                queue.append((y, start + count - y))\n",
    "            break\n",
    "        else:\n",
    "            yield (start, count)\n",
    "\n",
    "\n",
    "def start_garden(seeds, maps):\n",
    "    best = BIG\n",
    "    for dest in seeds:\n",
    "        for m in maps:\n",
    "            dest = map_val(dest, m)\n",
    "        best = min(best, dest)\n",
    "    part2 = BIG\n",
    "    for start, count in grouper(seeds, 2):\n",
    "        if count > 1_000_000:\n",
    "            continue\n",
    "        for dest in range(start, start + count):\n",
    "            for m in maps:\n",
    "                dest = map_val(dest, m)\n",
    "            part2 = min(part2, dest)\n",
    "    return best, part2\n",
    "\n",
    "\n",
    "assert (35, 46) == start_garden(*parse_seeds(p.examples[0].input_data))"
   ]
  },
  {
   "cell_type": "code",
   "execution_count": null,
   "metadata": {},
   "outputs": [],
   "source": [
    "p.answer_a = start_garden(*parse_seeds(p.input_data))[0]"
   ]
  },
  {
   "cell_type": "code",
   "execution_count": null,
   "metadata": {},
   "outputs": [],
   "source": [
    "seeds, maps = parse_seeds(p.input_data)\n",
    "best = 10**10\n",
    "for node, count in grouper(seeds, 2):\n",
    "    dests = [(node, count)]\n",
    "    for i, m in enumerate(maps, 1):\n",
    "        dests = [x for d in dests for x in map_range(*d, m)]\n",
    "    best = min(best, min(dests)[0])\n",
    "\n",
    "p.answer_b = best"
   ]
  },
  {
   "cell_type": "code",
   "execution_count": null,
   "metadata": {},
   "outputs": [],
   "source": [
    "p = Puzzle(day=6)"
   ]
  },
  {
   "cell_type": "code",
   "execution_count": null,
   "metadata": {},
   "outputs": [],
   "source": [
    "def boat_race(data):\n",
    "    d = array(data)\n",
    "    races = dict(zip(d[0][1:], d[1][1:]))\n",
    "\n",
    "    def ways_to_win(time, distance):\n",
    "        wins = 0\n",
    "        winning = False\n",
    "        for speed in range(time + 1):\n",
    "            if speed * (time - speed) > distance:\n",
    "                wins += 1\n",
    "                winning = True\n",
    "                continue\n",
    "            if winning:\n",
    "                break\n",
    "        return wins\n",
    "\n",
    "    results = []\n",
    "    for time, distance in races.items():\n",
    "        results.append(ways_to_win(time, distance))\n",
    "    part_a = multiply(results)\n",
    "    d = array(data.replace(\" \", \"\"))\n",
    "    races = dict(zip(d[0][1:], d[1][1:]))\n",
    "    results = []\n",
    "    for time, distance in races.items():\n",
    "        results.append(ways_to_win(time, distance))\n",
    "    return part_a, multiply(results)\n",
    "\n",
    "\n",
    "assert (288, 71503) == boat_race(p.examples[0].input_data)"
   ]
  },
  {
   "cell_type": "code",
   "execution_count": null,
   "metadata": {},
   "outputs": [],
   "source": [
    "p.answers = boat_race(p.input_data)"
   ]
  },
  {
   "cell_type": "code",
   "execution_count": null,
   "metadata": {},
   "outputs": [],
   "source": [
    "p = Puzzle(day=7)"
   ]
  },
  {
   "cell_type": "code",
   "execution_count": null,
   "metadata": {},
   "outputs": [],
   "source": [
    "def card_rank(card: str, jokers: bool = False):\n",
    "    if not jokers:\n",
    "        return \"AKQJT98765432\".index(card)\n",
    "    return \"AKQT98765432J\".index(card)\n",
    "\n",
    "\n",
    "def hand_order(hand: str, jokers: bool = False):\n",
    "    return tuple(card_rank(c, jokers) for c in hand)\n",
    "\n",
    "\n",
    "def hand_type(hand: str, use_jokers: bool = False):\n",
    "    c = Counter(hand)\n",
    "    if use_jokers:\n",
    "        # Eliminate Jokers, add them to card with highest count\n",
    "        num_jokers = c.get(\"J\", 0)\n",
    "        if num_jokers < 5:  # We have at least one other card\n",
    "            c.subtract({\"J\": num_jokers})\n",
    "            card = c.most_common(1)[0][0]\n",
    "            c.update({card: num_jokers})\n",
    "    counts = c.most_common()\n",
    "    best = counts[0][1]\n",
    "    if best == 5 or best == 4 or (best == 3 and counts[1][1] == 2):\n",
    "        return 5 - best\n",
    "    if best == 3:  # Not a full house by the test above\n",
    "        return 3\n",
    "    if best == 2 and counts[1][1] == 2:\n",
    "        return 4\n",
    "    if best == 2:\n",
    "        return 5\n",
    "    return 6\n",
    "\n",
    "\n",
    "def camel_cards(data):\n",
    "    hands = array(data)\n",
    "    ordered = sorted(hands, key=lambda t: hand_order(str(t[0])))\n",
    "    ranked = sorted(ordered, key=lambda t: hand_type(str(t[0])))\n",
    "    part_a = sum([i * t[1] for i, t in enumerate(reversed(ranked), 1)])\n",
    "\n",
    "    ordered = sorted(hands, key=lambda t: hand_order(str(t[0]), True))\n",
    "    ranked = sorted(ordered, key=lambda t: hand_type(str(t[0]), True))\n",
    "    part_b = sum([i * t[1] for i, t in enumerate(reversed(ranked), 1)])\n",
    "    return part_a, part_b\n",
    "\n",
    "\n",
    "assert 6440, 5905 == camel_cards(p.examples[0].input_data)"
   ]
  },
  {
   "cell_type": "code",
   "execution_count": null,
   "metadata": {},
   "outputs": [],
   "source": [
    "p.answers = camel_cards(p.input_data)"
   ]
  },
  {
   "cell_type": "code",
   "execution_count": null,
   "metadata": {},
   "outputs": [],
   "source": [
    "p = Puzzle(day=8)"
   ]
  },
  {
   "cell_type": "code",
   "execution_count": null,
   "metadata": {},
   "outputs": [],
   "source": [
    "def wasteland(data):\n",
    "    path, _, *rest = data.splitlines()\n",
    "    graph = dict()\n",
    "    for line in rest:\n",
    "        m = re.match(r\"(\\w+) = \\((\\w+), (\\w+)\\)\", line)\n",
    "        assert m\n",
    "        node, left, right = m.groups()\n",
    "        graph[node] = (left, right)\n",
    "    assert \"AAA\" in graph and \"ZZZ\" in graph\n",
    "    node, num_steps = \"AAA\", 0\n",
    "    while node != \"ZZZ\":\n",
    "        index = 0 if path[num_steps % len(path)] == \"L\" else 1\n",
    "        node = graph[node][index]\n",
    "        num_steps += 1\n",
    "    answer_a = num_steps\n",
    "    starts = [k for k in graph.keys() if k.endswith(\"A\")]\n",
    "    answer_b = []\n",
    "    # Solve each path's \"Z\" problem and calculate the LCM of all\n",
    "    for i, node in enumerate(starts):\n",
    "        num_steps = 0\n",
    "        while not node.endswith(\"Z\"):\n",
    "            index = 0 if path[num_steps % len(path)] == \"L\" else 1\n",
    "            node = graph[node][index]\n",
    "            num_steps += 1\n",
    "        answer_b.append(num_steps)\n",
    "    return answer_a, np.lcm.reduce(answer_b)\n",
    "\n",
    "\n",
    "assert 6, 6 == wasteland(\n",
    "    \"\"\"LLR\n",
    "\n",
    "AAA = (BBB, BBB)\n",
    "BBB = (AAA, ZZZ)\n",
    "ZZZ = (ZZZ, ZZZ)\"\"\"\n",
    ")"
   ]
  },
  {
   "cell_type": "code",
   "execution_count": null,
   "metadata": {},
   "outputs": [],
   "source": [
    "p.answers = wasteland(p.input_data)"
   ]
  },
  {
   "cell_type": "code",
   "execution_count": null,
   "metadata": {},
   "outputs": [],
   "source": []
  }
 ],
 "metadata": {
  "kernelspec": {
   "display_name": "Python 3",
   "language": "python",
   "name": "python3"
  },
  "language_info": {
   "codemirror_mode": {
    "name": "ipython",
    "version": 3
   },
   "file_extension": ".py",
   "mimetype": "text/x-python",
   "name": "python",
   "nbconvert_exporter": "python",
   "pygments_lexer": "ipython3",
   "version": "3.9.5"
  }
 },
 "nbformat": 4,
 "nbformat_minor": 2
}
