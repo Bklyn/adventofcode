{
 "cells": [
  {
   "cell_type": "code",
   "execution_count": null,
   "metadata": {},
   "outputs": [],
   "source": [
    "from aoc import *\n",
    "import re\n",
    "import os\n",
    "from aocd.models import Puzzle as AOCDPuzzle\n",
    "\n",
    "def Puzzle(day, year=2023):\n",
    "   return AOCDPuzzle(year=year, day=day)"
   ]
  },
  {
   "cell_type": "code",
   "execution_count": null,
   "metadata": {},
   "outputs": [],
   "source": [
    "p = Puzzle(day=1)"
   ]
  },
  {
   "cell_type": "code",
   "execution_count": null,
   "metadata": {},
   "outputs": [],
   "source": [
    "WORDS = {\"one\": 1, \"two\": 2, \"three\": 3, \"four\": 4, \"five\": 5, \"six\": 6, \"seven\": 7, \"eight\": 8, \"nine\": 9}\n",
    "\n",
    "def words_to_digits(s: str):\n",
    "    while True:\n",
    "        first = 10**9\n",
    "        word = None\n",
    "        digit = None\n",
    "        for w, d in WORDS.items():\n",
    "            idx = s.find(w)\n",
    "            if idx >= 0 and idx < first:\n",
    "                first, word, digit = idx, w, d\n",
    "        if word is None:\n",
    "            break\n",
    "        s = s.replace(word, str(digit), 1)\n",
    "    return s\n",
    "\n",
    "def trebuchet(x):\n",
    "    def digits(line):\n",
    "        return [int(d) for d in line if d.isdigit()]\n",
    "    lines = [digits(line) for line in x.splitlines()]\n",
    "    return sum(digits[0] * 10 + digits[-1] for digits in lines)\n",
    "\n",
    "assert trebuchet(p.examples[0].input_data) == 142\n",
    "assert trebuchet(words_to_digits('''two1nine\n",
    "eightwothree\n",
    "abcone2threexyz\n",
    "xtwone3four\n",
    "4nineeightseven2\n",
    "zoneight234\n",
    "7pqrstsixteen''')) == 281"
   ]
  },
  {
   "cell_type": "code",
   "execution_count": null,
   "metadata": {},
   "outputs": [],
   "source": [
    "print (trebuchet(p.input_data), trebuchet(words_to_digits(p.input_data)))"
   ]
  },
  {
   "cell_type": "code",
   "execution_count": null,
   "metadata": {},
   "outputs": [],
   "source": [
    "p = Puzzle(day=2)"
   ]
  },
  {
   "cell_type": "code",
   "execution_count": null,
   "metadata": {},
   "outputs": [],
   "source": [
    "def parse_cube_game(line):\n",
    "    def parse_round(r):\n",
    "        return dict((tpl[1], int(tpl[0]))\n",
    "            for tpl in [\n",
    "                tuple(x for x in t.split(' '))\n",
    "                for t in r.split(', ')\n",
    "            ])\n",
    "    game, rest = line.strip().split(': ')\n",
    "    game = int(game[5:])\n",
    "    rounds = [parse_round(r)\n",
    "        for r in rest.split('; ')\n",
    "    ]\n",
    "    return game, rounds\n",
    "\n",
    "def valid_round(round: dict, cubes: dict):\n",
    "    return all(balls <= cubes[color] for color, balls in round.items())\n",
    "\n",
    "def cube_game(data, cubes: dict = {'red': 12, 'green': 13, 'blue': 14}):\n",
    "    valid_games = 0\n",
    "    total_power = 0\n",
    "    for line in data.splitlines():\n",
    "        game, rounds = parse_cube_game(line)\n",
    "        if all(valid_round(r, cubes) for r in rounds):\n",
    "            valid_games += game\n",
    "        min_balls = defaultdict(int)\n",
    "        for r in rounds:\n",
    "            for color, count in r.items():\n",
    "                min_balls[color] = max(min_balls[color], count)\n",
    "        power = min_balls['red'] * min_balls['green'] * min_balls['blue']\n",
    "        total_power += power\n",
    "    return valid_games, total_power\n",
    "\n",
    "assert (8, 2286) == cube_game(p.examples[0].input_data)"
   ]
  },
  {
   "cell_type": "code",
   "execution_count": null,
   "metadata": {},
   "outputs": [],
   "source": [
    "p.answers = cube_game(p.input_data)"
   ]
  },
  {
   "cell_type": "code",
   "execution_count": null,
   "metadata": {},
   "outputs": [],
   "source": [
    "p = Puzzle(day=3)"
   ]
  },
  {
   "cell_type": "code",
   "execution_count": null,
   "metadata": {},
   "outputs": [],
   "source": [
    "def parse_gears(input):\n",
    "    total = 0\n",
    "    gear_ratio = 0\n",
    "    schematic = [l.strip() for l in input.splitlines()]\n",
    "    gears = defaultdict(set)\n",
    "    def is_part(row, start, end):\n",
    "        result = False\n",
    "        for x in range(start, end):\n",
    "            for xx, yy in neighbors8((x, row)):\n",
    "                if xx < 0 or xx >= len(line) or yy < 0 or yy >= len(schematic):\n",
    "                    continue\n",
    "                n = schematic[yy][xx]\n",
    "                if n.isdigit() or n == '.':\n",
    "                    continue\n",
    "                if n == '*':\n",
    "                    gears[(xx, yy)].add((row, start, int(schematic[row][start:end])))\n",
    "                result = True\n",
    "        return result\n",
    "    for row, line in enumerate(schematic):\n",
    "        for m in re.finditer(r'\\d+', line):\n",
    "            start, end = m.span()\n",
    "            num = int(line[start:end])\n",
    "            if is_part(row, start, end):\n",
    "                total += num\n",
    "    for pos, parts in gears.items():\n",
    "        if len(parts) != 2:\n",
    "            continue\n",
    "        parts = list(parts)\n",
    "        gear_ratio += parts[0][-1] * parts[1][-1]\n",
    "    return total, gear_ratio\n",
    "\n",
    "assert (4361, 467835) == parse_gears(p.examples[0].input_data)"
   ]
  },
  {
   "cell_type": "code",
   "execution_count": null,
   "metadata": {},
   "outputs": [],
   "source": [
    "p.answers = parse_gears(p.input_data)"
   ]
  },
  {
   "cell_type": "code",
   "execution_count": null,
   "metadata": {},
   "outputs": [],
   "source": [
    "p = Puzzle(day=4)"
   ]
  },
  {
   "cell_type": "code",
   "execution_count": null,
   "metadata": {},
   "outputs": [],
   "source": [
    "def scratchcards(data):\n",
    "    total = 0\n",
    "    copies = defaultdict(int)\n",
    "    for line in data.splitlines():\n",
    "        m = re.match(r'^Card\\s+(\\d+): ([\\d\\s]+) \\| ([\\d\\s]+)', line.strip())\n",
    "        assert m, line\n",
    "        card, winners, have = int(m.group(1)), set(vector(m.group(2))), set(vector(m.group(3)))\n",
    "        hits = len(winners & have)\n",
    "        points = 2 ** (hits - 1) if hits > 0 else 0\n",
    "        total += points\n",
    "    return total\n",
    "\n",
    "assert 13 == scratchcards(p.examples[0].input_data)"
   ]
  },
  {
   "cell_type": "code",
   "execution_count": null,
   "metadata": {},
   "outputs": [],
   "source": [
    "p.answer_a = scratchcards(p.input_data)"
   ]
  },
  {
   "cell_type": "code",
   "execution_count": null,
   "metadata": {},
   "outputs": [],
   "source": []
  }
 ],
 "metadata": {
  "kernelspec": {
   "display_name": "Python 3",
   "language": "python",
   "name": "python3"
  },
  "language_info": {
   "codemirror_mode": {
    "name": "ipython",
    "version": 3
   },
   "file_extension": ".py",
   "mimetype": "text/x-python",
   "name": "python",
   "nbconvert_exporter": "python",
   "pygments_lexer": "ipython3",
   "version": "3.9.5"
  }
 },
 "nbformat": 4,
 "nbformat_minor": 2
}
