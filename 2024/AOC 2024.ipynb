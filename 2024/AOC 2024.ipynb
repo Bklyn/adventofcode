{
 "cells": [
  {
   "cell_type": "markdown",
   "metadata": {},
   "source": [
    "# Imports"
   ]
  },
  {
   "cell_type": "code",
   "execution_count": null,
   "metadata": {},
   "outputs": [],
   "source": [
    "from aoc import *\n",
    "import re\n",
    "import os\n",
    "import itertools\n",
    "import math\n",
    "from aocd.models import Puzzle as AOCDPuzzle\n",
    "\n",
    "\n",
    "def Puzzle(day, year=2024):\n",
    "    return AOCDPuzzle(year=year, day=day)"
   ]
  },
  {
   "cell_type": "markdown",
   "metadata": {},
   "source": [
    "# Day 1 - Historian Hysteria"
   ]
  },
  {
   "cell_type": "code",
   "execution_count": null,
   "metadata": {},
   "outputs": [],
   "source": [
    "p = Puzzle(1)\n",
    "p"
   ]
  },
  {
   "cell_type": "code",
   "execution_count": null,
   "metadata": {},
   "outputs": [],
   "source": [
    "lines = p.input_data.splitlines()\n",
    "pairs = [tuple(int(i) for i in line.split(\"  \")) for line in lines]\n",
    "lists = [sorted([tpl[i] for tpl in pairs]) for i in range(2)]\n",
    "p.answer_a = sum(abs(a - b) for a, b in zip(*lists))"
   ]
  },
  {
   "cell_type": "code",
   "execution_count": null,
   "metadata": {},
   "outputs": [],
   "source": [
    "from collections import Counter\n",
    "\n",
    "counts = Counter(lists[1])\n",
    "p.answer_b = sum(val * counts[val] for val in lists[0])"
   ]
  },
  {
   "cell_type": "markdown",
   "metadata": {},
   "source": [
    "# Day 2 - Red-Nosed Reports"
   ]
  },
  {
   "cell_type": "code",
   "execution_count": null,
   "metadata": {},
   "outputs": [],
   "source": [
    "p = Puzzle(year=2024, day=2)\n",
    "p"
   ]
  },
  {
   "cell_type": "code",
   "execution_count": null,
   "metadata": {},
   "outputs": [],
   "source": [
    "reports = [vector(line) for line in p.input_data.splitlines()]\n",
    "\n",
    "\n",
    "def is_safe(report):\n",
    "    diffs = [(b - a) for a, b in itertools.pairwise(report)]\n",
    "    return all(1 <= abs(d) <= 3 for d in diffs) and (\n",
    "        all(d > 0 for d in diffs) or all(d < 0 for d in diffs)\n",
    "    )\n",
    "\n",
    "\n",
    "def signum(i):\n",
    "    return -1 if i < 0 else 1 if i > 0 else 0\n",
    "\n",
    "\n",
    "def dampen(report):\n",
    "    return is_safe(report) or (\n",
    "        any(is_safe(report[:i] + report[i + 1 :]) for i in range(len(report)))\n",
    "    )\n",
    "\n",
    "\n",
    "p.answer_a = len([r for r in reports if is_safe(r)])\n",
    "p.answer_b = len([r for r in reports if dampen(r)])"
   ]
  },
  {
   "cell_type": "markdown",
   "metadata": {},
   "source": [
    "# Day 3 - Null It Over"
   ]
  },
  {
   "cell_type": "code",
   "execution_count": null,
   "metadata": {},
   "outputs": [],
   "source": [
    "p = Puzzle(day=3)\n",
    "p"
   ]
  },
  {
   "cell_type": "code",
   "execution_count": null,
   "metadata": {},
   "outputs": [],
   "source": [
    "p.answer_a = sum(\n",
    "    int(x) * int(y) for x, y in re.findall(r\"mul\\((\\d{1,3}),(\\d{1,3})\\)\", p.input_data)\n",
    ")"
   ]
  },
  {
   "cell_type": "code",
   "execution_count": null,
   "metadata": {},
   "outputs": [],
   "source": [
    "def null_it_over_p2(input: str):\n",
    "    instrux = re.findall(r\"mul\\((\\d{1,3}),(\\d{1,3})\\)|(do|don't)\\(\\)\", input)\n",
    "    enabled = True\n",
    "    sum = 0\n",
    "    for x, y, mode in instrux:\n",
    "        if mode == \"do\":\n",
    "            enabled = True\n",
    "        elif mode == \"don't\":\n",
    "            enabled = False\n",
    "        elif enabled:\n",
    "            sum += int(x) * int(y)\n",
    "    return sum\n",
    "\n",
    "\n",
    "assert 48 == null_it_over_p2(\n",
    "    \"\"\"xmul(2,4)&mul[3,7]!^don't()_mul(5,5)+mul(32,64](mul(11,8)undo()?mul(8,5)))\"\"\"\n",
    ")\n",
    "\n",
    "p.answer_b = null_it_over_p2(p.input_data)"
   ]
  },
  {
   "cell_type": "markdown",
   "metadata": {},
   "source": [
    "# Day 4"
   ]
  }
 ],
 "metadata": {
  "kernelspec": {
   "display_name": ".venv",
   "language": "python",
   "name": "python3"
  },
  "language_info": {
   "codemirror_mode": {
    "name": "ipython",
    "version": 3
   },
   "file_extension": ".py",
   "mimetype": "text/x-python",
   "name": "python",
   "nbconvert_exporter": "python",
   "pygments_lexer": "ipython3",
   "version": "3.12.6"
  }
 },
 "nbformat": 4,
 "nbformat_minor": 2
}
