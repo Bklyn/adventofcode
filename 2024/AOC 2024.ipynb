{
 "cells": [
  {
   "cell_type": "markdown",
   "metadata": {},
   "source": [
    "# Imports"
   ]
  },
  {
   "cell_type": "code",
   "execution_count": null,
   "metadata": {},
   "outputs": [],
   "source": [
    "from aoc import *\n",
    "import re\n",
    "import os\n",
    "import itertools\n",
    "import math\n",
    "from aocd.models import Puzzle as AOCDPuzzle\n",
    "\n",
    "\n",
    "def Puzzle(day, year=2024):\n",
    "    return AOCDPuzzle(year=year, day=day)\n",
    "\n",
    "\n",
    "%load_ext line_profiler"
   ]
  },
  {
   "cell_type": "markdown",
   "metadata": {},
   "source": [
    "# Day 1 - Historian Hysteria"
   ]
  },
  {
   "cell_type": "code",
   "execution_count": null,
   "metadata": {},
   "outputs": [],
   "source": [
    "p = Puzzle(1)\n",
    "p"
   ]
  },
  {
   "cell_type": "code",
   "execution_count": null,
   "metadata": {},
   "outputs": [],
   "source": [
    "lines = p.input_data.splitlines()\n",
    "pairs = [tuple(int(i) for i in line.split(\"  \")) for line in lines]\n",
    "lists = [sorted([tpl[i] for tpl in pairs]) for i in range(2)]\n",
    "p.answer_a = sum(abs(a - b) for a, b in zip(*lists))"
   ]
  },
  {
   "cell_type": "code",
   "execution_count": null,
   "metadata": {},
   "outputs": [],
   "source": [
    "from collections import Counter\n",
    "\n",
    "counts = Counter(lists[1])\n",
    "p.answer_b = sum(val * counts[val] for val in lists[0])"
   ]
  },
  {
   "cell_type": "markdown",
   "metadata": {},
   "source": [
    "# Day 2 - Red-Nosed Reports"
   ]
  },
  {
   "cell_type": "code",
   "execution_count": null,
   "metadata": {},
   "outputs": [],
   "source": [
    "p = Puzzle(year=2024, day=2)\n",
    "p"
   ]
  },
  {
   "cell_type": "code",
   "execution_count": null,
   "metadata": {},
   "outputs": [],
   "source": [
    "reports = [vector(line) for line in p.input_data.splitlines()]\n",
    "\n",
    "\n",
    "def is_safe(report):\n",
    "    diffs = [(b - a) for a, b in itertools.pairwise(report)]\n",
    "    return all(1 <= abs(d) <= 3 for d in diffs) and (\n",
    "        all(d > 0 for d in diffs) or all(d < 0 for d in diffs)\n",
    "    )\n",
    "\n",
    "\n",
    "def signum(i):\n",
    "    return -1 if i < 0 else 1 if i > 0 else 0\n",
    "\n",
    "\n",
    "def dampen(report):\n",
    "    return is_safe(report) or (\n",
    "        any(is_safe(report[:i] + report[i + 1 :]) for i in range(len(report)))\n",
    "    )\n",
    "\n",
    "\n",
    "p.answer_a = len([r for r in reports if is_safe(r)])\n",
    "p.answer_b = len([r for r in reports if dampen(r)])"
   ]
  },
  {
   "cell_type": "markdown",
   "metadata": {},
   "source": [
    "# Day 3 - Null It Over"
   ]
  },
  {
   "cell_type": "code",
   "execution_count": null,
   "metadata": {},
   "outputs": [],
   "source": [
    "p = Puzzle(day=3)\n",
    "p"
   ]
  },
  {
   "cell_type": "code",
   "execution_count": null,
   "metadata": {},
   "outputs": [],
   "source": [
    "p.answer_a = sum(\n",
    "    int(x) * int(y) for x, y in re.findall(r\"mul\\((\\d{1,3}),(\\d{1,3})\\)\", p.input_data)\n",
    ")"
   ]
  },
  {
   "cell_type": "code",
   "execution_count": null,
   "metadata": {},
   "outputs": [],
   "source": [
    "def null_it_over_p2(input: str):\n",
    "    instrux = re.findall(r\"mul\\((\\d{1,3}),(\\d{1,3})\\)|(do|don't)\\(\\)\", input)\n",
    "    enabled = True\n",
    "    sum = 0\n",
    "    for x, y, mode in instrux:\n",
    "        if mode == \"do\":\n",
    "            enabled = True\n",
    "        elif mode == \"don't\":\n",
    "            enabled = False\n",
    "        elif enabled:\n",
    "            sum += int(x) * int(y)\n",
    "    return sum\n",
    "\n",
    "\n",
    "assert 48 == null_it_over_p2(\n",
    "    \"\"\"xmul(2,4)&mul[3,7]!^don't()_mul(5,5)+mul(32,64](mul(11,8)undo()?mul(8,5)))\"\"\"\n",
    ")\n",
    "\n",
    "p.answer_b = null_it_over_p2(p.input_data)"
   ]
  },
  {
   "cell_type": "markdown",
   "metadata": {},
   "source": [
    "# Day 4 - Ceres Search"
   ]
  },
  {
   "cell_type": "code",
   "execution_count": null,
   "metadata": {},
   "outputs": [],
   "source": [
    "p = Puzzle(4)\n",
    "p"
   ]
  },
  {
   "cell_type": "code",
   "execution_count": null,
   "metadata": {},
   "outputs": [],
   "source": [
    "SEARCH_DIR = [(-1, -1), (-1, 0), (-1, 1), (0, -1), (0, 1), (1, -1), (1, 0), (1, 1)]\n",
    "\n",
    "\n",
    "def word_search(grid, p, dir, word) -> bool:\n",
    "    for i in range(len(word)):\n",
    "        q = (p[0] + dir[0] * i, p[1] + dir[1] * i)\n",
    "        if grid.get(q) != word[i]:\n",
    "            return False\n",
    "    return True\n",
    "\n",
    "\n",
    "def find_words(input: str, word=\"XMAS\") -> int:\n",
    "    grid = dict(\n",
    "        ((y, x), c)\n",
    "        for y, line in enumerate(input.splitlines())\n",
    "        for x, c in enumerate(line)\n",
    "    )\n",
    "    xes = [p for p, c in grid.items() if c == \"X\"]\n",
    "    answer = 0\n",
    "    for x in xes:\n",
    "        answer += sum(word_search(grid, x, dir, word) for dir in SEARCH_DIR)\n",
    "    return answer\n",
    "\n",
    "\n",
    "def is_x_mas(grid, a) -> bool:\n",
    "    # Only diagonals!\n",
    "    neighbors = [(-1, -1), (1, 1), (-1, 1), (1, -1)]\n",
    "    letters = \"\".join(grid.get((a[0] + n[0], a[1] + n[1]), \"\") for n in neighbors)\n",
    "    return len(letters) == 4 and letters in (\"MSMS\", \"SMSM\", \"SMMS\", \"MSSM\")\n",
    "\n",
    "\n",
    "def find_x_mas(input: str) -> int:\n",
    "    grid = dict(\n",
    "        ((y, x), c)\n",
    "        for y, line in enumerate(input.splitlines())\n",
    "        for x, c in enumerate(line)\n",
    "    )\n",
    "    a_s = [p for p, c in grid.items() if c == \"A\"]\n",
    "    return len([a for a in a_s if is_x_mas(grid, a)])\n",
    "\n",
    "\n",
    "assert 18 == find_words(\n",
    "    \"\"\"MMMSXXMASM\n",
    "MSAMXMSMSA\n",
    "AMXSXMAAMM\n",
    "MSAMASMSMX\n",
    "XMASAMXAMM\n",
    "XXAMMXXAMA\n",
    "SMSMSASXSS\n",
    "SAXAMASAAA\n",
    "MAMMMXMMMM\n",
    "MXMXAXMASX\"\"\"\n",
    ")\n",
    "\n",
    "p.answer_a = find_words(p.input_data)\n",
    "\n",
    "assert 9 == find_x_mas(\n",
    "    \"\"\"MMMSXXMASM\n",
    "MSAMXMSMSA\n",
    "AMXSXMAAMM\n",
    "MSAMASMSMX\n",
    "XMASAMXAMM\n",
    "XXAMMXXAMA\n",
    "SMSMSASXSS\n",
    "SAXAMASAAA\n",
    "MAMMMXMMMM\n",
    "MXMXAXMASX\"\"\"\n",
    ")\n",
    "\n",
    "p.answer_b = find_x_mas(p.input_data)"
   ]
  },
  {
   "cell_type": "markdown",
   "metadata": {},
   "source": [
    "# Day 5"
   ]
  },
  {
   "cell_type": "code",
   "execution_count": null,
   "metadata": {},
   "outputs": [],
   "source": [
    "p = Puzzle(day=5)\n",
    "p"
   ]
  },
  {
   "cell_type": "code",
   "execution_count": null,
   "metadata": {},
   "outputs": [],
   "source": [
    "from collections import defaultdict\n",
    "import functools\n",
    "\n",
    "\n",
    "def sort_update(update, rules):\n",
    "    def page_cmp(a, b):\n",
    "        r1, r2 = rules[a], rules[b]\n",
    "        if b in r1:\n",
    "            return -1\n",
    "        if a in r2:\n",
    "            return 1\n",
    "        return 0\n",
    "\n",
    "    return tuple(sorted(update, key=functools.cmp_to_key(page_cmp)))\n",
    "\n",
    "\n",
    "def update_is_sorted(update, rules):\n",
    "    return update == sort_update(update, rules)\n",
    "\n",
    "\n",
    "def parse_rules(input: str):\n",
    "    rule_text, updates = input.split(\"\\n\\n\")\n",
    "    rules = defaultdict(set)\n",
    "    for before, after in [\n",
    "        vector(line.replace(\"|\", \",\")) for line in rule_text.splitlines()\n",
    "    ]:\n",
    "        rules[before].add(after)\n",
    "    updates = [vector(line) for line in updates.splitlines()]\n",
    "    return rules, updates\n",
    "\n",
    "\n",
    "def print_jobs(input: str) -> int:\n",
    "    rules, updates = parse_rules(input)\n",
    "    total = 0\n",
    "    for update in updates:\n",
    "        is_sorted = update_is_sorted(update, rules)\n",
    "        if is_sorted:\n",
    "            mid = update[len(update) // 2]\n",
    "            total += mid\n",
    "    return total\n",
    "\n",
    "\n",
    "def sort_jobs(input: str) -> int:\n",
    "    rules, updates = parse_rules(input)\n",
    "    total = 0\n",
    "    for update in updates:\n",
    "        new_rules = dict((k, v & set(update)) for k, v in rules.items() if k in update)\n",
    "        supdate = sort_update(update, new_rules)\n",
    "        if update != supdate:\n",
    "            mid = supdate[len(supdate) // 2]\n",
    "            total += mid\n",
    "\n",
    "    return total\n",
    "\n",
    "\n",
    "assert 143 == print_jobs(p.examples[0].input_data)"
   ]
  },
  {
   "cell_type": "code",
   "execution_count": null,
   "metadata": {},
   "outputs": [],
   "source": [
    "p.answer_a = print_jobs(p.input_data)"
   ]
  },
  {
   "cell_type": "code",
   "execution_count": null,
   "metadata": {},
   "outputs": [],
   "source": [
    "p.answer_b = sort_jobs(p.input_data)"
   ]
  },
  {
   "cell_type": "markdown",
   "metadata": {},
   "source": [
    "# Day 6 - Guard Gallivant"
   ]
  },
  {
   "cell_type": "code",
   "execution_count": null,
   "metadata": {},
   "outputs": [],
   "source": [
    "p = Puzzle(day=6)\n",
    "p"
   ]
  },
  {
   "cell_type": "code",
   "execution_count": null,
   "metadata": {},
   "outputs": [],
   "source": [
    "TURNS = {(-1, 0): (0, 1), (0, 1): (1, 0), (1, 0): (0, -1), (0, -1): (-1, 0)}\n",
    "\n",
    "\n",
    "def parse_grid(input: str) -> dict:\n",
    "    return dict(\n",
    "        ((y, x), c)\n",
    "        for y, line in enumerate(input.splitlines())\n",
    "        for x, c in enumerate(line)\n",
    "    )\n",
    "\n",
    "\n",
    "def find_loop(grid: dict, pos: tuple, heading: tuple) -> bool:\n",
    "    seen = set()\n",
    "    save = pos\n",
    "    try:\n",
    "        grid[save] = \"#\"\n",
    "        pos = (pos[0] - heading[0], pos[1] - heading[1])\n",
    "        while True:\n",
    "            if (pos, heading) in seen:\n",
    "                return True\n",
    "            seen.add((pos, heading))\n",
    "            p = (pos[0] + heading[0], pos[1] + heading[1])\n",
    "            c = grid.get(p)\n",
    "            if c is None:\n",
    "                return False\n",
    "            if c == \"#\":\n",
    "                heading = TURNS[heading]\n",
    "                continue\n",
    "            pos = p\n",
    "        return False\n",
    "    finally:\n",
    "        grid[save] = \".\"\n",
    "\n",
    "\n",
    "def guard_path(grid: dict) -> bool:\n",
    "    guard = next(p for p, c in grid.items() if c == \"^\")\n",
    "    heading = (-1, 0)\n",
    "    path = set()\n",
    "    seen = set()\n",
    "    while True:\n",
    "        if (guard, heading) in seen:\n",
    "            raise ValueError(\"Loop detected\")\n",
    "        path.add(guard)\n",
    "        seen.add((guard, heading))\n",
    "        p = (guard[0] + heading[0], guard[1] + heading[1])\n",
    "        c = grid.get(p)\n",
    "        if c is None:\n",
    "            break\n",
    "        if c == \"#\":\n",
    "            heading = TURNS[heading]\n",
    "            continue\n",
    "        guard = p\n",
    "    return path\n",
    "\n",
    "\n",
    "def guard_gallivant(input: str) -> int:\n",
    "    return len(guard_path(parse_grid(input)))\n",
    "\n",
    "\n",
    "def find_loops(input: str) -> int:\n",
    "    grid = parse_grid(input)\n",
    "    loops = 0\n",
    "    pos = next(p for p, c in grid.items() if c == \"^\")\n",
    "    heading = (-1, 0)\n",
    "    seen = set()\n",
    "\n",
    "    while True:\n",
    "        seen.add(pos)\n",
    "        p = (pos[0] + heading[0], pos[1] + heading[1])\n",
    "        if p not in grid:\n",
    "            break\n",
    "        if grid.get(p) == \"#\":\n",
    "            heading = TURNS[heading]\n",
    "            p = (pos[0] + heading[0], pos[1] + heading[1])\n",
    "        if p not in seen and find_loop(grid, p, heading):\n",
    "            loops += 1\n",
    "        pos = p\n",
    "\n",
    "    return loops\n",
    "\n",
    "\n",
    "assert (\n",
    "    guard_gallivant(\n",
    "        \"\"\"....#.....\n",
    ".........#\n",
    "..........\n",
    "..#.......\n",
    ".......#..\n",
    "..........\n",
    ".#..^.....\n",
    "........#.\n",
    "#.........\n",
    "......#...\"\"\"\n",
    "    )\n",
    "    == 41\n",
    ")\n",
    "\n",
    "assert (\n",
    "    find_loops(\n",
    "        \"\"\"....#.....\n",
    ".........#\n",
    "..........\n",
    "..#.......\n",
    ".......#..\n",
    "..........\n",
    ".#..^.....\n",
    "........#.\n",
    "#.........\n",
    "......#...\"\"\"\n",
    "    )\n",
    "    == 6\n",
    ")"
   ]
  },
  {
   "cell_type": "code",
   "execution_count": null,
   "metadata": {},
   "outputs": [],
   "source": [
    "p.answer_a = guard_gallivant(p.input_data)"
   ]
  },
  {
   "cell_type": "code",
   "execution_count": null,
   "metadata": {},
   "outputs": [],
   "source": [
    "p.answer_b = find_loops(p.input_data)"
   ]
  },
  {
   "cell_type": "markdown",
   "metadata": {},
   "source": [
    "# Day 7 - Bridge Repair"
   ]
  },
  {
   "cell_type": "code",
   "execution_count": null,
   "metadata": {},
   "outputs": [],
   "source": [
    "p = Puzzle(day=7)\n",
    "p"
   ]
  },
  {
   "cell_type": "code",
   "execution_count": null,
   "metadata": {},
   "outputs": [],
   "source": [
    "import operator\n",
    "import itertools\n",
    "\n",
    "pow10_table = [10**i for i in range(1, 10)]\n",
    "\n",
    "\n",
    "def concat(n1, n2):\n",
    "    for k in pow10_table:\n",
    "        if n2 - k < 0:\n",
    "            return n1 * k + n2\n",
    "    assert False, f\"{n1} {n2}\"\n",
    "\n",
    "\n",
    "# First pass: brute force solution - ~15s on part 2\n",
    "def solve_equation(answer: int, terms: list[int], operators) -> int:\n",
    "    for ops in itertools.product(operators, repeat=len(terms) - 1):\n",
    "        total = terms[0]\n",
    "        for val, op in zip(terms[1:], ops):\n",
    "            total = op(total, val)\n",
    "            if total > answer:\n",
    "                break\n",
    "        else:\n",
    "            if total == answer:\n",
    "                return ops\n",
    "    return None\n",
    "\n",
    "\n",
    "# RTL recursive solver based on solutions seen on AoC Reddit.\n",
    "def solver(answer: int, terms: list[int], use_concat=False) -> int:\n",
    "    if len(terms) == 1:\n",
    "        return terms[0] == answer\n",
    "    if answer <= 0:\n",
    "        return False\n",
    "    head, tail = terms[:-1], terms[-1]\n",
    "    return (\n",
    "        # Addition\n",
    "        (solver(answer - tail, head, use_concat) if answer > tail else False)\n",
    "        # Multiplication\n",
    "        or (solver(answer // tail, head, use_concat) if answer % tail == 0 else False)\n",
    "        # Concatenation\n",
    "        or (\n",
    "            solver(answer // 10 ** len(str(tail)), head, use_concat)\n",
    "            if (use_concat and str(answer).endswith(str(tail)))\n",
    "            else False\n",
    "        )\n",
    "    )\n",
    "\n",
    "\n",
    "def bridge_repair(input: str, use_concat=False) -> int:\n",
    "    total = 0\n",
    "    # operators = (operator.add, operator.mul) + (concat,) * use_concat\n",
    "    for line in input.splitlines():\n",
    "        answer, *terms = [int(i) for i in re.findall(r\"\\d+\", line)]\n",
    "        if solver(answer, terms, use_concat):\n",
    "            total += answer\n",
    "    return total\n",
    "\n",
    "\n",
    "assert 3749 == bridge_repair(p.examples[0].input_data)\n",
    "\n",
    "assert 11387 == bridge_repair(p.examples[0].input_data, True)"
   ]
  },
  {
   "cell_type": "code",
   "execution_count": null,
   "metadata": {},
   "outputs": [],
   "source": [
    "p.answer_a = bridge_repair(p.input_data)"
   ]
  },
  {
   "cell_type": "code",
   "execution_count": null,
   "metadata": {},
   "outputs": [],
   "source": [
    "p.answer_b = bridge_repair(p.input_data, True)"
   ]
  },
  {
   "cell_type": "markdown",
   "metadata": {},
   "source": [
    "# Day 8: Resonant Collinearity"
   ]
  },
  {
   "cell_type": "code",
   "execution_count": null,
   "metadata": {},
   "outputs": [],
   "source": [
    "p = Puzzle(day=8)\n",
    "p"
   ]
  },
  {
   "cell_type": "code",
   "execution_count": null,
   "metadata": {},
   "outputs": [],
   "source": [
    "def parse_antennas(input: str) -> dict:\n",
    "    graph = parse_grid(input)\n",
    "    antennas = defaultdict(list)\n",
    "    for p, c in graph.items():\n",
    "        if c.isdigit() or c.isalpha():\n",
    "            antennas[c].append(p)\n",
    "    return graph, antennas\n",
    "\n",
    "\n",
    "def antinodes(input: str) -> int:\n",
    "    graph, antennas = parse_antennas(input)\n",
    "    antinodes = set()\n",
    "    for nodes in antennas.values():\n",
    "        for p, q in itertools.combinations(nodes, 2):\n",
    "            dy, dx = q[0] - p[0], q[1] - p[1]\n",
    "            for antinode in ((p[0] - dy, p[1] - dx), (q[0] + dy, q[1] + dx)):\n",
    "                if antinode in graph:\n",
    "                    antinodes.add(antinode)\n",
    "\n",
    "    return len(antinodes)\n",
    "\n",
    "\n",
    "def antinode_harmonics(input: str) -> int:\n",
    "    graph, antennas = parse_antennas(input)\n",
    "    height, width = max(graph.keys())\n",
    "    antinodes = set()\n",
    "    for nodes in antennas.values():\n",
    "        for p, q in itertools.combinations(nodes, 2):\n",
    "            dy, dx = q[0] - p[0], q[1] - p[1]\n",
    "            for i in range(max(height, width) + 1):\n",
    "                nodes = [\n",
    "                    n\n",
    "                    for n in (\n",
    "                        (p[0] - dy * i, p[1] - dx * i),\n",
    "                        (q[0] + dy * i, q[1] + dx * i),\n",
    "                    )\n",
    "                    if n in graph\n",
    "                ]\n",
    "                if not nodes:\n",
    "                    break\n",
    "                antinodes.update(nodes)\n",
    "\n",
    "    return len(antinodes)\n",
    "\n",
    "\n",
    "assert 14 == antinodes(p.examples[0].input_data)\n",
    "assert 34 == antinode_harmonics(p.examples[0].input_data)"
   ]
  },
  {
   "cell_type": "code",
   "execution_count": null,
   "metadata": {},
   "outputs": [],
   "source": [
    "p.answer_a = antinodes(p.input_data)"
   ]
  },
  {
   "cell_type": "code",
   "execution_count": null,
   "metadata": {},
   "outputs": [],
   "source": [
    "p.answer_b = antinode_harmonics(p.input_data)"
   ]
  },
  {
   "cell_type": "markdown",
   "metadata": {},
   "source": [
    "# Day 9 - Disk Fragmenter"
   ]
  },
  {
   "cell_type": "code",
   "execution_count": null,
   "metadata": {},
   "outputs": [],
   "source": [
    "p = Puzzle(day=9)\n",
    "p"
   ]
  },
  {
   "cell_type": "code",
   "execution_count": null,
   "metadata": {},
   "outputs": [],
   "source": [
    "import heapq\n",
    "\n",
    "\n",
    "def build_filesystem(input: str):\n",
    "    used = []\n",
    "    free = []\n",
    "    offset = 0\n",
    "    for i, c in enumerate(input):\n",
    "        num_blocks = int(c)\n",
    "        if not num_blocks:\n",
    "            continue\n",
    "        if i % 2 == 0:\n",
    "            # Files are stored as (-end, -start, fileno)\n",
    "            used.append((-offset - num_blocks, -offset, i // 2))\n",
    "        else:\n",
    "            # Free space represnted as (start, end, None)\n",
    "            free.append((offset, offset + num_blocks, None))\n",
    "        offset += num_blocks\n",
    "    heapq.heapify(used)\n",
    "    heapq.heapify(free)\n",
    "    return used, free\n",
    "\n",
    "\n",
    "def defrag(input: str) -> int:\n",
    "    used, free = build_filesystem(input)\n",
    "    while free and free[0][0] < -used[0][1]:  # min(free)[0] < -(min(used)[0]):\n",
    "        end, start, fileno = heapq.heappop(used)\n",
    "        fstart, fend, _ = heapq.heappop(free)\n",
    "        file_size = start - end  # negative numbers\n",
    "        free_blocks = fend - fstart\n",
    "        moved_blocks = min(file_size, free_blocks)\n",
    "        heapq.heappush(used, (-fstart - moved_blocks, -fstart, fileno))\n",
    "        if moved_blocks < file_size:\n",
    "            heapq.heappush(used, (end + moved_blocks, start, fileno))\n",
    "        fstart += moved_blocks\n",
    "        free_blocks -= moved_blocks\n",
    "        if free_blocks > 0:\n",
    "            heapq.heappush(free, (fstart, fend, None))\n",
    "    total = 0\n",
    "    for end, start, fileno in used:\n",
    "        total += sum(fileno * n for n in range(-start, -end))\n",
    "    return total\n",
    "\n",
    "\n",
    "def defrag_wholefile(input: str) -> int:\n",
    "    used, free = build_filesystem(input)\n",
    "    free_blocks = sorted(free)\n",
    "    result = dict()\n",
    "    for end, start, fileno in sorted(used, key=lambda x: x[2], reverse=True):\n",
    "        file_size = start - end\n",
    "        free_block = None\n",
    "        for i, h in enumerate(free_blocks):\n",
    "            if h[0] > -start:\n",
    "                break\n",
    "            if h[1] - h[0] >= file_size:\n",
    "                free_block = (i, h)\n",
    "                break\n",
    "        if free_block is None:  # No room\n",
    "            result[fileno] = (-start, -end)\n",
    "            continue\n",
    "        i, (fstart, fend, _) = free_block\n",
    "        assert fend - fstart >= file_size\n",
    "        result[fileno] = (fstart, fstart + file_size)\n",
    "        fstart += file_size\n",
    "        if fstart < fend:\n",
    "            free_blocks[i] = (fstart, fend, None)\n",
    "        else:\n",
    "            free_blocks.pop(i)\n",
    "    total = 0\n",
    "    for fileno, (start, end) in result.items():\n",
    "        total += sum(fileno * n for n in range(start, end))\n",
    "    return total\n",
    "\n",
    "\n",
    "assert 1928 == defrag(\"2333133121414131402\")\n",
    "assert 2858 == defrag_wholefile(\"2333133121414131402\")"
   ]
  },
  {
   "cell_type": "code",
   "execution_count": null,
   "metadata": {},
   "outputs": [],
   "source": [
    "# p.answer_a =\n",
    "print(p.answers)\n",
    "defrag(p.input_data.strip())"
   ]
  },
  {
   "cell_type": "code",
   "execution_count": null,
   "metadata": {},
   "outputs": [],
   "source": [
    "# p.answer_b =\n",
    "defrag_wholefile(p.input_data.strip())"
   ]
  },
  {
   "cell_type": "markdown",
   "metadata": {},
   "source": [
    "# Day 10 - Hoof It"
   ]
  },
  {
   "cell_type": "code",
   "execution_count": null,
   "metadata": {},
   "outputs": [],
   "source": [
    "p = Puzzle(day=10)\n",
    "p"
   ]
  },
  {
   "cell_type": "code",
   "execution_count": null,
   "metadata": {},
   "outputs": [],
   "source": [
    "def moves(grid, p):\n",
    "    start = int(grid[p])\n",
    "    for q in neighbors4(p):\n",
    "        if q in grid and grid[q].isdigit() and int(grid[q]) == start + 1:\n",
    "            yield q\n",
    "\n",
    "\n",
    "def score_and_rating(start, goals, moves):\n",
    "    \"\"\"Count number of distinct paths from start to any goal\"\"\"\n",
    "    paths = 0\n",
    "    reached = set()\n",
    "    todo = [(start,)]\n",
    "    while todo:\n",
    "        path = todo.pop()\n",
    "        p = path[-1]\n",
    "        if p in goals:\n",
    "            reached.add(p)\n",
    "            paths += 1\n",
    "            continue\n",
    "        for q in moves(p):\n",
    "            if q not in path:\n",
    "                todo.append(path + (q,))\n",
    "    return len(reached), paths\n",
    "\n",
    "\n",
    "def hoof_it(input: str) -> int:\n",
    "    grid = parse_grid(input)\n",
    "    trailheads = [p for p, c in grid.items() if c == \"0\"]\n",
    "    nines = [p for p, c in grid.items() if c == \"9\"]\n",
    "\n",
    "    moves_func = lambda p: moves(grid, p)\n",
    "    scores_and_ratings = [score_and_rating(t, nines, moves_func) for t in trailheads]\n",
    "    scores = sum(s for s, r in scores_and_ratings)\n",
    "    ratings = sum(r for s, r in scores_and_ratings)\n",
    "    return scores, ratings\n",
    "\n",
    "\n",
    "assert 36, 81 == hoof_it(\n",
    "    \"\"\"89010123\n",
    "78121874\n",
    "87430965\n",
    "96549874\n",
    "45678903\n",
    "32019012\n",
    "01329801\n",
    "10456732\"\"\"\n",
    ")"
   ]
  },
  {
   "cell_type": "code",
   "execution_count": null,
   "metadata": {},
   "outputs": [],
   "source": [
    "p.answers = hoof_it(p.input_data)"
   ]
  },
  {
   "cell_type": "markdown",
   "metadata": {},
   "source": [
    "# Day 11 - Plutonian Pebbles"
   ]
  },
  {
   "cell_type": "code",
   "execution_count": null,
   "metadata": {},
   "outputs": [],
   "source": [
    "p = Puzzle(day=11)\n",
    "p"
   ]
  },
  {
   "cell_type": "code",
   "execution_count": null,
   "metadata": {},
   "outputs": [],
   "source": [
    "def pebble_rules(p):\n",
    "    if p == 0:\n",
    "        yield 1\n",
    "    else:\n",
    "        pstr = str(p)\n",
    "        if len(pstr) % 2 == 0:\n",
    "            yield int(pstr[: len(pstr) // 2])\n",
    "            yield int(pstr[len(pstr) // 2 :])\n",
    "        else:\n",
    "            yield 2024 * p\n",
    "\n",
    "\n",
    "def plutonian_pebbles(input: str, blinks: int) -> int:\n",
    "    pebbles = vector(input)\n",
    "    counts = Counter(pebbles)\n",
    "    for _ in range(blinks):\n",
    "        newcounts = Counter()\n",
    "        for p, count in counts.items():\n",
    "            for q in pebble_rules(p):\n",
    "                newcounts[q] += count\n",
    "        counts = newcounts\n",
    "    return sum(counts.values())\n",
    "\n",
    "\n",
    "assert 55312 == plutonian_pebbles(\"125 17\", 25)"
   ]
  },
  {
   "cell_type": "code",
   "execution_count": null,
   "metadata": {},
   "outputs": [],
   "source": [
    "p.answer_a = plutonian_pebbles(p.input_data, 25)"
   ]
  },
  {
   "cell_type": "code",
   "execution_count": null,
   "metadata": {},
   "outputs": [],
   "source": [
    "p.answer_b = plutonian_pebbles(p.input_data, 75)"
   ]
  },
  {
   "cell_type": "markdown",
   "metadata": {},
   "source": [
    "# Day 12"
   ]
  },
  {
   "cell_type": "code",
   "execution_count": null,
   "metadata": {},
   "outputs": [],
   "source": [
    "p = Puzzle(day=12)\n",
    "p"
   ]
  },
  {
   "cell_type": "code",
   "execution_count": null,
   "metadata": {},
   "outputs": [],
   "source": [
    "p.view()"
   ]
  },
  {
   "cell_type": "code",
   "execution_count": null,
   "metadata": {},
   "outputs": [],
   "source": [
    "def perimeter(graph, region) -> int:\n",
    "    answer = 0\n",
    "    for p in region:\n",
    "        c = graph[p]\n",
    "        answer += 4 - sum(1 for q in neighbors4(p) if graph.get(q) == c)\n",
    "    return answer\n",
    "\n",
    "\n",
    "def count_sides(region) -> int:\n",
    "    sides = defaultdict(set)\n",
    "    outside = set(p for p in region if not all(n in region for n in neighbors4(p)))\n",
    "    for y, x in outside:\n",
    "        if not (y - 1, x) in region:\n",
    "            sides[(\"u\", y)].add(x)\n",
    "        if not (y + 1, x) in region:\n",
    "            sides[(\"d\", y)].add(x)\n",
    "        if not (y, x - 1) in region:\n",
    "            sides[(\"l\", x)].add(y)\n",
    "        if not (y, x + 1) in region:\n",
    "            sides[(\"r\", x)].add(y)\n",
    "    num_sides = 0\n",
    "    for _, points in sides.items():\n",
    "        num_sides += sum(1 for p in points if p - 1 not in points)\n",
    "    return num_sides\n",
    "\n",
    "\n",
    "def find_regions(grid: dict) -> list:\n",
    "    seen = set()\n",
    "    regions = []\n",
    "    for p, c in grid.items():\n",
    "        if p in seen:\n",
    "            continue\n",
    "        region = set([p])\n",
    "        current = [p]\n",
    "        while current:\n",
    "            for n in neighbors4(current.pop()):\n",
    "                x = grid.get(n)\n",
    "                if x == c and n not in region:\n",
    "                    region.add(n)\n",
    "                    current.append(n)\n",
    "        # print(c, p, len(region), perimeter(grid, region))\n",
    "        seen.update(region)\n",
    "        regions.append(region)\n",
    "    assert all(p in seen for r in regions for p in r)\n",
    "    return regions\n",
    "\n",
    "\n",
    "def garden_groups(input: str) -> int:\n",
    "    grid = parse_grid(input)\n",
    "    regions = find_regions(grid)\n",
    "    total = sum(len(r) * perimeter(grid, r) for r in regions)\n",
    "    bulk = sum(len(r) * count_sides(r) for r in regions)\n",
    "    return total, bulk\n",
    "\n",
    "\n",
    "assert 772, 436 == garden_groups(\n",
    "    \"\"\"OOOOO\n",
    "OXOXO\n",
    "OOOOO\n",
    "OXOXO\n",
    "OOOOO\"\"\"\n",
    ")\n",
    "\n",
    "assert 1930, 1206 == garden_groups(\n",
    "    \"\"\"RRRRIICCFF\n",
    "RRRRIICCCF\n",
    "VVRRRCCFFF\n",
    "VVRCCCJFFF\n",
    "VVVVCJJCFE\n",
    "VVIVCCJJEE\n",
    "VVIIICJJEE\n",
    "MIIIIIJJEE\n",
    "MIIISIJEEE\n",
    "MMMISSJEEE\"\"\"\n",
    ")\n",
    "\n",
    "assert 692, 236 == garden_groups(\n",
    "    \"\"\"EEEEE\n",
    "EXXXX\n",
    "EEEEE\n",
    "EXXXX\n",
    "EEEEE\"\"\"\n",
    ")"
   ]
  },
  {
   "cell_type": "code",
   "execution_count": null,
   "metadata": {},
   "outputs": [],
   "source": [
    "p.answers = garden_groups(p.input_data)"
   ]
  }
 ],
 "metadata": {
  "kernelspec": {
   "display_name": ".venv",
   "language": "python",
   "name": "python3"
  },
  "language_info": {
   "codemirror_mode": {
    "name": "ipython",
    "version": 3
   },
   "file_extension": ".py",
   "mimetype": "text/x-python",
   "name": "python",
   "nbconvert_exporter": "python",
   "pygments_lexer": "ipython3",
   "version": "3.12.6"
  }
 },
 "nbformat": 4,
 "nbformat_minor": 2
}
