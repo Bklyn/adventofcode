{
 "cells": [
  {
   "cell_type": "markdown",
   "metadata": {},
   "source": [
    "# Advent Of Code 2015"
   ]
  },
  {
   "cell_type": "code",
   "execution_count": 1,
   "metadata": {},
   "outputs": [],
   "source": [
    "from aoc import *\n",
    "from hashlib import md5"
   ]
  },
  {
   "cell_type": "markdown",
   "metadata": {},
   "source": [
    "# Day 1: Not Quite Lisp\n",
    "Santa was hoping for a white Christmas, but his weather machine's \"snow\" function is powered by stars, and he's fresh out! To save Christmas, he needs you to collect fifty stars by December 25th.\n",
    "\n",
    "Collect stars by helping Santa solve puzzles. Two puzzles will be made available on each day in the Advent calendar; the second puzzle is unlocked when you complete the first. Each puzzle grants one star. Good luck!\n",
    "\n",
    "Here's an easy puzzle to warm you up.\n",
    "\n",
    "Santa is trying to deliver presents in a large apartment building, but he can't find the right floor - the directions he got are a little confusing. He starts on the ground floor (floor 0) and then follows the instructions one character at a time.\n",
    "\n",
    "An opening parenthesis, (, means he should go up one floor, and a closing parenthesis, ), means he should go down one floor.\n",
    "\n",
    "The apartment building is very tall, and the basement is very deep; he will never find the top or bottom floors.\n",
    "\n",
    "For example:\n",
    "```\n",
    "(()) and ()() both result in floor 0.\n",
    "((( and (()(()( both result in floor 3.\n",
    "))((((( also results in floor 3.\n",
    "()) and ))( both result in floor -1 (the first basement level).\n",
    "))) and )())()) both result in floor -3.\n",
    "```\n",
    "To what floor do the instructions take Santa?\n",
    "\n",
    "## Part Two\n",
    "Now, given the same instructions, find the position of the first character that causes him to enter the basement (floor -1). The first character in the instructions has position 1, the second character has position 2, and so on.\n",
    "\n",
    "For example:\n",
    "\n",
    "`)` causes him to enter the basement at character position 1.\n",
    "`()())` causes him to enter the basement at character position 5.\n",
    "What is the position of the character that causes Santa to first enter the basement?"
   ]
  },
  {
   "cell_type": "code",
   "execution_count": 2,
   "metadata": {},
   "outputs": [],
   "source": [
    "def day1(input):\n",
    "   floor = 0\n",
    "   basement = None\n",
    "   for idx, c in enumerate(input.strip(), 1):\n",
    "      if c == '(':\n",
    "         floor += 1\n",
    "      elif c == ')':\n",
    "         floor -= 1\n",
    "         if floor == -1 and basement is None:\n",
    "            basement = idx\n",
    "      else:\n",
    "         assert False, 'Invalid input: {}'.format(c)\n",
    "   return floor, basement\n",
    "\n",
    "assert day1('(())') == (0, None)\n",
    "assert day1(\"(((\") == (3, None)\n",
    "assert day1(\")())())\") == (-3, 1)"
   ]
  },
  {
   "cell_type": "code",
   "execution_count": 3,
   "metadata": {},
   "outputs": [
    {
     "data": {
      "text/plain": [
       "(138, 1771)"
      ]
     },
     "execution_count": 3,
     "metadata": {},
     "output_type": "execute_result"
    }
   ],
   "source": [
    "day1(Input(1).read())"
   ]
  },
  {
   "cell_type": "markdown",
   "metadata": {},
   "source": [
    "# Day 2: I Was Told There Would Be No Math\n",
    "The elves are running low on wrapping paper, and so they need to submit an order for more. They have a list of the dimensions (length l, width w, and height h) of each present, and only want to order exactly as much as they need.\n",
    "\n",
    "Fortunately, every present is a box (a perfect right rectangular prism), which makes calculating the required wrapping paper for each gift a little easier: find the surface area of the box, which is 2*l*w + 2*w*h + 2*h*l. The elves also need a little extra paper for each present: the area of the smallest side.\n",
    "\n",
    "For example:\n",
    "\n",
    "- A present with dimensions 2x3x4 requires 2*6 + 2*12 + 2*8 = 52 square feet of wrapping paper plus 6 square feet of slack, for a total of 58 square feet.\n",
    "- A present with dimensions 1x1x10 requires 2*1 + 2*10 + 2*10 = 42 square feet of wrapping paper plus 1 square foot of slack, for a total of 43 square feet.\n",
    "\n",
    "All numbers in the elves' list are in feet. How many total square feet of wrapping paper should they order?\n",
    "\n",
    "## Part Two\n",
    "The elves are also running low on ribbon. Ribbon is all the same width, so they only have to worry about the length they need to order, which they would again like to be exact.\n",
    "\n",
    "The ribbon required to wrap a present is the shortest distance around its sides, or the smallest perimeter of any one face. Each present also requires a bow made out of ribbon as well; the feet of ribbon required for the perfect bow is equal to the cubic feet of volume of the present. Don't ask how they tie the bow, though; they'll never tell.\n",
    "\n",
    "For example:\n",
    "\n",
    "- A present with dimensions 2x3x4 requires 2+2+3+3 = 10 feet of ribbon to wrap the present plus 2*3*4 = 24 feet of ribbon for the bow, for a total of 34 feet.\n",
    "- A present with dimensions 1x1x10 requires 1+1+1+1 = 4 feet of ribbon to wrap the present plus 1*1*10 = 10 feet of ribbon for the bow, for a total of 14 feet.\n",
    "\n",
    "How many total feet of ribbon should they order?"
   ]
  },
  {
   "cell_type": "code",
   "execution_count": 4,
   "metadata": {},
   "outputs": [],
   "source": [
    "def wrap(input):\n",
    "   paper = 0\n",
    "   ribbon = 0\n",
    "   for line in input.strip().splitlines():\n",
    "      l, w, h = sorted(map(int, line.split('x')))\n",
    "      paper += l * w + 2 * (l * w + w * h + h * l)\n",
    "      ribbon += 2 * (l + w) + l * w * h\n",
    "   return paper, ribbon"
   ]
  },
  {
   "cell_type": "code",
   "execution_count": 5,
   "metadata": {},
   "outputs": [
    {
     "data": {
      "text/plain": [
       "(1598415, 3812909)"
      ]
     },
     "execution_count": 5,
     "metadata": {},
     "output_type": "execute_result"
    }
   ],
   "source": [
    "wrap(Input(2).read())"
   ]
  },
  {
   "cell_type": "markdown",
   "metadata": {},
   "source": [
    "# Day 3: Perfectly Spherical Houses in a Vacuum\n",
    "Santa is delivering presents to an infinite two-dimensional grid of houses.\n",
    "\n",
    "He begins by delivering a present to the house at his starting location, and then an elf at the North Pole calls him via radio and tells him where to move next. Moves are always exactly one house to the north (`^`), south (`v`), east (`>`), or west (`<`). After each move, he delivers another present to the house at his new location.\n",
    "\n",
    "However, the elf back at the north pole has had a little too much eggnog, and so his directions are a little off, and Santa ends up visiting some houses more than once. How many houses receive at least one present?\n",
    "\n",
    "For example:\n",
    "\n",
    "- `>` delivers presents to 2 houses: one at the starting location, and one to the east.\n",
    "- `^>v<` delivers presents to 4 houses in a square, including twice to the house at his starting/ending location.\n",
    "- `^v^v^v^v^v` delivers a bunch of presents to some very lucky children at only 2 houses.\n",
    "\n",
    "## Part Two\n",
    "The next year, to speed up the process, Santa creates a robot version of himself, Robo-Santa, to deliver presents with him.\n",
    "\n",
    "Santa and Robo-Santa start at the same location (delivering two presents to the same starting house), then take turns moving based on instructions from the elf, who is eggnoggedly reading from the same script as the previous year.\n",
    "\n",
    "This year, how many houses receive at least one present?\n",
    "\n",
    "For example:\n",
    "\n",
    "- `^v` delivers presents to 3 houses, because Santa goes north, and then Robo-Santa goes south.\n",
    "- `^>v<` now delivers presents to 3 houses, and Santa and Robo-Santa end up back where they started.\n",
    "- `^v^v^v^v^v` now delivers presents to 11 houses, with Santa going one direction and Robo-Santa going the other."
   ]
  },
  {
   "cell_type": "code",
   "execution_count": 6,
   "metadata": {},
   "outputs": [],
   "source": [
    "MOVES = {'^': UP, 'v': DOWN, '<': LEFT, '>': RIGHT}\n",
    "\n",
    "def houses(input):\n",
    "   pos = origin\n",
    "   seen = set([origin])\n",
    "   for dir in input.strip():\n",
    "      move = MOVES[dir]\n",
    "      pos = (X(pos) + X(move), Y(pos) + Y(move))\n",
    "      seen.add(pos)\n",
    "   return len(seen)\n",
    "\n",
    "def robosanta(input):\n",
    "   santa, robo = origin, origin\n",
    "   seen = set([origin])\n",
    "   for idx, c in enumerate(input):\n",
    "      move = MOVES[c]\n",
    "      if idx % 2 == 0:\n",
    "         santa = (X(santa) + X(move), Y(santa) + Y(move))\n",
    "      else:\n",
    "         robo = (X(robo) + X(move), Y(robo) + Y(move))\n",
    "      seen.add(santa)\n",
    "      seen.add(robo)\n",
    "   return len(seen)\n",
    "\n",
    "assert houses('^v^v^v^v^v') == 2\n",
    "assert robosanta('^v^v^v^v^v') == 11"
   ]
  },
  {
   "cell_type": "code",
   "execution_count": 25,
   "metadata": {},
   "outputs": [
    {
     "data": {
      "text/plain": [
       "(2565, 2639)"
      ]
     },
     "execution_count": 25,
     "metadata": {},
     "output_type": "execute_result"
    }
   ],
   "source": [
    "houses(Input(3).read()), robosanta(Input(3).read())"
   ]
  },
  {
   "cell_type": "markdown",
   "metadata": {},
   "source": [
    "# Day 4: The Ideal Stocking Stuffer\n",
    "Santa needs help mining some AdventCoins (very similar to bitcoins) to use as gifts for all the economically forward-thinking little girls and boys.\n",
    "\n",
    "To do this, he needs to find MD5 hashes which, in hexadecimal, start with at least five zeroes. The input to the MD5 hash is some secret key (your puzzle input, given below) followed by a number in decimal. To mine AdventCoins, you must find Santa the lowest positive number (no leading zeroes: 1, 2, 3, ...) that produces such a hash.\n",
    "\n",
    "For example:\n",
    "\n",
    "- nIf your secret key is `abcdef`, the answer is `609043`, because the MD5 hash of `abcdef609043` starts with five zeroes (`000001dbbfa...`), and it is the lowest such number to do so.\n",
    "- If your secret key is pqrstuv, the lowest number it combines with to make an MD5 hash starting with five zeroes is 1048970; that is, the MD5 hash of `pqrstuv1048970` looks like `000006136ef....`\n",
    "\n",
    "Your puzzle input is `ckczppom`."
   ]
  },
  {
   "cell_type": "code",
   "execution_count": 8,
   "metadata": {},
   "outputs": [],
   "source": [
    "def miner(key):\n",
    "   index = 0\n",
    "   a1 = None\n",
    "   while True:\n",
    "      digest = md5((key + str(index)).encode('utf-8')).hexdigest()\n",
    "      if digest.startswith('00000'):\n",
    "         if a1 is None:\n",
    "            a1 = index\n",
    "         if digest.startswith('000000'):\n",
    "            break\n",
    "      index += 1\n",
    "   return a1, index\n",
    "\n",
    "# assert miner('abcdef') == (609043, 6742839)"
   ]
  },
  {
   "cell_type": "code",
   "execution_count": 9,
   "metadata": {},
   "outputs": [
    {
     "data": {
      "text/plain": [
       "(117946, 3938038)"
      ]
     },
     "execution_count": 9,
     "metadata": {},
     "output_type": "execute_result"
    }
   ],
   "source": [
    "miner('ckczppom')"
   ]
  },
  {
   "cell_type": "markdown",
   "metadata": {},
   "source": [
    "# Day 5: Doesn't He Have Intern-Elves For This?\n",
    "Santa needs help figuring out which strings in his text file are naughty or nice.\n",
    "\n",
    "A nice string is one with all of the following properties:\n",
    "\n",
    "- It contains at least three vowels (aeiou only), like aei, xazegov, or aeiouaeiouaeiou.\n",
    "- It contains at least one letter that appears twice in a row, like xx, abcdde (dd), or aabbccdd (aa, bb, cc, or dd).\n",
    "- It does not contain the strings ab, cd, pq, or xy, even if they are part of one of the other requirements.\n",
    "\n",
    "For example:\n",
    "\n",
    "- ugknbfddgicrmopn is nice because it has at least three vowels (u...i...o...), a double letter (...dd...), and none of the disallowed substrings.\n",
    "- aaa is nice because it has at least three vowels and a double letter, even though the letters used by different rules overlap.\n",
    "- jchzalrnumimnmhp is naughty because it has no double letter.\n",
    "- haegwjzuvuyypxyu is naughty because it contains the string xy.\n",
    "- dvszwmarrgswjxmb is naughty because it contains only one vowel.\n",
    "\n",
    "How many strings are nice?\n",
    "\n",
    "## Part Two\n",
    "Realizing the error of his ways, Santa has switched to a better model of determining whether a string is naughty or nice. None of the old rules apply, as they are all clearly ridiculous.\n",
    "\n",
    "Now, a nice string is one with all of the following properties:\n",
    "\n",
    "- It contains a pair of any two letters that appears at least twice in the string without overlapping, like `xyxy` (`xy`) or aabcdefgaa (`aa`), but not like `aaa` (`aa`, but it overlaps).\n",
    "- It contains at least one letter which repeats with exactly one letter between them, like `xyx`, `abcdefeghi` (`efe`), or even aaa.\n",
    "\n",
    "For example:\n",
    "\n",
    "- `qjhvhtzxzqqjkmpb` is nice because is has a pair that appears twice (qj) and a letter that repeats with exactly one letter between them (zxz).\n",
    "- `xxyxx` is nice because it has a pair that appears twice and a letter that repeats with one between, even though the letters used by each rule overlap.\n",
    "- `uurcxstgmygtbstg` is naughty because it has a pair (tg) but no repeat with a single letter between them.\n",
    "- `ieodomkazucvgmuy` is naughty because it has a repeating letter with one between (odo), but no pair that appears twice.\n",
    "\n",
    "How many strings are nice under these new rules?"
   ]
  },
  {
   "cell_type": "code",
   "execution_count": 10,
   "metadata": {},
   "outputs": [],
   "source": [
    "def isnice(s):\n",
    "   s = s.strip().lower()\n",
    "   vowels = sum(1 for c in s if c in 'aeiou')\n",
    "   if vowels < 3:\n",
    "      return False\n",
    "   doubles = sum([c + c in s for c in set(s)])\n",
    "   if doubles < 1:\n",
    "      return False\n",
    "   verboten = any(k in s for k in ('ab', 'cd', 'pq', 'xy'))\n",
    "   return not verboten\n",
    "\n",
    "assert isnice('ugknbfddgicrmopn')\n",
    "assert isnice('aaa')\n",
    "assert not isnice ('jchzalrnumimnmhp')\n",
    "assert not isnice('haegwjzuvuyypxyu')\n",
    "assert not isnice('dvszwmarrgswjxmb')\n",
    "\n",
    "def nice2(s):\n",
    "   s = s.strip().lower()\n",
    "   haspair, repeat = False, False\n",
    "   for i in range(len(s)):\n",
    "      if s[i:i+2] in s[i+2:]:\n",
    "         haspair = True\n",
    "      if i < len(s) - 2 and s[i+2] == s[i]:\n",
    "         repeat = True\n",
    "   return haspair and repeat\n",
    "\n",
    "assert nice2('qjhvhtzxzqqjkmpb')\n",
    "assert nice2('xxyxx')\n",
    "assert not nice2('uurcxstgmygtbstg')\n",
    "assert not nice2('ieodomkazucvgmuy')"
   ]
  },
  {
   "cell_type": "code",
   "execution_count": 11,
   "metadata": {},
   "outputs": [
    {
     "data": {
      "text/plain": [
       "(255, 55)"
      ]
     },
     "execution_count": 11,
     "metadata": {},
     "output_type": "execute_result"
    }
   ],
   "source": [
    "(sum(isnice(s) for s in Input(5).read().strip().splitlines()),\n",
    "sum(nice2(s) for s in Input(5).read().strip().splitlines()))"
   ]
  },
  {
   "cell_type": "markdown",
   "metadata": {},
   "source": [
    "# Day 6: Probably a Fire Hazard\n",
    "\n",
    "Because your neighbors keep defeating you in the holiday house decorating contest year after year, you've decided to deploy one million lights in a 1000x1000 grid.\n",
    "\n",
    "Furthermore, because you've been especially nice this year, Santa has mailed you instructions on how to display the ideal lighting configuration.\n",
    "\n",
    "Lights in your grid are numbered from 0 to 999 in each direction; the lights at each corner are at 0,0, 0,999, 999,999, and 999,0. The instructions include whether to turn on, turn off, or toggle various inclusive ranges given as coordinate pairs. Each coordinate pair represents opposite corners of a rectangle, inclusive; a coordinate pair like 0,0 through 2,2 therefore refers to 9 lights in a 3x3 square. The lights all start turned off.\n",
    "\n",
    "To defeat your neighbors this year, all you have to do is set up your lights by doing the instructions Santa sent you in order.\n",
    "\n",
    "For example:\n",
    "\n",
    "- turn on 0,0 through 999,999 would turn on (or leave on) every light.\n",
    "- toggle 0,0 through 999,0 would toggle the first line of 1000 lights, turning off the ones that were on, and turning on the ones that were off.\n",
    "- turn off 499,499 through 500,500 would turn off (or leave off) the middle four lights.\n",
    "\n",
    "After following the instructions, how many lights are lit?\n",
    "\n",
    "## Part Two\n",
    "You just finish implementing your winning light pattern when you realize you mistranslated Santa's message from Ancient Nordic Elvish.\n",
    "\n",
    "The light grid you bought actually has individual brightness controls; each light can have a brightness of zero or more. The lights all start at zero.\n",
    "\n",
    "The phrase turn on actually means that you should increase the brightness of those lights by 1.\n",
    "\n",
    "The phrase turn off actually means that you should decrease the brightness of those lights by 1, to a minimum of zero.\n",
    "\n",
    "The phrase toggle actually means that you should increase the brightness of those lights by 2.\n",
    "\n",
    "What is the total brightness of all lights combined after following Santa's instructions?\n",
    "\n",
    "For example:\n",
    "\n",
    "turn on 0,0 through 0,0 would increase the total brightness by 1.\n",
    "toggle 0,0 through 999,999 would increase the total brightness by 2000000."
   ]
  },
  {
   "cell_type": "code",
   "execution_count": 12,
   "metadata": {},
   "outputs": [],
   "source": [
    "def lights(input, part2=False):\n",
    "   l = [0 if part2 else False] * 1_000_000\n",
    "   for line in input.strip().splitlines():\n",
    "      words = line.split()\n",
    "      start = tuple(map(int, words[-3].split(',')))\n",
    "      end = tuple(map(int, words[-1].split(',')))\n",
    "      for x in range(X(start), X(end) + 1):\n",
    "         for y in range(Y(start), Y(end) + 1):\n",
    "            idx = 1000 * y + x\n",
    "            if words[0] == \"toggle\":\n",
    "               if part2:\n",
    "                  l[idx] += 2\n",
    "               else:\n",
    "                  l[idx] = not l[idx]\n",
    "            elif words[1] == \"on\":\n",
    "               if part2:\n",
    "                  l[idx] += 1\n",
    "               else:\n",
    "                  l[idx] = True\n",
    "            else:\n",
    "               if part2:\n",
    "                  l[idx] = max(l[idx] - 1, 0)\n",
    "               else:\n",
    "                  l[idx] = False\n",
    "   return sum(l)\n",
    "\n",
    "EX6 = \"\"\"turn on 0,0 through 999,999\n",
    "toggle 0,0 through 999,0\n",
    "turn off 499,499 through 500,500\"\"\"\n",
    "\n",
    "assert lights(EX6) == 1_000_000 - 1000 - 4, lights(EX6)"
   ]
  },
  {
   "cell_type": "code",
   "execution_count": 13,
   "metadata": {},
   "outputs": [
    {
     "data": {
      "text/plain": [
       "377891"
      ]
     },
     "execution_count": 13,
     "metadata": {},
     "output_type": "execute_result"
    }
   ],
   "source": [
    "lights(Input(6).read())"
   ]
  },
  {
   "cell_type": "code",
   "execution_count": 14,
   "metadata": {},
   "outputs": [
    {
     "data": {
      "text/plain": [
       "14110788"
      ]
     },
     "execution_count": 14,
     "metadata": {},
     "output_type": "execute_result"
    }
   ],
   "source": [
    "lights(Input(6).read(), True)"
   ]
  },
  {
   "cell_type": "markdown",
   "metadata": {},
   "source": [
    "#  Day 7: Some Assembly Required\n",
    "\n",
    "This year, Santa brought little Bobby Tables a set of wires and bitwise logic gates! Unfortunately, little Bobby is a little under the recommended age range, and he needs help assembling the circuit.\n",
    "\n",
    "Each wire has an identifier (some lowercase letters) and can carry a 16-bit signal (a number from 0 to 65535). A signal is provided to each wire by a gate, another wire, or some specific value. Each wire can only get a signal from one source, but can provide its signal to multiple destinations. A gate provides no signal until all of its inputs have a signal.\n",
    "\n",
    "The included instructions booklet describes how to connect the parts together: `x AND y -> z` means to connect wires `x` and `y` to an `AND` gate, and then connect its output to wire `z`.\n",
    "\n",
    "For example:\n",
    "\n",
    "`123 -> x` means that the signal 123 is provided to wire `x`.\n",
    "`x AND y -> z` means that the bitwise AND of wire `x` and wire `y` is provided to wire `z`.\n",
    "`p LSHIFT 2 -> q` means that the value from wire `p` is left-shifted by `2` and then provided to wire `q`.\n",
    "`NOT e -> f` means that the bitwise complement of the value from wire `e` is provided to wire `f`.\n",
    "\n",
    "Other possible gates include `OR` (bitwise OR) and `RSHIFT` (right-shift). If, for some reason, you'd like to emulate the circuit instead, almost all programming languages (for example, C, JavaScript, or Python) provide operators for these gates.\n",
    "\n",
    "For example, here is a simple circuit:\n",
    "```\n",
    "123 -> x\n",
    "456 -> y\n",
    "x AND y -> d\n",
    "x OR y -> e\n",
    "x LSHIFT 2 -> f\n",
    "y RSHIFT 2 -> g\n",
    "NOT x -> h\n",
    "NOT y -> i\n",
    "```\n",
    "After it is run, these are the signals on the wires:\n",
    "```\n",
    "d: 72\n",
    "e: 507\n",
    "f: 492\n",
    "g: 114\n",
    "h: 65412\n",
    "i: 65079\n",
    "x: 123\n",
    "y: 456\n",
    "```\n",
    "In little Bobby's kit's instructions booklet (provided as your puzzle input), what signal is ultimately provided to wire `a`?\n",
    "\n",
    "# Part Two\n",
    "\n",
    "Now, take the signal you got on wire a, override wire b to that signal, and reset the other wires (including wire a). What new signal is ultimately provided to wire a?"
   ]
  },
  {
   "cell_type": "code",
   "execution_count": 15,
   "metadata": {},
   "outputs": [],
   "source": [
    "import operator\n",
    "\n",
    "def parse_wiring(input):\n",
    "   circuit = dict()\n",
    "   for line in input.strip().splitlines():\n",
    "      insns, dest = line.split(\" -> \")\n",
    "      insns = list(map(atom, insns.strip().split(\" \")))\n",
    "      if len(insns) == 1:\n",
    "         insns = insns[0]\n",
    "      circuit[dest] = insns\n",
    "   return circuit\n",
    "\n",
    "INSNS = {\n",
    "   \"NOT\": operator.inv,\n",
    "   \"AND\": operator.and_,\n",
    "   \"OR\": operator.or_,\n",
    "   \"LSHIFT\": operator.lshift,\n",
    "   \"RSHIFT\": operator.rshift\n",
    "}\n",
    "\n",
    "def get_wire(circuit, k, depth=0):\n",
    "   assert depth < 100, f\"Infinite recursion {k}\"\n",
    "   v = k\n",
    "   while isinstance(v, str):\n",
    "      v = circuit.get(v, v)\n",
    "   if type(v) is list:\n",
    "      if len(v) == 2:\n",
    "         insn, op = v[0], [v[1]]\n",
    "      else:\n",
    "         insn, op = v[1], [v[0], v[2]]\n",
    "      op = map(lambda x: get_wire(circuit, x), op)\n",
    "      v = INSNS[insn](*op)\n",
    "   v = v & 0xffff\n",
    "   if type(k) is str:\n",
    "      circuit[k] = v\n",
    "   return v\n",
    "\n",
    "def wiring(input):\n",
    "   if type(input) is str:\n",
    "      circuit = parse_wiring(input)\n",
    "   else:\n",
    "      circuit = input\n",
    "   while True:\n",
    "      code = [(k, v) for k, v in circuit.items() if type(v) is not int]\n",
    "      if not code:\n",
    "         break\n",
    "      for k, v in code:\n",
    "         circuit[k] = get_wire(circuit, v)\n",
    "   return circuit\n",
    "      "
   ]
  },
  {
   "cell_type": "code",
   "execution_count": 16,
   "metadata": {},
   "outputs": [],
   "source": [
    "EX7 = \"\"\"\n",
    "123 -> x\n",
    "456 -> y\n",
    "x AND y -> d\n",
    "x OR y -> e\n",
    "x LSHIFT 2 -> f\n",
    "y RSHIFT 2 -> g\n",
    "NOT x -> h\n",
    "NOT y -> i\"\"\"\n",
    "assert wiring(EX7) == {'x': 123, 'y': 456, 'd': 72, 'e': 507, 'f': 492, 'g': 114, 'h': 65412, 'i': 65079}"
   ]
  },
  {
   "cell_type": "code",
   "execution_count": 17,
   "metadata": {},
   "outputs": [
    {
     "data": {
      "text/plain": [
       "(956, 40149)"
      ]
     },
     "execution_count": 17,
     "metadata": {},
     "output_type": "execute_result"
    }
   ],
   "source": [
    "c = parse_wiring(Input(7).read())\n",
    "a = get_wire(wiring(c.copy()), 'a')\n",
    "c['b'] = a\n",
    "a, get_wire(wiring(c.copy()), 'a')"
   ]
  },
  {
   "cell_type": "markdown",
   "metadata": {},
   "source": [
    "# Day 8: Matchsticks\n",
    "Space on the sleigh is limited this year, and so Santa will be bringing his list as a digital copy. He needs to know how much space it will take up when stored.\n",
    "\n",
    "It is common in many programming languages to provide a way to escape special characters in strings. For example, C, JavaScript, Perl, Python, and even PHP handle special characters in very similar ways.\n",
    "\n",
    "However, it is important to realize the difference between the number of characters in the code representation of the string literal and the number of characters in the in-memory string itself.\n",
    "\n",
    "For example:\n",
    "\n",
    "* `\"\"` is 2 characters of code (the two double quotes), but the string contains zero characters.\n",
    "* `\"abc\"` is 5 characters of code, but 3 characters in the string data.\n",
    "* `\"aaa\\\"aaa\"` is 10 characters of code, but the string itself contains six \"a\" characters and a single, escaped quote character, for a total of 7 characters in the string data.\n",
    "* `\"\\x27\"` is 6 characters of code, but the string itself contains just one - an apostrophe ('), escaped using hexadecimal notation.\n",
    "\n",
    "Santa's list is a file that contains many double-quoted string literals, one on each line. The only escape sequences used are \\\\ (which represents a single backslash), \\\" (which represents a lone double-quote character), and \\x plus two hexadecimal characters (which represents a single character with that ASCII code).\n",
    "\n",
    "Disregarding the whitespace in the file, what is the number of characters of code for string literals minus the number of characters in memory for the values of the strings in total for the entire file?\n",
    "\n",
    "For example, given the four strings above, the total number of characters of string code (2 + 5 + 10 + 6 = 23) minus the total number of characters in memory for string values (0 + 3 + 7 + 1 = 11) is 23 - 11 = 12.\n",
    "\n",
    "## Part Two\n",
    "Now, let's go the other way. In addition to finding the number of characters of code, you should now encode each code representation as a new string and find the number of characters of the new encoded representation, including the surrounding double quotes.\n",
    "\n",
    "For example:\n",
    "\n",
    "\"\" encodes to \"\\\"\\\"\", an increase from 2 characters to 6.\n",
    "\"abc\" encodes to \"\\\"abc\\\"\", an increase from 5 characters to 9.\n",
    "\"aaa\\\"aaa\" encodes to \"\\\"aaa\\\\\\\"aaa\\\"\", an increase from 10 characters to 16.\n",
    "\"\\x27\" encodes to \"\\\"\\\\x27\\\"\", an increase from 6 characters to 11.\n",
    "\n",
    "Your task is to find the total number of characters to represent the newly encoded strings minus the number of characters of code in each original string literal. For example, for the strings above, the total encoded length (6 + 9 + 16 + 11 = 42) minus the characters in the original code representation (23, just like in the first part of this puzzle) is 42 - 23 = 19."
   ]
  },
  {
   "cell_type": "code",
   "execution_count": 18,
   "metadata": {},
   "outputs": [],
   "source": [
    "def escape(s):\n",
    "   def esc(c):\n",
    "      if c == \"\\\"\":\n",
    "         return r'\\\"'\n",
    "      if c == \"\\\\\":\n",
    "         return r'\\\\'\n",
    "      return c\n",
    "   return ''.join(esc(c) for c in s)\n",
    "\n",
    "def count_chars(input):\n",
    "   chars, codes, escs = 0, 0, 0\n",
    "   for line in input.strip().splitlines():\n",
    "      chars += len(line)\n",
    "      codes += len(eval(line))\n",
    "      escs += len(escape(line)) + 2\n",
    "   return (chars - codes), (escs - chars)\n",
    "\n",
    "EX8 = r'''\n",
    "\"\"\n",
    "\"abc\"\n",
    "\"aaa\\\"aaa\"\n",
    "\"\\x27\"\n",
    "'''\n",
    "assert count_chars(EX8) == (12, 19)"
   ]
  },
  {
   "cell_type": "code",
   "execution_count": 19,
   "metadata": {},
   "outputs": [
    {
     "data": {
      "text/plain": [
       "(1350, 2085)"
      ]
     },
     "execution_count": 19,
     "metadata": {},
     "output_type": "execute_result"
    }
   ],
   "source": [
    "count_chars(Input(8).read())"
   ]
  },
  {
   "cell_type": "markdown",
   "metadata": {},
   "source": [
    "# Day 9: All in a Single Night\n",
    "\n",
    "Every year, Santa manages to deliver all of his presents in a single night.\n",
    "\n",
    "This year, however, he has some new locations to visit; his elves have provided him the distances between every pair of locations. He can start and end at any two (different) locations he wants, but he must visit each location exactly once. What is the shortest distance he can travel to achieve this?\n",
    "\n",
    "For example, given the following distances:\n",
    "```\n",
    "London to Dublin = 464\n",
    "London to Belfast = 518\n",
    "Dublin to Belfast = 141\n",
    "```\n",
    "The possible routes are therefore:\n",
    "```\n",
    "Dublin -> London -> Belfast = 982\n",
    "London -> Dublin -> Belfast = 605\n",
    "London -> Belfast -> Dublin = 659\n",
    "Dublin -> Belfast -> London = 659\n",
    "Belfast -> Dublin -> London = 605\n",
    "Belfast -> London -> Dublin = 982\n",
    "```\n",
    "The shortest of these is London -> Dublin -> Belfast = 605, and so the answer is 605 in this example.\n",
    "\n",
    "What is the distance of the shortest route?"
   ]
  },
  {
   "cell_type": "code",
   "execution_count": 20,
   "metadata": {},
   "outputs": [],
   "source": [
    "def santa_path(input):\n",
    "   distances = defaultdict(dict)\n",
    "   for line in input.strip().splitlines():\n",
    "      c, dist = line.split(\" = \")\n",
    "      cfrom, cto = c.split(\" to \")\n",
    "      distances[cfrom][cto] = distances[cto][cfrom] = int(dist)\n",
    "   best, worst = 10**10, 0\n",
    "   for path in permutations(distances, len(distances)):\n",
    "      l = sum(distances[x][y] for x, y in pairwise(path))\n",
    "      best = min(best, l)\n",
    "      worst = max(worst, l)\n",
    "   return best, worst\n",
    "\n",
    "EX9 = \"\"\"\n",
    "London to Dublin = 464\n",
    "London to Belfast = 518\n",
    "Dublin to Belfast = 141\n",
    "\"\"\"\n",
    "\n",
    "assert santa_path(EX9) == (605, 982)"
   ]
  },
  {
   "cell_type": "code",
   "execution_count": 21,
   "metadata": {},
   "outputs": [
    {
     "data": {
      "text/plain": [
       "(207, 804)"
      ]
     },
     "execution_count": 21,
     "metadata": {},
     "output_type": "execute_result"
    }
   ],
   "source": [
    "santa_path(Input(9).read())"
   ]
  },
  {
   "cell_type": "markdown",
   "metadata": {},
   "source": [
    "# Day 10: Elves Look, Elves Say\n",
    "Today, the Elves are playing a game called look-and-say. They take turns making sequences by reading aloud the previous sequence and using that reading as the next sequence. For example, 211 is read as \"one two, two ones\", which becomes 1221 (1 2, 2 1s).\n",
    "\n",
    "Look-and-say sequences are generated iteratively, using the previous value as input for the next step. For each step, take the previous value, and replace each run of digits (like 111) with the number of digits (3) followed by the digit itself (1).\n",
    "\n",
    "For example:\n",
    "\n",
    "- `1` becomes `11` (`1` copy of digit `1`).\n",
    "- `11` becomes `21` (`2` copies of digit `1`).\n",
    "- `21` becomes `1211` (one `2` followed by one `1`).\n",
    "- `1211` becomes `111221` (one `1`, one `2`, and two `1`s).\n",
    "- `111221` becomes `312211` (three `1`s, two `2`s, and one `1`).\n",
    "\n",
    "Starting with the digits in your puzzle input, apply this process 40 times. What is the length of the result?\n",
    "\n",
    "Your puzzle input is `3113322113`.\n",
    "\n",
    "## Part Two\n",
    "Neat, right? You might also enjoy hearing John Conway talking about this sequence (that's Conway of Conway's Game of Life fame).\n",
    "\n",
    "Now, starting again with the digits in your puzzle input, apply this process 50 times. What is the length of the new result?"
   ]
  },
  {
   "cell_type": "code",
   "execution_count": 22,
   "metadata": {},
   "outputs": [],
   "source": [
    "def rle(s):\n",
    "   for d, l in groupby(s):\n",
    "      yield str(len(list(l))) + d\n",
    "\n",
    "def look_and_say(s):\n",
    "   return ''.join(rle(s))\n",
    "   \n",
    "assert look_and_say(\"111221\") == \"312211\""
   ]
  },
  {
   "cell_type": "code",
   "execution_count": 23,
   "metadata": {},
   "outputs": [
    {
     "data": {
      "text/plain": [
       "329356"
      ]
     },
     "execution_count": 23,
     "metadata": {},
     "output_type": "execute_result"
    }
   ],
   "source": [
    "s = \"3113322113\"\n",
    "for i in range(40):\n",
    "   s = look_and_say(s)\n",
    "len(s)"
   ]
  },
  {
   "cell_type": "code",
   "execution_count": 24,
   "metadata": {},
   "outputs": [
    {
     "data": {
      "text/plain": [
       "4666278"
      ]
     },
     "execution_count": 24,
     "metadata": {},
     "output_type": "execute_result"
    }
   ],
   "source": [
    "s = \"3113322113\"\n",
    "for i in range(50):\n",
    "   s = look_and_say(s)\n",
    "len(s)"
   ]
  },
  {
   "cell_type": "markdown",
   "metadata": {},
   "source": [
    "# Day 11: Corporate Policy\n",
    "\n",
    "Santa's previous password expired, and he needs help choosing a new one.\n",
    "\n",
    "To help him remember his new password after the old one expires, Santa has devised a method of coming up with a password based on the previous one. Corporate policy dictates that passwords must be exactly eight lowercase letters (for security reasons), so he finds his new password by incrementing his old password string repeatedly until it is valid.\n",
    "\n",
    "Incrementing is just like counting with numbers: xx, xy, xz, ya, yb, and so on. Increase the rightmost letter one step; if it was z, it wraps around to a, and repeat with the next letter to the left until one doesn't wrap around.\n",
    "\n",
    "Unfortunately for Santa, a new Security-Elf recently started, and he has imposed some additional password requirements:\n",
    "\n",
    "- Passwords must include one increasing straight of at least three letters, like `abc`, `bcd`, `cde`, and so on, up to `xyz`. They cannot skip letters; `abd` doesn't count.\n",
    "- Passwords may not contain the letters `i`, `o`, or `l`, as these letters can be mistaken for other characters and are therefore confusing.\n",
    "- Passwords must contain at least two different, non-overlapping pairs of letters, like `aa`, `bb`, or `zz`.\n",
    "\n",
    "For example:\n",
    "- `hijklmmn` meets the first requirement (because it contains the straight hij) but fails the second requirement requirement (because it contains i and l).\n",
    "- `abbceffg` meets the third requirement (because it repeats bb and ff) but fails the first requirement.\n",
    "- `abbcegjk` fails the third requirement, because it only has one double letter (bb).\n",
    "- The next password after `abcdefgh` is `abcdffaa`.\n",
    "- The next password after `ghijklmn` is `ghjaabcc`, because you eventually skip all the passwords that start with `ghi...`, since i is not allowed.\n",
    "\n",
    "Given Santa's current password (your puzzle input), what should his next password be?\n",
    "\n",
    "Your puzzle input is `hxbxwxba`"
   ]
  },
  {
   "cell_type": "code",
   "execution_count": 64,
   "metadata": {},
   "outputs": [],
   "source": [
    "def valid_password(s):\n",
    "   if any(c in s for c in 'ilo'):\n",
    "      return False\n",
    "   for i, c in enumerate(s[:-2]):\n",
    "      if c < 'y' and s[i+1] == chr(ord(c) + 1) and s[i+2] == chr(ord(c) + 2):\n",
    "         break\n",
    "   else:\n",
    "      return False\n",
    "   pairs = 0\n",
    "   i = 0\n",
    "   while i < len(s) - 1:\n",
    "      if s[i] == s[i+1]:\n",
    "         pairs += 1\n",
    "         i += 1\n",
    "      i += 1\n",
    "   return pairs > 1\n",
    "\n",
    "def base26(s):\n",
    "   val = sum((ord(c) - ord('a')) * (26 ** i)\n",
    "   for i, c in enumerate(reversed(s)))\n",
    "   return val\n",
    "\n",
    "def make_pass(num):\n",
    "   s = ''\n",
    "   while num:\n",
    "      s = chr(ord('a') + (num % 26)) + s\n",
    "      num //= 26\n",
    "   return s\n",
    "\n",
    "def next_pass(p):\n",
    "   v = base26(p) + 1\n",
    "   p = make_pass(v)\n",
    "   while not valid_password(p):\n",
    "      v += 1\n",
    "      p = make_pass(v)\n",
    "   return p\n",
    "\n",
    "assert valid_password(\"ghjaabcc\")\n",
    "assert not valid_password(\"abcdefgh\")"
   ]
  },
  {
   "cell_type": "code",
   "execution_count": 65,
   "metadata": {},
   "outputs": [
    {
     "data": {
      "text/plain": [
       "'hxbxxyzz'"
      ]
     },
     "execution_count": 65,
     "metadata": {},
     "output_type": "execute_result"
    }
   ],
   "source": [
    "next_pass('hxbxwxba')"
   ]
  },
  {
   "cell_type": "code",
   "execution_count": 66,
   "metadata": {},
   "outputs": [
    {
     "data": {
      "text/plain": [
       "'hxcaabcc'"
      ]
     },
     "execution_count": 66,
     "metadata": {},
     "output_type": "execute_result"
    }
   ],
   "source": [
    "next_pass('hxbxxyzz')"
   ]
  },
  {
   "cell_type": "markdown",
   "metadata": {},
   "source": [
    "# Day 12: JSAbacusFramework.io\n",
    "\n",
    "Santa's Accounting-Elves need help balancing the books after a recent order. Unfortunately, their accounting software uses a peculiar storage format. That's where you come in.\n",
    "\n",
    "They have a JSON document which contains a variety of things: arrays ([1,2,3]), objects ({\"a\":1, \"b\":2}), numbers, and strings. Your first job is to simply find all of the numbers throughout the document and add them together.\n",
    "\n",
    "For example:\n",
    "```\n",
    "[1,2,3] and {\"a\":2,\"b\":4} both have a sum of 6.\n",
    "[[[3]]] and {\"a\":{\"b\":4},\"c\":-1} both have a sum of 3.\n",
    "{\"a\":[-1,1]} and [-1,{\"a\":1}] both have a sum of 0.\n",
    "[] and {} both have a sum of 0.\n",
    "```\n",
    "You will not encounter any strings containing numbers.\n",
    "\n",
    "What is the sum of all numbers in the document?\n",
    "\n",
    "## Part Two\n",
    "Uh oh - the Accounting-Elves have realized that they double-counted everything red.\n",
    "\n",
    "Ignore any object (and all of its children) which has any property with the value \"red\". Do this only for objects ({...}), not arrays ([...]).\n",
    "```\n",
    "[1,2,3] still has a sum of 6.\n",
    "[1,{\"c\":\"red\",\"b\":2},3] now has a sum of 4, because the middle object is ignored.\n",
    "{\"d\":\"red\",\"e\":[1,2,3,4],\"f\":5} now has a sum of 0, because the entire structure is ignored.\n",
    "[1,\"red\",5] has a sum of 6, because \"red\" in an array has no effect.\n",
    "```"
   ]
  },
  {
   "cell_type": "code",
   "execution_count": 99,
   "metadata": {},
   "outputs": [],
   "source": [
    "import json\n",
    "\n",
    "def parse_numbers(input, filt=None):\n",
    "   obj = json.loads(input)\n",
    "   def walk(o):\n",
    "      if type(o) is dict:\n",
    "         if filt is None or filt not in o.values():\n",
    "            for k, v in o.items():\n",
    "               yield from walk(v)\n",
    "      elif type(o) is list:\n",
    "         for x in o:\n",
    "            yield from walk(x)\n",
    "      elif type(o) is int:\n",
    "         yield o\n",
    "   return sum(walk(obj))"
   ]
  },
  {
   "cell_type": "code",
   "execution_count": 100,
   "metadata": {},
   "outputs": [
    {
     "data": {
      "text/plain": [
       "(119433, 68466)"
      ]
     },
     "execution_count": 100,
     "metadata": {},
     "output_type": "execute_result"
    }
   ],
   "source": [
    "parse_numbers(Input(12).read()), parse_numbers(Input(12).read(), \"red\")"
   ]
  },
  {
   "cell_type": "markdown",
   "metadata": {},
   "source": [
    "# Day 13: Knights of the Dinner Table\n",
    "In years past, the holiday feast with your family hasn't gone so well. Not everyone gets along! This year, you resolve, will be different. You're going to find the optimal seating arrangement and avoid all those awkward conversations.\n",
    "\n",
    "You start by writing up a list of everyone invited and the amount their happiness would increase or decrease if they were to find themselves sitting next to each other person. You have a circular table that will be just big enough to fit everyone comfortably, and so each person will have exactly two neighbors.\n",
    "\n",
    "For example, suppose you have only four attendees planned, and you calculate their potential happiness as follows:\n",
    "```\n",
    "Alice would gain 54 happiness units by sitting next to Bob.\n",
    "Alice would lose 79 happiness units by sitting next to Carol.\n",
    "Alice would lose 2 happiness units by sitting next to David.\n",
    "Bob would gain 83 happiness units by sitting next to Alice.\n",
    "Bob would lose 7 happiness units by sitting next to Carol.\n",
    "Bob would lose 63 happiness units by sitting next to David.\n",
    "Carol would lose 62 happiness units by sitting next to Alice.\n",
    "Carol would gain 60 happiness units by sitting next to Bob.\n",
    "Carol would gain 55 happiness units by sitting next to David.\n",
    "David would gain 46 happiness units by sitting next to Alice.\n",
    "David would lose 7 happiness units by sitting next to Bob.\n",
    "David would gain 41 happiness units by sitting next to Carol.\n",
    "```\n",
    "Then, if you seat Alice next to David, Alice would lose 2 happiness units (because David talks so much), but David would gain 46 happiness units (because Alice is such a good listener), for a total change of 44.\n",
    "\n",
    "If you continue around the table, you could then seat Bob next to Alice (Bob gains 83, Alice gains 54). Finally, seat Carol, who sits next to Bob (Carol gains 60, Bob loses 7) and David (Carol gains 55, David gains 41). The arrangement looks like this:\n",
    "```\n",
    "     +41 +46\n",
    "+55   David    -2\n",
    "Carol       Alice\n",
    "+60    Bob    +54\n",
    "     -7  +83\n",
    "```\n",
    "After trying every other seating arrangement in this hypothetical scenario, you find that this one is the most optimal, with a total change in happiness of 330.\n",
    "\n",
    "What is the total change in happiness for the optimal seating arrangement of the actual guest list?\n",
    "\n",
    "## Part Two\n",
    "In all the commotion, you realize that you forgot to seat yourself. At this point, you're pretty apathetic toward the whole thing, and your happiness wouldn't really go up or down regardless of who you sit next to. You assume everyone else would be just as ambivalent about sitting next to you, too.\n",
    "\n",
    "So, add yourself to the list, and give all happiness relationships that involve you a score of 0.\n",
    "\n",
    "What is the total change in happiness for the optimal seating arrangement that actually includes yourself?"
   ]
  },
  {
   "cell_type": "code",
   "execution_count": 29,
   "metadata": {},
   "outputs": [],
   "source": [
    "def dinner(input, metoo=False):\n",
    "   guests = defaultdict(dict)\n",
    "   for line in input.strip().splitlines():\n",
    "      words = line.rstrip(\".\").split()\n",
    "      assert len(words) == 11\n",
    "      guests[words[0]][words[-1]] = int(words[3]) * (-1 if words[2] == \"lose\" else 1)\n",
    "      if metoo:\n",
    "         guests[\"me\"][words[0]] = guests[\"me\"][words[-1]] = guests[words[0]][\"me\"] = guests[words[-1]][\"me\"] = 0\n",
    "   def score(seats):\n",
    "      result = 0\n",
    "      for i in range(len(seats)):\n",
    "         g = guests[seats[i]]\n",
    "         result += g[seats[i-1]] + g[seats[(i+1) % len(seats)]]\n",
    "      return result\n",
    "   best = (0, None)\n",
    "   for arr in permutations(guests.keys(), len(guests)):\n",
    "      s = score(arr)\n",
    "      if s > best[0]:\n",
    "         best = (s, arr)\n",
    "   return best\n",
    "\n",
    "EX13 = \"\"\"\n",
    "Alice would gain 54 happiness units by sitting next to Bob.\n",
    "Alice would lose 79 happiness units by sitting next to Carol.\n",
    "Alice would lose 2 happiness units by sitting next to David.\n",
    "Bob would gain 83 happiness units by sitting next to Alice.\n",
    "Bob would lose 7 happiness units by sitting next to Carol.\n",
    "Bob would lose 63 happiness units by sitting next to David.\n",
    "Carol would lose 62 happiness units by sitting next to Alice.\n",
    "Carol would gain 60 happiness units by sitting next to Bob.\n",
    "Carol would gain 55 happiness units by sitting next to David.\n",
    "David would gain 46 happiness units by sitting next to Alice.\n",
    "David would lose 7 happiness units by sitting next to Bob.\n",
    "David would gain 41 happiness units by sitting next to Carol.\n",
    "\"\"\"\n",
    "assert dinner(EX13)[0] == 330"
   ]
  },
  {
   "cell_type": "code",
   "execution_count": 30,
   "metadata": {},
   "outputs": [
    {
     "data": {
      "text/plain": [
       "((618,\n",
       "  ('Alice', 'Eric', 'Bob', 'Carol', 'David', 'George', 'Mallory', 'Frank')),\n",
       " (601,\n",
       "  ('Alice',\n",
       "   'Eric',\n",
       "   'me',\n",
       "   'Bob',\n",
       "   'Carol',\n",
       "   'David',\n",
       "   'George',\n",
       "   'Mallory',\n",
       "   'Frank')))"
      ]
     },
     "execution_count": 30,
     "metadata": {},
     "output_type": "execute_result"
    }
   ],
   "source": [
    "dinner(Input(13).read()), dinner(Input(13).read(), True)"
   ]
  },
  {
   "cell_type": "markdown",
   "metadata": {},
   "source": [
    "# Day 14: Reindeer Olympics\n",
    "This year is the Reindeer Olympics! Reindeer can fly at high speeds, but must rest occasionally to recover their energy. Santa would like to know which of his reindeer is fastest, and so he has them race.\n",
    "\n",
    "Reindeer can only either be flying (always at their top speed) or resting (not moving at all), and always spend whole seconds in either state.\n",
    "\n",
    "For example, suppose you have the following Reindeer:\n",
    "\n",
    "- Comet can fly 14 km/s for 10 seconds, but then must rest for 127 seconds.\n",
    "- Dancer can fly 16 km/s for 11 seconds, but then must rest for 162 seconds.\n",
    "\n",
    "After one second, Comet has gone 14 km, while Dancer has gone 16 km. After ten seconds, Comet has gone 140 km, while Dancer has gone 160 km. On the eleventh second, Comet begins resting (staying at 140 km), and Dancer continues on for a total distance of 176 km. On the 12th second, both reindeer are resting. They continue to rest until the 138th second, when Comet flies for another ten seconds. On the 174th second, Dancer flies for another 11 seconds.\n",
    "\n",
    "In this example, after the 1000th second, both reindeer are resting, and Comet is in the lead at 1120 km (poor Dancer has only gotten 1056 km by that point). So, in this situation, Comet would win (if the race ended at 1000 seconds).\n",
    "\n",
    "Given the descriptions of each reindeer (in your puzzle input), after exactly 2503 seconds, what distance has the winning reindeer traveled?\n",
    "\n",
    "## Part Two\n",
    "Seeing how reindeer move in bursts, Santa decides he's not pleased with the old scoring system.\n",
    "\n",
    "Instead, at the end of each second, he awards one point to the reindeer currently in the lead. (If there are multiple reindeer tied for the lead, they each get one point.) He keeps the traditional 2503 second time limit, of course, as doing otherwise would be entirely ridiculous.\n",
    "\n",
    "Given the example reindeer from above, after the first second, Dancer is in the lead and gets one point. He stays in the lead until several seconds into Comet's second burst: after the 140th second, Comet pulls into the lead and gets his first point. Of course, since Dancer had been in the lead for the 139 seconds before that, he has accumulated 139 points by the 140th second.\n",
    "\n",
    "After the 1000th second, Dancer has accumulated 689 points, while poor Comet, our old champion, only has 312. So, with the new scoring system, Dancer would win (if the race ended at 1000 seconds).\n",
    "\n",
    "Again given the descriptions of each reindeer (in your puzzle input), after exactly 2503 seconds, how many points does the winning reindeer have?"
   ]
  },
  {
   "cell_type": "code",
   "execution_count": 52,
   "metadata": {},
   "outputs": [
    {
     "data": {
      "text/plain": [
       "(Deer(name='Comet', speed=14, endurance=10, rest=127, state='rest', since=969, until=1096, distance=1120, score=312),\n",
       " Deer(name='Dancer', speed=16, endurance=11, rest=162, state='rest', since=876, until=1038, distance=1056, score=689))"
      ]
     },
     "execution_count": 52,
     "metadata": {},
     "output_type": "execute_result"
    }
   ],
   "source": [
    "Deer = namedtuple(\"Deer\", \"name speed endurance rest state since until distance score\")\n",
    "\n",
    "def reindeer(input, duration, debug=False):\n",
    "   deer = {}\n",
    "   for line in input.strip().splitlines():\n",
    "      words = line.split()\n",
    "      name, speed, endurance, rest = words[0], int(words[3]), int(words[6]), int(words[-2])\n",
    "      deer[name] = Deer(name, speed, endurance, rest,\n",
    "         state=\"run\", since = 0, until=endurance, distance=0, score=0)\n",
    "   t = 0\n",
    "   while t < duration:\n",
    "      t = t + 1\n",
    "      # Advance running deer, calculate new distances\n",
    "      best = 0\n",
    "      for name, d in deer.items():\n",
    "         if d.state == \"run\":\n",
    "            d = d._replace(distance=d.distance+d.speed)\n",
    "            if t == d.until:\n",
    "               d = d._replace(state=\"rest\", since=t, until=t+d.rest)\n",
    "         elif t == d.until:\n",
    "            d = d._replace(state=\"run\", since=t, until=t+d.endurance)\n",
    "         best = max(best, d.distance)\n",
    "         deer[name] = d\n",
    "      # Update scores\n",
    "      for name, d in deer.items():\n",
    "         if d.distance == best:\n",
    "            d = d._replace(score=d.score+1)\n",
    "            deer[name] = d\n",
    "      if debug:\n",
    "         print(f\"At {t}, {d.name} will be {d.state}ing until {d.until}; \"\n",
    "            \"has traveled {distance[d.name]} since {d.since}\")\n",
    "   return (\n",
    "      max(deer.values(), key=lambda d: d.distance),\n",
    "      max(deer.values(), key=lambda d: d.score))\n",
    "\n",
    "EX14 = \"\"\"\n",
    "Comet can fly 14 km/s for 10 seconds, but then must rest for 127 seconds.\n",
    "Dancer can fly 16 km/s for 11 seconds, but then must rest for 162 seconds.\n",
    "\"\"\"\n",
    "\n",
    "reindeer(EX14, 1000)"
   ]
  },
  {
   "cell_type": "code",
   "execution_count": 53,
   "metadata": {},
   "outputs": [
    {
     "data": {
      "text/plain": [
       "(Deer(name='Vixen', speed=19, endurance=7, rest=124, state='rest', since=2496, until=2620, distance=2660, score=469),\n",
       " Deer(name='Blitzen', speed=19, endurance=9, rest=158, state='rest', since=2347, until=2505, distance=2565, score=1256))"
      ]
     },
     "execution_count": 53,
     "metadata": {},
     "output_type": "execute_result"
    }
   ],
   "source": [
    "reindeer(Input(14).read(), 2503)"
   ]
  },
  {
   "cell_type": "markdown",
   "metadata": {},
   "source": [
    "# Day 15: Science for Hungry People\n",
    "\n",
    "Today, you set out on the task of perfecting your milk-dunking cookie recipe. All you have to do is find the right balance of ingredients.\n",
    "\n",
    "Your recipe leaves room for exactly 100 teaspoons of ingredients. You make a list of the remaining ingredients you could use to finish the recipe (your puzzle input) and their properties per teaspoon:\n",
    "\n",
    "- `capacity` (how well it helps the cookie absorb milk)\n",
    "- `durability` (how well it keeps the cookie intact when full of milk)\n",
    "- `flavor` (how tasty it makes the cookie)\n",
    "- `texture` (how it improves the feel of the cookie)\n",
    "- `calories` (how many calories it adds to the cookie)\n",
    "\n",
    "You can only measure ingredients in whole-teaspoon amounts accurately, and you have to be accurate so you can reproduce your results in the future. The total score of a cookie can be found by adding up each of the properties (negative totals become 0) and then multiplying together everything except calories.\n",
    "\n",
    "For instance, suppose you have these two ingredients:\n",
    "\n",
    "```\n",
    "Butterscotch: capacity -1, durability -2, flavor 6, texture 3, calories 8\n",
    "Cinnamon: capacity 2, durability 3, flavor -2, texture -1, calories 3\n",
    "```\n",
    "Then, choosing to use 44 teaspoons of butterscotch and 56 teaspoons of cinnamon (because the amounts of each ingredient must add up to 100) would result in a cookie with the following properties:\n",
    "```\n",
    "A capacity of 44*-1 + 56*2 = 68\n",
    "A durability of 44*-2 + 56*3 = 80\n",
    "A flavor of 44*6 + 56*-2 = 152\n",
    "A texture of 44*3 + 56*-1 = 76\n",
    "```\n",
    "Multiplying these together (68 * 80 * 152 * 76, ignoring calories for now) results in a total score of 62842880, which happens to be the best score possible given these ingredients. If any properties had produced a negative total, it would have instead become zero, causing the whole score to multiply to zero.\n",
    "\n",
    "Given the ingredients in your kitchen and their properties, what is the total score of the highest-scoring cookie you can make?\n",
    "\n",
    "## Part Two\n",
    "Your cookie recipe becomes wildly popular! Someone asks if you can make another recipe that has exactly 500 calories per cookie (so they can use it as a meal replacement). Keep the rest of your award-winning process the same (100 teaspoons, same ingredients, same scoring system).\n",
    "\n",
    "For example, given the ingredients above, if you had instead selected 40 teaspoons of butterscotch and 60 teaspoons of cinnamon (which still adds to 100), the total calorie count would be 40*8 + 60*3 = 500. The total score would go down, though: only 57600000, the best you can do in such trying circumstances.\n",
    "\n",
    "Given the ingredients in your kitchen and their properties, what is the total score of the highest-scoring cookie you can make with a calorie total of 500?"
   ]
  },
  {
   "cell_type": "code",
   "execution_count": 140,
   "metadata": {},
   "outputs": [
    {
     "data": {
      "text/plain": [
       "((18965440, [24, 29, 31, 16]), (15862900, [21, 23, 31, 25]))"
      ]
     },
     "execution_count": 140,
     "metadata": {},
     "output_type": "execute_result"
    }
   ],
   "source": [
    "def teaspoons(a, sofar=[]):\n",
    "   if a == 1:\n",
    "      yield sofar + [100 - sum(sofar)]\n",
    "   else:\n",
    "      for i in range(1, 100 - sum(sofar) + 1):\n",
    "         yield from teaspoons(a - 1, sofar + [i])\n",
    "\n",
    "# ings = np.array([[-1, -2, 6, 3, 8], [2, 3, -2, -1, 3]])\n",
    "\"\"\"Frosting: capacity 4, durability -2, flavor 0, texture 0, calories 5\n",
    "Candy: capacity 0, durability 5, flavor -1, texture 0, calories 8\n",
    "Butterscotch: capacity -1, durability 0, flavor 5, texture 0, calories 6\n",
    "Sugar: capacity 0, durability 0, flavor -2, texture 2, calories 1\"\"\"\n",
    "ings = np.array([\n",
    "   [4, -2, 0, 0, 5],\n",
    "   [0, 5, -1, 0, 8],\n",
    "   [-1, 0, 5, 0, 6],\n",
    "   [0, 0, -2, 2, 1]\n",
    "])\n",
    "\n",
    "def cookies(ings, calories=None):\n",
    "   best, amt = 0, []\n",
    "   for amts in teaspoons(len(ings)):\n",
    "      scores = np.maximum(np.sum(ings.T * amts, axis=1)[:-1], 0)\n",
    "      score = np.product(scores)\n",
    "      if score > best:\n",
    "         if calories is None or np.sum(ings.T * amts, axis=1)[-1] == calories:\n",
    "            best, amt = score, amts\n",
    "   return best, amt\n",
    "\n",
    "cookies(ings, None), cookies(ings, 500)"
   ]
  },
  {
   "cell_type": "markdown",
   "metadata": {},
   "source": [
    "# Day 16: Aunt Sue\n",
    "Your Aunt Sue has given you a wonderful gift, and you'd like to send her a thank you card. However, there's a small problem: she signed it \"From, Aunt Sue\".\n",
    "\n",
    "You have 500 Aunts named \"Sue\".\n",
    "\n",
    "So, to avoid sending the card to the wrong person, you need to figure out which Aunt Sue (which you conveniently number 1 to 500, for sanity) gave you the gift. You open the present and, as luck would have it, good ol' Aunt Sue got you a My First Crime Scene Analysis Machine! Just what you wanted. Or needed, as the case may be.\n",
    "\n",
    "The My First Crime Scene Analysis Machine (MFCSAM for short) can detect a few specific compounds in a given sample, as well as how many distinct kinds of those compounds there are. According to the instructions, these are what the MFCSAM can detect:\n",
    "\n",
    "- children, by human DNA age analysis.\n",
    "- cats. It doesn't differentiate individual breeds.\n",
    "- Several seemingly random breeds of dog: samoyeds, pomeranians, akitas, and vizslas.\n",
    "- goldfish. No other kinds of fish.\n",
    "- trees, all in one group.\n",
    "- cars, presumably by exhaust or gasoline or something.\n",
    "- perfumes, which is handy, since many of your Aunts Sue wear a few kinds.\n",
    "\n",
    "In fact, many of your Aunts Sue have many of these. You put the wrapping from the gift into the MFCSAM. It beeps inquisitively at you a few times and then prints out a message on ticker tape:\n",
    "\n",
    "children: 3\n",
    "cats: 7\n",
    "samoyeds: 2\n",
    "pomeranians: 3\n",
    "akitas: 0\n",
    "vizslas: 0\n",
    "goldfish: 5\n",
    "trees: 3\n",
    "cars: 2\n",
    "perfumes: 1\n",
    "\n",
    "You make a list of the things you can remember about each Aunt Sue. Things missing from your list aren't zero - you simply don't remember the value.\n",
    "\n",
    "What is the number of the Sue that got you the gift?\n",
    "\n",
    "## Part Two\n",
    "As you're about to send the thank you note, something in the MFCSAM's instructions catches your eye. Apparently, it has an outdated retroencabulator, and so the output from the machine isn't exact values - some of them indicate ranges.\n",
    "\n",
    "In particular, the cats and trees readings indicates that there are greater than that many (due to the unpredictable nuclear decay of cat dander and tree pollen), while the pomeranians and goldfish readings indicate that there are fewer than that many (due to the modial interaction of magnetoreluctance).\n",
    "\n",
    "What is the number of the real Aunt Sue?"
   ]
  },
  {
   "cell_type": "code",
   "execution_count": 154,
   "metadata": {},
   "outputs": [
    {
     "name": "stdout",
     "output_type": "stream",
     "text": [
      "Sue 213\n",
      "Sue 323\n"
     ]
    }
   ],
   "source": [
    "MFCSAM = { \"children\": 3, \"cats\": 7, \"samoyeds\": 2,\n",
    "\"pomeranians\": 3, \"akitas\": 0, \"vizslas\": 0,\n",
    "\"goldfish\": 5, \"trees\": 3, \"cars\": 2, \"perfumes\": 1}\n",
    "\n",
    "def auntsue(input, day2=False):\n",
    "   for line in input.strip().splitlines():\n",
    "      # Sue 187: trees: 2, goldfish: 3, cars: 4\n",
    "      sue, has = line.split(\": \", 1)\n",
    "      for kv in has.split(\", \"):\n",
    "         k, v = kv.split(\": \")\n",
    "         v = int(v)\n",
    "         expect = MFCSAM[k]\n",
    "         if day2 and k in (\"cats\", \"trees\"):\n",
    "            if v <= expect:\n",
    "               break\n",
    "         elif day2 and k in (\"pomeranians\", \"goldfish\"):\n",
    "            if v >= expect:\n",
    "               break\n",
    "         elif MFCSAM[k] != v:\n",
    "            break\n",
    "      else:\n",
    "         print (sue)\n",
    "         \n",
    "auntsue(Input(16).read())\n",
    "auntsue(Input(16).read(), True)"
   ]
  },
  {
   "cell_type": "markdown",
   "metadata": {},
   "source": [
    "# Day 17: No Such Thing as Too Much\n",
    "\n",
    "The elves bought too much eggnog again - 150 liters this time. To fit it all into your refrigerator, you'll need to move it into smaller containers. You take an inventory of the capacities of the available containers.\n",
    "\n",
    "For example, suppose you have containers of size 20, 15, 10, 5, and 5 liters. If you need to store 25 liters, there are four ways to do it:\n",
    "\n",
    "- 15 and 10\n",
    "- 20 and 5 (the first 5)\n",
    "- 20 and 5 (the second 5)\n",
    "- 15, 5, and 5\n",
    "\n",
    "Filling all containers entirely, how many different combinations of containers can exactly fit all 150 liters of eggnog?"
   ]
  },
  {
   "cell_type": "code",
   "execution_count": 167,
   "metadata": {},
   "outputs": [],
   "source": [
    "def eggnog(containers, volume=150):\n",
    "   result = set()\n",
    "   def checksum(perm, v=volume):\n",
    "      total = 0\n",
    "      for i in range(len(perm)):\n",
    "         total += perm[i]\n",
    "         if total == v:\n",
    "            return tuple(perm[:i+1])\n",
    "         if total > v:\n",
    "            break\n",
    "      return None\n",
    "   for p in permutations(containers):\n",
    "      c = checksum(p)\n",
    "      if c is None:\n",
    "         continue\n",
    "      result.add(c)\n",
    "   return len(result)\n",
    "\n",
    "def nog(containers, volume, minlen=2):\n",
    "   for l in range(minlen, len(containers + 1)):\n",
    "      for p in permutatiainersons(cont)\n",
    "\n",
    "assert eggnog([20, 15, 10, 5], 25) == 4"
   ]
  },
  {
   "cell_type": "code",
   "execution_count": 2,
   "metadata": {},
   "outputs": [
    {
     "data": {
      "text/plain": [
       "[33, 14, 18, 20, 45, 35, 16, 35, 1, 13, 18, 13, 50, 44, 48, 6, 24, 41, 30, 42]"
      ]
     },
     "execution_count": 2,
     "metadata": {},
     "output_type": "execute_result"
    }
   ],
   "source": [
    "# eggnog(list(map(atom, Input(17).read().strip().splitlines())), 150)\n",
    "\n",
    "list(map(atom, Input(17).read().strip().splitlines()))"
   ]
  },
  {
   "cell_type": "markdown",
   "metadata": {},
   "source": [
    "# Day 18: Like a GIF For Your Yard\n",
    "After the million lights incident, the fire code has gotten stricter: now, at most ten thousand lights are allowed. You arrange them in a 100x100 grid.\n",
    "\n",
    "Never one to let you down, Santa again mails you instructions on the ideal lighting configuration. With so few lights, he says, you'll have to resort to animation.\n",
    "\n",
    "Start by setting your lights to the included initial configuration (your puzzle input). A # means \"on\", and a . means \"off\".\n",
    "\n",
    "Then, animate your grid in steps, where each step decides the next configuration based on the current one. Each light's next state (either on or off) depends on its current state and the current states of the eight lights adjacent to it (including diagonals). Lights on the edge of the grid might have fewer than eight neighbors; the missing ones always count as \"off\".\n",
    "\n",
    "For example, in a simplified 6x6 grid, the light marked A has the neighbors numbered 1 through 8, and the light marked B, which is on an edge, only has the neighbors marked 1 through 5:\n",
    "```\n",
    "1B5...\n",
    "234...\n",
    "......\n",
    "..123.\n",
    "..8A4.\n",
    "..765.\n",
    "```\n",
    "The state a light should have next is based on its current state (on or off) plus the number of neighbors that are on:\n",
    "\n",
    "A light which is on stays on when 2 or 3 neighbors are on, and turns off otherwise.\n",
    "A light which is off turns on if exactly 3 neighbors are on, and stays off otherwise.\n",
    "All of the lights update simultaneously; they all consider the same current state before moving to the next.\n",
    "\n",
    "Here's a few steps from an example configuration of another 6x6 grid:\n",
    "\n",
    "Initial state:\n",
    "```\n",
    ".#.#.#\n",
    "...##.\n",
    "#....#\n",
    "..#...\n",
    "#.#..#\n",
    "####..\n",
    "```\n",
    "After 1 step:\n",
    "```\n",
    "..##..\n",
    "..##.#\n",
    "...##.\n",
    "......\n",
    "#.....\n",
    "#.##..\n",
    "```\n",
    "After 2 steps:\n",
    "```..###.\n",
    "......\n",
    "..###.\n",
    "......\n",
    ".#....\n",
    ".#....\n",
    "```\n",
    "After 3 steps:\n",
    "```...#..\n",
    "......\n",
    "...#..\n",
    "..##..\n",
    "......\n",
    "......\n",
    "```\n",
    "After 4 steps:\n",
    "```......\n",
    "......\n",
    "..##..\n",
    "..##..\n",
    "......\n",
    "......\n",
    "```\n",
    "After 4 steps, this example has four lights on.\n",
    "\n",
    "In your grid of 100x100 lights, given your initial configuration, how many lights are on after 100 steps?\n",
    "\n",
    "## Part Two\n",
    "You flip the instructions over; Santa goes on to point out that this is all just an implementation of Conway's Game of Life. At least, it was, until you notice that something's wrong with the grid of lights you bought: four lights, one in each corner, are stuck on and can't be turned off. The example above will actually run like this:\n",
    "```\n",
    "Initial state:\n",
    "##.#.#\n",
    "...##.\n",
    "#....#\n",
    "..#...\n",
    "#.#..#\n",
    "####.#\n",
    "\n",
    "After 1 step:\n",
    "#.##.#\n",
    "####.#\n",
    "...##.\n",
    "......\n",
    "#...#.\n",
    "#.####\n",
    "\n",
    "After 2 steps:\n",
    "#..#.#\n",
    "#....#\n",
    ".#.##.\n",
    "...##.\n",
    ".#..##\n",
    "##.###\n",
    "\n",
    "After 3 steps:\n",
    "#...##\n",
    "####.#\n",
    "..##.#\n",
    "......\n",
    "##....\n",
    "####.#\n",
    "\n",
    "After 4 steps:\n",
    "#.####\n",
    "#....#\n",
    "...#..\n",
    ".##...\n",
    "#.....\n",
    "#.#..#\n",
    "\n",
    "After 5 steps:\n",
    "##.###\n",
    ".##..#\n",
    ".##...\n",
    ".##...\n",
    "#.#...\n",
    "##...#\n",
    "```\n",
    "After 5 steps, this example now has 17 lights on.\n",
    "\n",
    "In your grid of 100x100 lights, given your initial configuration, but with the four corners always in the on state, how many lights are on after 100 steps?"
   ]
  },
  {
   "cell_type": "code",
   "execution_count": 14,
   "metadata": {},
   "outputs": [],
   "source": [
    "import numpy as np\n",
    "\n",
    "def parse_lights(input):\n",
    "   return np.array([\n",
    "      [c for c in line]\n",
    "      for line in input.strip().splitlines()\n",
    "   ])\n",
    "\n",
    "def dump_lights(lights):\n",
    "   return '\\n'.join(''.join(row) for row in lights)\n",
    "\n",
    "def run_lights(lights, steps=0, part2=False):\n",
    "   shape = lights.shape\n",
    "   corners = []\n",
    "   if part2:\n",
    "      corners = set([(0, 0), (shape[0] - 1, 0), (0, shape[1] - 1), (shape[0] - 1, shape[1] - 1)])\n",
    "      for loc in corners:\n",
    "         lights[loc] = '#'\n",
    "   def neighbors(p):\n",
    "      y, x = p\n",
    "      for dy in range(-1, 2):\n",
    "         for dx in range(-1, 2):\n",
    "            q = (y + dy, x + dx)\n",
    "            if (q != p\n",
    "               and x + dx >= 0\n",
    "               and y + dy >= 0\n",
    "               and x + dx < shape[1]\n",
    "               and y + dy < shape[0]):\n",
    "               yield q\n",
    "   neigh = {}\n",
    "   for step in range(steps):\n",
    "      toggles = []\n",
    "      for y in range(shape[0]):\n",
    "         for x in range(shape[1]):\n",
    "            # A light which is on stays on when 2 or 3 neighbors are on, and turns off otherwise.\n",
    "            # A light which is off turns on if exactly 3 neighbors are on, and stays off otherwise.\n",
    "            loc = (y, x)\n",
    "            if loc in corners:\n",
    "               continue\n",
    "            if loc not in neigh:\n",
    "               neigh[loc] = list(neighbors(loc))\n",
    "            count = sum(lights[n] == '#' for n in neigh[loc])\n",
    "            if lights[loc] == '#':\n",
    "               if count not in (2, 3):\n",
    "                  toggles.append((loc, '.'))\n",
    "            else:\n",
    "               if count == 3:\n",
    "                  toggles.append((loc, '#'))\n",
    "      for loc, c in toggles:\n",
    "         lights[loc] = c\n",
    "   return lights\n",
    "\n",
    "EX18= \"\"\"\n",
    ".#.#.#\n",
    "...##.\n",
    "#....#\n",
    "..#...\n",
    "#.#..#\n",
    "####..\"\"\""
   ]
  },
  {
   "cell_type": "code",
   "execution_count": 15,
   "metadata": {},
   "outputs": [
    {
     "data": {
      "text/plain": [
       "1061"
      ]
     },
     "execution_count": 15,
     "metadata": {},
     "output_type": "execute_result"
    }
   ],
   "source": [
    "lights = parse_lights(Input(18).read())\n",
    "result = run_lights(lights, 100)\n",
    "sum(c == '#' for line in result for c in line)"
   ]
  },
  {
   "cell_type": "code",
   "execution_count": 16,
   "metadata": {},
   "outputs": [
    {
     "data": {
      "text/plain": [
       "1006"
      ]
     },
     "execution_count": 16,
     "metadata": {},
     "output_type": "execute_result"
    }
   ],
   "source": [
    "lights = parse_lights(Input(18).read())\n",
    "result = run_lights(lights, 100, True)\n",
    "sum(c == '#' for line in result for c in line)"
   ]
  },
  {
   "cell_type": "code",
   "execution_count": null,
   "metadata": {},
   "outputs": [],
   "source": []
  }
 ],
 "metadata": {
  "interpreter": {
   "hash": "aee8b7b246df8f9039afb4144a1f6fd8d2ca17a180786b69acc140d282b71a49"
  },
  "kernelspec": {
   "display_name": "Python 3.9.7 64-bit",
   "language": "python",
   "name": "python3"
  },
  "language_info": {
   "codemirror_mode": {
    "name": "ipython",
    "version": 3
   },
   "file_extension": ".py",
   "mimetype": "text/x-python",
   "name": "python",
   "nbconvert_exporter": "python",
   "pygments_lexer": "ipython3",
   "version": "3.9.8"
  },
  "orig_nbformat": 4
 },
 "nbformat": 4,
 "nbformat_minor": 2
}
