{
 "cells": [
  {
   "cell_type": "code",
   "execution_count": 76,
   "metadata": {},
   "outputs": [],
   "source": [
    "import itertools\n",
    "import math\n",
    "from aoc import *"
   ]
  },
  {
   "cell_type": "code",
   "execution_count": 77,
   "metadata": {},
   "outputs": [],
   "source": [
    "def lcm(a, b):\n",
    "    return abs(a*b) // math.gcd(a, b)"
   ]
  },
  {
   "cell_type": "code",
   "execution_count": 111,
   "metadata": {},
   "outputs": [],
   "source": [
    "def shuffle(insns, ncards, slot=None):\n",
    "    cards = list(range(ncards))\n",
    "    prev = cards[slot] if slot is not None else None\n",
    "    for line in [l.strip() for l in insns]:\n",
    "        lastword = line.split(\" \")[-1]\n",
    "        try:\n",
    "            idx = int(lastword)\n",
    "        except ValueError:\n",
    "            idx = None\n",
    "        if line == \"deal into new stack\":\n",
    "            cards = list(reversed(cards))\n",
    "        elif line.startswith(\"deal with increment \"):\n",
    "            assert idx > 0\n",
    "            result = [None] * ncards\n",
    "            i = 0\n",
    "            while cards:\n",
    "                assert result[i] is None\n",
    "                result[i] = cards.pop(0)\n",
    "                i = (i + idx) % ncards\n",
    "            cards = result\n",
    "        elif line.startswith(\"cut \"):\n",
    "            cards = cards[idx:] + cards[:idx]\n",
    "        else:\n",
    "            assert False, \"Cannot parse \" + line\n",
    "        if slot is not None:\n",
    "            print(\n",
    "                \"BF: slot={} prev={} curr={} insn={}\".format(\n",
    "                    slot, prev, cards[slot], line\n",
    "                )\n",
    "            )\n",
    "            prev = cards[slot]\n",
    "    return cards"
   ]
  },
  {
   "cell_type": "code",
   "execution_count": 112,
   "metadata": {},
   "outputs": [],
   "source": [
    "insns = Input(22).read().splitlines()"
   ]
  },
  {
   "cell_type": "code",
   "execution_count": 114,
   "metadata": {},
   "outputs": [],
   "source": [
    "cards = shuffle(insns, 13829)"
   ]
  },
  {
   "cell_type": "code",
   "execution_count": 115,
   "metadata": {},
   "outputs": [
    {
     "data": {
      "text/plain": [
       "12171"
      ]
     },
     "execution_count": 115,
     "metadata": {},
     "output_type": "execute_result"
    }
   ],
   "source": [
    "cards.index(2019)"
   ]
  },
  {
   "cell_type": "code",
   "execution_count": null,
   "metadata": {},
   "outputs": [],
   "source": []
  }
 ],
 "metadata": {
  "kernelspec": {
   "display_name": "Python [default]",
   "language": "python",
   "name": "python3"
  },
  "language_info": {
   "codemirror_mode": {
    "name": "ipython",
    "version": 3
   },
   "file_extension": ".py",
   "mimetype": "text/x-python",
   "name": "python",
   "nbconvert_exporter": "python",
   "pygments_lexer": "ipython3",
   "version": "3.5.5"
  }
 },
 "nbformat": 4,
 "nbformat_minor": 2
}
