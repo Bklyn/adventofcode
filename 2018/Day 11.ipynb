{
 "cells": [
  {
   "cell_type": "code",
   "execution_count": 1,
   "metadata": {},
   "outputs": [],
   "source": [
    "from aoc2018 import *\n",
    "import numpy as np"
   ]
  },
  {
   "cell_type": "code",
   "execution_count": 115,
   "metadata": {},
   "outputs": [],
   "source": [
    "def power_level(p, serial):\n",
    "    rack = 10 + X(p)\n",
    "    power = rack * (Y(p) * rack + serial)\n",
    "    power = ((power // 100) % 10) - 5\n",
    "    return power\n",
    "\n",
    "def power_grid(serial, dim=300):\n",
    "    grid = np.array([\n",
    "        [power_level((x + 1, y + 1), serial) for x in range(dim)] for y in range(dim)])\n",
    "    return grid\n",
    "\n",
    "def solve1(serial):\n",
    "    grid = dict(((x, y), power_level((x, y), serial))\n",
    "                for y in range(1, 301) for x in range(1, 301))\n",
    "    max_score = 0\n",
    "    for y in range(2, 300):\n",
    "        for x in range(2, 300):\n",
    "            center = (x, y)\n",
    "            score = sum(grid[p] for p in neighbors8(center)) + grid[center]\n",
    "            if score > max_score:\n",
    "                max_score = score\n",
    "                answer = (x - 1, y - 1)\n",
    "    return answer, max_score\n",
    "\n",
    "def gridrow(grid, x, y, size):\n",
    "    return grid[y, x:x + size]\n",
    "\n",
    "\n",
    "def gridcol(grid, x, y, size):\n",
    "    return grid[y:y + size, x]\n",
    "\n",
    "def strip_sack(grid, limit=BIG, debug=False):\n",
    "    best = 0\n",
    "    result = None\n",
    "    maxx, maxy = grid.shape\n",
    "    assert maxx == maxy\n",
    "    for y in range(maxy):\n",
    "        for x in range(maxx):\n",
    "            maxlen = min(limit, maxy - max(x, y))\n",
    "            total = 0\n",
    "            for size in range(1, maxlen + 1):\n",
    "                row = gridrow(grid, x, y + size - 1, size)\n",
    "                col = gridcol(grid, x + size - 1, y, size)\n",
    "                # assert row[-1] == col[-1]\n",
    "                total += row.sum() + col.sum() - col[-1]\n",
    "                if total > best:\n",
    "                    if debug:\n",
    "                        print(total, x + 1, y + 1, size)\n",
    "                    best = total\n",
    "                    result = (x + 1, y + 1, size, best)\n",
    "    return result\n",
    "\n",
    "def solve2(grid, lowlimit=None, limit=None, debug=False):\n",
    "    maxx, maxy = grid.shape\n",
    "    if lowlimit is None:\n",
    "        lowlimit = 1\n",
    "    if limit is None:\n",
    "        limit = maxy\n",
    "    answer = (0,)\n",
    "    for y in range(maxy):\n",
    "        for x in range(maxx):\n",
    "            maxlen = min(limit, maxy - max(x, y))\n",
    "            total = 0\n",
    "            for size in range(lowlimit, maxlen + 1):\n",
    "                row = gridrow(grid, x, y + size - 1, size)\n",
    "                col = gridcol(grid, x + size - 1, y, size)\n",
    "                total += row.sum() + col.sum() - col[-1]\n",
    "                if total > answer[-1]:\n",
    "                    if debug:\n",
    "                        print(total, x + 1, y + 1, size)\n",
    "                    answer = (x + 1, y + 1, size, total)\n",
    "    return answer"
   ]
  },
  {
   "cell_type": "code",
   "execution_count": 72,
   "metadata": {},
   "outputs": [
    {
     "data": {
      "text/plain": [
       "113"
      ]
     },
     "execution_count": 72,
     "metadata": {},
     "output_type": "execute_result"
    }
   ],
   "source": [
    "eighteen = power_grid(18)\n",
    "peak_eighteen = eighteen[268:268+16,89:89+16]\n",
    "peak_eighteen.sum()"
   ]
  },
  {
   "cell_type": "code",
   "execution_count": 116,
   "metadata": {},
   "outputs": [
    {
     "name": "stdout",
     "output_type": "stream",
     "text": [
      "CPU times: user 868 ms, sys: 3.6 ms, total: 872 ms\n",
      "Wall time: 872 ms\n"
     ]
    },
    {
     "data": {
      "text/plain": [
       "(216, 9, 3, 20)"
      ]
     },
     "execution_count": 116,
     "metadata": {},
     "output_type": "execute_result"
    }
   ],
   "source": [
    "%time solve2(eighteen, lowlimit=3, limit=3)"
   ]
  },
  {
   "cell_type": "code",
   "execution_count": 107,
   "metadata": {},
   "outputs": [
    {
     "name": "stdout",
     "output_type": "stream",
     "text": [
      "CPU times: user 2.45 s, sys: 11.5 ms, total: 2.46 s\n",
      "Wall time: 2.47 s\n"
     ]
    },
    {
     "data": {
      "text/plain": [
       "(33, 45, 3, 29)"
      ]
     },
     "execution_count": 107,
     "metadata": {},
     "output_type": "execute_result"
    }
   ],
   "source": [
    "%time strip_sack(eighteen, limit=3)"
   ]
  },
  {
   "cell_type": "code",
   "execution_count": 108,
   "metadata": {},
   "outputs": [
    {
     "name": "stdout",
     "output_type": "stream",
     "text": [
      "CPU times: user 1min 15s, sys: 115 ms, total: 1min 15s\n",
      "Wall time: 1min 15s\n"
     ]
    },
    {
     "data": {
      "text/plain": [
       "(235, 146, 13, 95)"
      ]
     },
     "execution_count": 108,
     "metadata": {},
     "output_type": "execute_result"
    }
   ],
   "source": [
    "%time strip_sack(g)"
   ]
  },
  {
   "cell_type": "code",
   "execution_count": null,
   "metadata": {},
   "outputs": [],
   "source": []
  }
 ],
 "metadata": {
  "kernelspec": {
   "display_name": "Python [conda env:anaconda]",
   "language": "python",
   "name": "conda-env-anaconda-py"
  },
  "language_info": {
   "codemirror_mode": {
    "name": "ipython",
    "version": 3
   },
   "file_extension": ".py",
   "mimetype": "text/x-python",
   "name": "python",
   "nbconvert_exporter": "python",
   "pygments_lexer": "ipython3",
   "version": "3.5.5"
  }
 },
 "nbformat": 4,
 "nbformat_minor": 2
}
