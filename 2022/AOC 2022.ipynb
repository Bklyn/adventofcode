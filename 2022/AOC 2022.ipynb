{
 "cells": [
  {
   "cell_type": "code",
   "execution_count": null,
   "metadata": {},
   "outputs": [],
   "source": [
    "from aoc import *\n",
    "import re\n",
    "from aocd.models import Puzzle as AOCDPuzzle\n",
    "\n",
    "def Puzzle(day, year=2022):\n",
    "   return AOCDPuzzle(year=year, day=day)"
   ]
  },
  {
   "cell_type": "code",
   "execution_count": null,
   "metadata": {},
   "outputs": [],
   "source": [
    "p = Puzzle(day=1)\n",
    "p"
   ]
  },
  {
   "cell_type": "code",
   "execution_count": null,
   "metadata": {},
   "outputs": [],
   "source": [
    "def calorie_count(data):\n",
    "    elves = data.split(\"\\n\\n\")\n",
    "    elves = [[int(l) for l in x.splitlines()] for x in elves]\n",
    "    elf_sum = [sum(e) for e in elves]\n",
    "    return sorted(elf_sum, reverse=True)\n",
    "    \n",
    "assert calorie_count(p.example_data)[0] == 24000\n",
    "elves = calorie_count(p.input_data)\n",
    "p.answer_a = elves[0]\n",
    "p.answer_b = sum(elves[:3])\n",
    "p.answers"
   ]
  },
  {
   "cell_type": "code",
   "execution_count": null,
   "metadata": {},
   "outputs": [],
   "source": [
    "p = Puzzle(day=2)\n",
    "p, p.easter_eggs"
   ]
  },
  {
   "cell_type": "code",
   "execution_count": null,
   "metadata": {},
   "outputs": [],
   "source": [
    "Rock, Paper, Scissors = (1, 2, 3)\n",
    "\n",
    "def rock_paper_scissors(input, part='a'):\n",
    "   RPS = { \n",
    "      'A': Rock, 'B': Paper, 'C': Scissors,\n",
    "      'X': Rock, 'Y': Paper, 'Z': Scissors,\n",
    "   }\n",
    "   score = 0\n",
    "   for round in input.strip().splitlines():\n",
    "      them, us = [RPS[x] for x in round.split(' ')]\n",
    "      if part == 'b':\n",
    "         if us == Rock: # Lose\n",
    "            us = (Rock if them == Paper else\n",
    "                  Paper if them == Scissors else\n",
    "                  Scissors)\n",
    "         elif us == Paper: # Draw\n",
    "            us = them\n",
    "         else: # Win\n",
    "            us = (Rock if them == Scissors else\n",
    "                  Paper if them == Rock else\n",
    "                  Scissors)\n",
    "      score += us\n",
    "      if them == us:\n",
    "         score += 3\n",
    "      if (them, us) in ((Rock, Paper), (Paper, Scissors), (Scissors, Rock)):\n",
    "         score += 6\n",
    "   return score\n",
    "\n",
    "assert rock_paper_scissors(p.example_data, 'a') == 15\n",
    "assert rock_paper_scissors(p.example_data, 'b') == 12"
   ]
  },
  {
   "cell_type": "code",
   "execution_count": null,
   "metadata": {},
   "outputs": [],
   "source": [
    "p.answers = (\n",
    "    rock_paper_scissors(p.input_data),\n",
    "    rock_paper_scissors(p.input_data, 'b')\n",
    ")"
   ]
  },
  {
   "cell_type": "code",
   "execution_count": null,
   "metadata": {},
   "outputs": [],
   "source": [
    "p = Puzzle(day=3)\n",
    "p"
   ]
  },
  {
   "cell_type": "code",
   "execution_count": null,
   "metadata": {},
   "outputs": [],
   "source": [
    "def rucksacks(input):\n",
    "   def score(x):\n",
    "      return ord(x) - ((ord('a') - 1) if x.islower() else (ord('A') - 27))\n",
    "   groups = grouper(input.splitlines(), 3)\n",
    "   prio = 0\n",
    "   badges = 0\n",
    "   for group in groups:\n",
    "      badge = set.intersection(*[set(elf) for elf in group]).pop()\n",
    "      for elf in group:\n",
    "         assert len(elf) % 2 == 0\n",
    "         c1 = set(elf[:len(elf)//2])\n",
    "         c2 = set(elf[len(elf)//2:])\n",
    "         x = (c1 & c2).pop()\n",
    "         prio += score(x)\n",
    "      badges += score(badge)\n",
    "   return prio, badges\n",
    "\n",
    "assert rucksacks(p.example_data) == (157, 70)"
   ]
  },
  {
   "cell_type": "code",
   "execution_count": null,
   "metadata": {},
   "outputs": [],
   "source": [
    "p.answers = rucksacks(p.input_data)"
   ]
  },
  {
   "cell_type": "code",
   "execution_count": null,
   "metadata": {},
   "outputs": [],
   "source": [
    "p = Puzzle(day=4)\n",
    "p"
   ]
  },
  {
   "cell_type": "code",
   "execution_count": null,
   "metadata": {},
   "outputs": [],
   "source": [
    "def camp_cleanup(input):\n",
    "   contained = 0\n",
    "   overlap = 0\n",
    "   for line in input.splitlines():\n",
    "      a, b = line.split(',')\n",
    "      a = tuple(int(x) for x in a.split('-'))\n",
    "      b = tuple(int(x) for x in b.split('-'))\n",
    "      if a[0] >= b[0] and a[1] <= b[1] or b[0] >= a[0] and b[1] <= a[1]:\n",
    "         contained += 1\n",
    "      if (a[0] >= b[0] and a[0] <= b[1] or\n",
    "          a[1] >= b[0] and a[1] <= b[1] or\n",
    "          b[0] >= a[0] and b[0] <= a[1] or\n",
    "          b[1] >= a[0] and b[1] <= a[1]):\n",
    "         overlap += 1\n",
    "   return contained, overlap\n",
    "\n",
    "assert camp_cleanup(p.example_data) == (2, 4)\n",
    "      "
   ]
  },
  {
   "cell_type": "code",
   "execution_count": null,
   "metadata": {},
   "outputs": [],
   "source": [
    "p.answers = camp_cleanup(p.input_data)"
   ]
  },
  {
   "cell_type": "code",
   "execution_count": null,
   "metadata": {},
   "outputs": [],
   "source": [
    "p = Puzzle(day=5)\n",
    "p, p.example_data.splitlines()"
   ]
  },
  {
   "cell_type": "code",
   "execution_count": null,
   "metadata": {},
   "outputs": [],
   "source": [
    "def cargo(input, part='a'):\n",
    "   stacks = None\n",
    "   for line in input.splitlines():\n",
    "      if not line:\n",
    "         continue\n",
    "      if line and line[0] != 'm':\n",
    "         boxes = line[1::4]\n",
    "         if boxes[0] == '1':\n",
    "            continue\n",
    "         if stacks is None:\n",
    "            stacks = [''] * len(boxes)\n",
    "         for i, b in enumerate(boxes):\n",
    "            if b == ' ':\n",
    "               continue\n",
    "            stacks[i] = stacks[i] + b\n",
    "         continue\n",
    "      count, x, y = [int(x) for x in re.findall(r'(\\d+)', line)]\n",
    "      x = x - 1\n",
    "      y = y - 1\n",
    "      src, dest = stacks[x], stacks[y]\n",
    "      move = src[:count]\n",
    "      if part == 'a':\n",
    "         move = move[::-1]\n",
    "      dest = move + dest\n",
    "      src = src[count:]\n",
    "      stacks[x], stacks[y] = src, dest\n",
    "   answer = ''.join(s[0] for s in stacks)\n",
    "   return answer\n",
    "\n",
    "assert cargo(p.example_data) == 'CMZ'\n",
    "assert cargo(p.example_data, 'b') == 'MCD'"
   ]
  },
  {
   "cell_type": "code",
   "execution_count": null,
   "metadata": {},
   "outputs": [],
   "source": [
    "p.answer_a = cargo(p.input_data)\n",
    "p.answer_b = cargo(p.input_data, 'b')"
   ]
  },
  {
   "cell_type": "code",
   "execution_count": null,
   "metadata": {},
   "outputs": [],
   "source": [
    "p = Puzzle(day=6)\n",
    "p, p.example_data.splitlines()"
   ]
  },
  {
   "cell_type": "code",
   "execution_count": null,
   "metadata": {},
   "outputs": [],
   "source": [
    "def tuning(input, num=4):\n",
    "    for i in range(num, len(input) + 1):\n",
    "        if len(set(input[i-num:i])) == num:\n",
    "            return i\n",
    "    assert False\n",
    "\n",
    "assert tuning(p.example_data) == 7\n",
    "assert tuning('bvwbjplbgvbhsrlpgdmjqwftvncz') == 5\n",
    "assert tuning('zcfzfwzzqfrljwzlrfnpqdbhtmscgvjw') == 11\n",
    "\n",
    "assert tuning('mjqjpqmgbljsphdztnvjfqwrcgsmlb', 14) == 19\n",
    "assert tuning('bvwbjplbgvbhsrlpgdmjqwftvncz', 14) == 23\n",
    "assert tuning('nppdvjthqldpwncqszvftbrmjlhg', 14) == 23\n",
    "assert tuning('nznrnfrfntjfmvfwmzdfjlvtqnbhcprsg', 14) == 29\n",
    "assert tuning('zcfzfwzzqfrljwzlrfnpqdbhtmscgvjw', 14) == 26"
   ]
  },
  {
   "cell_type": "code",
   "execution_count": null,
   "metadata": {},
   "outputs": [],
   "source": [
    "p.answer_a = tuning(p.input_data)\n",
    "p.answer_b = tuning(p.input_data, 14)"
   ]
  },
  {
   "cell_type": "code",
   "execution_count": null,
   "metadata": {},
   "outputs": [],
   "source": [
    "p = Puzzle(day=7)\n",
    "p\n",
    "\n",
    "ex = \"\"\"$ cd /\n",
    "$ ls\n",
    "dir a\n",
    "14848514 b.txt\n",
    "8504156 c.dat\n",
    "dir d\n",
    "$ cd a\n",
    "$ ls\n",
    "dir e\n",
    "29116 f\n",
    "2557 g\n",
    "62596 h.lst\n",
    "$ cd e\n",
    "$ ls\n",
    "584 i\n",
    "$ cd ..\n",
    "$ cd ..\n",
    "$ cd d\n",
    "$ ls\n",
    "4060174 j\n",
    "8033020 d.log\n",
    "5626152 d.ext\n",
    "7214296 k\n",
    "\"\"\""
   ]
  },
  {
   "cell_type": "code",
   "execution_count": null,
   "metadata": {},
   "outputs": [],
   "source": [
    "def filesystem(input):\n",
    "   fs = {}\n",
    "   cwd = fs\n",
    "   path = '/'\n",
    "\n",
    "   def split_path(d):\n",
    "      children = []\n",
    "      path = d\n",
    "      while path != \"/\":\n",
    "         path, child = os.path.split(path)\n",
    "         children = [child] + children\n",
    "      return children\n",
    "\n",
    "   def mkdir(d):\n",
    "      result = fs\n",
    "      for subdir in split_path(d):\n",
    "         result = result.setdefault(subdir, {\"..\": result})\n",
    "      return result\n",
    "\n",
    "   def visit(fs, func, path=\"/\"):\n",
    "      for k, v in fs.items():\n",
    "         if k == \"..\": continue\n",
    "         if type(v) is dict:\n",
    "            yield from visit(v, func, os.path.join(path, k))\n",
    "      yield func(fs, path)\n",
    "\n",
    "   def size(node):\n",
    "      cache = {}\n",
    "      def impl(x, path):\n",
    "         if path not in cache:\n",
    "            cache[path] = sum(v for k, v in x.items() if k != \"..\" and type(v) is not dict)\n",
    "         return cache[path]\n",
    "      return sum(visit(node, impl))\n",
    "\n",
    "   for line in input.splitlines():\n",
    "      if m := re.match(r'^\\$ cd (.+)', line):\n",
    "         path = os.path.abspath(os.path.join(path, m.group(1)))\n",
    "         cwd = mkdir(path)\n",
    "         continue\n",
    "      if line == \"$ ls\":\n",
    "         continue\n",
    "      if m := re.match(\"dir (.+)\", line):\n",
    "         mkdir(os.path.join(path, m.group(1)))\n",
    "         continue\n",
    "      sz, name = line.split(' ')\n",
    "      cwd[name] = int(sz)\n",
    "\n",
    "   total_size = size(fs)\n",
    "   capacity = 70000000\n",
    "   space_needed = 30000000\n",
    "   free_space = capacity - total_size\n",
    "   need_to_clear = space_needed - free_space\n",
    "   sizes = sorted(visit(fs, lambda fs, _: size(fs)))\n",
    "   return (\n",
    "      sum(s for s in sizes if s <= 100000),\n",
    "      next(s for s in sizes if s >= need_to_clear)\n",
    "   )\n",
    "\n",
    "assert filesystem(ex) == (95437, 24933642)"
   ]
  },
  {
   "cell_type": "code",
   "execution_count": null,
   "metadata": {},
   "outputs": [],
   "source": [
    "p.answers = filesystem(p.input_data)"
   ]
  },
  {
   "cell_type": "code",
   "execution_count": null,
   "metadata": {},
   "outputs": [],
   "source": [
    "p = Puzzle(day=8)\n",
    "p, p.example_data.splitlines()"
   ]
  },
  {
   "cell_type": "code",
   "execution_count": null,
   "metadata": {},
   "outputs": [],
   "source": [
    "def treehouse(input):\n",
    "   forest = []\n",
    "   for line in input.splitlines():\n",
    "      forest.append([int(c) for c in line])\n",
    "   rows, cols = len(forest), len(forest[0])\n",
    "   def is_visible(f, x, y):\n",
    "      if x == 0 or x == cols -1 or y == 0 or y == rows - 1:\n",
    "         return True\n",
    "      left = f[y][:x]\n",
    "      right = f[y][x+1:]\n",
    "      up = [f[yy][x] for yy in range(y)]\n",
    "      down = [f[yy][x] for yy in range(y+1, rows)]\n",
    "      tree = f[y][x]\n",
    "      vis = any(max(line, default=-1) < tree for line in (left, right, up, down))\n",
    "      print(f\"(x={x}, y={y}): t={tree} vis={vis} l={left} r={right} u={up} d={down}\")\n",
    "      return vis\n",
    "   print((rows, cols), forest)\n",
    "   return sum(is_visible(forest, x, y) for y in range(rows) for x in range(cols))\n",
    "\n",
    "assert treehouse(p.example_data) == 22"
   ]
  },
  {
   "cell_type": "code",
   "execution_count": null,
   "metadata": {},
   "outputs": [],
   "source": []
  },
  {
   "cell_type": "code",
   "execution_count": null,
   "metadata": {},
   "outputs": [],
   "source": []
  }
 ],
 "metadata": {
  "kernelspec": {
   "display_name": "Python 3.10.0 ('py3')",
   "language": "python",
   "name": "python3"
  },
  "language_info": {
   "codemirror_mode": {
    "name": "ipython",
    "version": 3
   },
   "file_extension": ".py",
   "mimetype": "text/x-python",
   "name": "python",
   "nbconvert_exporter": "python",
   "pygments_lexer": "ipython3",
   "version": "3.10.0"
  },
  "vscode": {
   "interpreter": {
    "hash": "04a09e2e14eb6b92be6b7b85e349c7b7974c646f3d040b1b79db9e54e09a30c3"
   }
  }
 },
 "nbformat": 4,
 "nbformat_minor": 2
}
