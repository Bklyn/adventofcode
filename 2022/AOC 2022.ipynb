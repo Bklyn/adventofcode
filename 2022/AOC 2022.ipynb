{
 "cells": [
  {
   "cell_type": "code",
   "execution_count": null,
   "metadata": {},
   "outputs": [],
   "source": [
    "from aoc import *"
   ]
  },
  {
   "cell_type": "code",
   "execution_count": null,
   "metadata": {},
   "outputs": [],
   "source": [
    "p = Puzzle(year=2022, day=1)\n",
    "p"
   ]
  },
  {
   "cell_type": "code",
   "execution_count": null,
   "metadata": {},
   "outputs": [],
   "source": [
    "def calorie_count(data):\n",
    "    elves = data.split(\"\\n\\n\")\n",
    "    elves = [[int(l) for l in x.splitlines()] for x in elves]\n",
    "    elf_sum = [sum(e) for e in elves]\n",
    "    return sorted(elf_sum, reverse=True)\n",
    "    \n",
    "assert calorie_count(p.example_data)[0] == 24000\n",
    "elves = calorie_count(p.input_data)\n",
    "p.answer_a = elves[0]\n",
    "p.answer_b = sum(elves[:3])\n",
    "p.answers"
   ]
  },
  {
   "cell_type": "code",
   "execution_count": null,
   "metadata": {},
   "outputs": [],
   "source": [
    "p = Puzzle(year=2022, day=2)\n",
    "p, p.easter_eggs"
   ]
  },
  {
   "cell_type": "code",
   "execution_count": null,
   "metadata": {},
   "outputs": [],
   "source": [
    "p.example_data.splitlines()"
   ]
  },
  {
   "cell_type": "code",
   "execution_count": null,
   "metadata": {},
   "outputs": [],
   "source": [
    "Rock, Paper, Scissors = (1, 2, 3)\n",
    "\n",
    "def rock_paper_scissors(input, part='a'):\n",
    "   RPS = { \n",
    "      'A': Rock, 'B': Paper, 'C': Scissors,\n",
    "      'X': Rock, 'Y': Paper, 'Z': Scissors,\n",
    "   }\n",
    "   score = 0\n",
    "   for round in input.strip().splitlines():\n",
    "      them, us = [RPS[x] for x in round.split(' ')]\n",
    "      if part == 'b':\n",
    "         if us == Rock: # Lose\n",
    "            us = (Rock if them == Paper else\n",
    "                  Paper if them == Scissors else\n",
    "                  Scissors)\n",
    "         elif us == Paper: # Draw\n",
    "            us = them\n",
    "         else: # Win\n",
    "            us = (Rock if them == Scissors else\n",
    "                  Paper if them == Rock else\n",
    "                  Scissors)\n",
    "      score += us\n",
    "      if them == us:\n",
    "         score += 3\n",
    "      if (them, us) in ((Rock, Paper), (Paper, Scissors), (Scissors, Rock)):\n",
    "         score += 6\n",
    "   return score\n",
    "\n",
    "assert rock_paper_scissors(p.example_data, 'a') == 15\n",
    "assert rock_paper_scissors(p.example_data, 'b') == 12"
   ]
  },
  {
   "cell_type": "code",
   "execution_count": null,
   "metadata": {},
   "outputs": [],
   "source": [
    "p.answers = (\n",
    "    rock_paper_scissors(p.input_data),\n",
    "    rock_paper_scissors(p.input_data, 'b')\n",
    ")"
   ]
  },
  {
   "cell_type": "code",
   "execution_count": null,
   "metadata": {},
   "outputs": [],
   "source": [
    "p = Puzzle(year=2022, day=3)\n",
    "p"
   ]
  },
  {
   "cell_type": "code",
   "execution_count": null,
   "metadata": {},
   "outputs": [],
   "source": [
    "def rucksacks(input):\n",
    "   def score(x):\n",
    "      return ord(x) - ((ord('a') - 1) if x.islower() else (ord('A') - 27))\n",
    "   groups = grouper(input.splitlines(), 3)\n",
    "   prio = 0\n",
    "   badges = 0\n",
    "   for group in groups:\n",
    "      badge = set.intersection(*[set(elf) for elf in group]).pop()\n",
    "      for elf in group:\n",
    "         assert len(elf) % 2 == 0\n",
    "         c1 = set(elf[:len(elf)//2])\n",
    "         c2 = set(elf[len(elf)//2:])\n",
    "         x = (c1 & c2).pop()\n",
    "         prio += score(x)\n",
    "      badges += score(badge)\n",
    "   return prio, badges\n",
    "\n",
    "assert rucksacks(p.example_data) == (157, 70)"
   ]
  },
  {
   "cell_type": "code",
   "execution_count": null,
   "metadata": {},
   "outputs": [],
   "source": [
    "p.answers = rucksacks(p.input_data)"
   ]
  },
  {
   "cell_type": "code",
   "execution_count": null,
   "metadata": {},
   "outputs": [],
   "source": [
    "p = Puzzle(year=2022, day=4)\n",
    "p.view(), p"
   ]
  },
  {
   "cell_type": "code",
   "execution_count": null,
   "metadata": {},
   "outputs": [],
   "source": [
    "def camp_cleanup(input):\n",
    "   contained = 0\n",
    "   overlap = 0\n",
    "   for line in input.splitlines():\n",
    "      a, b = line.split(',')\n",
    "      a = tuple(int(x) for x in a.split('-'))\n",
    "      b = tuple(int(x) for x in b.split('-'))\n",
    "      if a[0] >= b[0] and a[1] <= b[1] or b[0] >= a[0] and b[1] <= a[1]:\n",
    "         contained += 1\n",
    "      if (a[0] >= b[0] and a[0] <= b[1] or\n",
    "          a[1] >= b[0] and a[1] <= b[1] or\n",
    "          b[0] >= a[0] and b[0] <= a[1] or\n",
    "          b[1] >= a[0] and b[1] <= a[1]):\n",
    "         overlap += 1\n",
    "   return contained, overlap\n",
    "\n",
    "assert camp_cleanup(p.example_data) == (2, 4)\n",
    "      "
   ]
  },
  {
   "cell_type": "code",
   "execution_count": null,
   "metadata": {},
   "outputs": [],
   "source": [
    "p.answers = camp_cleanup(p.input_data)"
   ]
  },
  {
   "cell_type": "code",
   "execution_count": null,
   "metadata": {},
   "outputs": [],
   "source": []
  }
 ],
 "metadata": {
  "kernelspec": {
   "display_name": "Python 3.10.0 ('py3')",
   "language": "python",
   "name": "python3"
  },
  "language_info": {
   "codemirror_mode": {
    "name": "ipython",
    "version": 3
   },
   "file_extension": ".py",
   "mimetype": "text/x-python",
   "name": "python",
   "nbconvert_exporter": "python",
   "pygments_lexer": "ipython3",
   "version": "3.10.0"
  },
  "vscode": {
   "interpreter": {
    "hash": "04a09e2e14eb6b92be6b7b85e349c7b7974c646f3d040b1b79db9e54e09a30c3"
   }
  }
 },
 "nbformat": 4,
 "nbformat_minor": 2
}
