{
 "cells": [
  {
   "cell_type": "code",
   "execution_count": 2,
   "metadata": {},
   "outputs": [],
   "source": [
    "from aoc import *"
   ]
  },
  {
   "cell_type": "code",
   "execution_count": 24,
   "metadata": {},
   "outputs": [
    {
     "data": {
      "text/plain": [
       "<Puzzle(2022, 1) at 0x7f89574b3a90 - Calorie Counting>"
      ]
     },
     "execution_count": 24,
     "metadata": {},
     "output_type": "execute_result"
    }
   ],
   "source": [
    "p = Puzzle(year=2022, day=1)\n",
    "p"
   ]
  },
  {
   "cell_type": "code",
   "execution_count": 27,
   "metadata": {},
   "outputs": [
    {
     "data": {
      "text/plain": [
       "('67633', '199628')"
      ]
     },
     "execution_count": 27,
     "metadata": {},
     "output_type": "execute_result"
    }
   ],
   "source": [
    "def calorie_count(data):\n",
    "    elves = data.split(\"\\n\\n\")\n",
    "    elves = [[int(l) for l in x.splitlines()] for x in elves]\n",
    "    elf_sum = [sum(e) for e in elves]\n",
    "    return sorted(elf_sum, reverse=True)\n",
    "    \n",
    "assert calorie_count(p.example_data)[0] == 24000\n",
    "elves = calorie_count(p.input_data)\n",
    "p.answer_a = elves[0]\n",
    "p.answer_b = sum(elves[:3])\n",
    "p.answers"
   ]
  },
  {
   "cell_type": "code",
   "execution_count": null,
   "metadata": {},
   "outputs": [],
   "source": []
  }
 ],
 "metadata": {
  "kernelspec": {
   "display_name": "Python 3.9.13 ('py39')",
   "language": "python",
   "name": "python3"
  },
  "language_info": {
   "codemirror_mode": {
    "name": "ipython",
    "version": 3
   },
   "file_extension": ".py",
   "mimetype": "text/x-python",
   "name": "python",
   "nbconvert_exporter": "python",
   "pygments_lexer": "ipython3",
   "version": "3.9.13"
  },
  "orig_nbformat": 4,
  "vscode": {
   "interpreter": {
    "hash": "27b143f34847a2d4fdd35ddd6888aa5709ecaccd069e9438664809dabde818fd"
   }
  }
 },
 "nbformat": 4,
 "nbformat_minor": 2
}
