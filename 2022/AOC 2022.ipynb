{
 "cells": [
  {
   "cell_type": "code",
   "execution_count": 2,
   "metadata": {},
   "outputs": [],
   "source": [
    "from aoc import *\n",
    "import re\n",
    "from aocd.models import Puzzle as AOCDPuzzle\n",
    "\n",
    "def Puzzle(day, year=2022):\n",
    "   return AOCDPuzzle(year=year, day=day)"
   ]
  },
  {
   "cell_type": "code",
   "execution_count": 3,
   "metadata": {},
   "outputs": [
    {
     "data": {
      "text/plain": [
       "<Puzzle(2022, 1) at 0x7f1c108eb430 - Calorie Counting>"
      ]
     },
     "execution_count": 3,
     "metadata": {},
     "output_type": "execute_result"
    }
   ],
   "source": [
    "p = Puzzle(day=1)\n",
    "p"
   ]
  },
  {
   "cell_type": "code",
   "execution_count": 4,
   "metadata": {},
   "outputs": [
    {
     "data": {
      "text/plain": [
       "('67633', '199628')"
      ]
     },
     "execution_count": 4,
     "metadata": {},
     "output_type": "execute_result"
    }
   ],
   "source": [
    "def calorie_count(data):\n",
    "    elves = data.split(\"\\n\\n\")\n",
    "    elves = [[int(l) for l in x.splitlines()] for x in elves]\n",
    "    elf_sum = [sum(e) for e in elves]\n",
    "    return sorted(elf_sum, reverse=True)\n",
    "    \n",
    "assert calorie_count(p.example_data)[0] == 24000\n",
    "elves = calorie_count(p.input_data)\n",
    "p.answer_a = elves[0]\n",
    "p.answer_b = sum(elves[:3])\n",
    "p.answers"
   ]
  },
  {
   "cell_type": "code",
   "execution_count": 5,
   "metadata": {},
   "outputs": [
    {
     "data": {
      "text/plain": [
       "(<Puzzle(2022, 2) at 0x7f1c0d7655b0 - Rock Paper Scissors>,\n",
       " [<span title=\"Why do you keep guessing?!\">you reason</span>])"
      ]
     },
     "execution_count": 5,
     "metadata": {},
     "output_type": "execute_result"
    }
   ],
   "source": [
    "p = Puzzle(day=2)\n",
    "p, p.easter_eggs"
   ]
  },
  {
   "cell_type": "code",
   "execution_count": 6,
   "metadata": {},
   "outputs": [],
   "source": [
    "Rock, Paper, Scissors = (1, 2, 3)\n",
    "\n",
    "def rock_paper_scissors(input, part='a'):\n",
    "   RPS = { \n",
    "      'A': Rock, 'B': Paper, 'C': Scissors,\n",
    "      'X': Rock, 'Y': Paper, 'Z': Scissors,\n",
    "   }\n",
    "   score = 0\n",
    "   for round in input.strip().splitlines():\n",
    "      them, us = [RPS[x] for x in round.split(' ')]\n",
    "      if part == 'b':\n",
    "         if us == Rock: # Lose\n",
    "            us = (Rock if them == Paper else\n",
    "                  Paper if them == Scissors else\n",
    "                  Scissors)\n",
    "         elif us == Paper: # Draw\n",
    "            us = them\n",
    "         else: # Win\n",
    "            us = (Rock if them == Scissors else\n",
    "                  Paper if them == Rock else\n",
    "                  Scissors)\n",
    "      score += us\n",
    "      if them == us:\n",
    "         score += 3\n",
    "      if (them, us) in ((Rock, Paper), (Paper, Scissors), (Scissors, Rock)):\n",
    "         score += 6\n",
    "   return score\n",
    "\n",
    "assert rock_paper_scissors(p.example_data, 'a') == 15\n",
    "assert rock_paper_scissors(p.example_data, 'b') == 12"
   ]
  },
  {
   "cell_type": "code",
   "execution_count": 7,
   "metadata": {},
   "outputs": [],
   "source": [
    "p.answers = (\n",
    "    rock_paper_scissors(p.input_data),\n",
    "    rock_paper_scissors(p.input_data, 'b')\n",
    ")"
   ]
  },
  {
   "cell_type": "code",
   "execution_count": 8,
   "metadata": {},
   "outputs": [
    {
     "data": {
      "text/plain": [
       "<Puzzle(2022, 3) at 0x7f1c10f6ba90 - Rucksack Reorganization>"
      ]
     },
     "execution_count": 8,
     "metadata": {},
     "output_type": "execute_result"
    }
   ],
   "source": [
    "p = Puzzle(day=3)\n",
    "p"
   ]
  },
  {
   "cell_type": "code",
   "execution_count": 9,
   "metadata": {},
   "outputs": [],
   "source": [
    "def rucksacks(input):\n",
    "   def score(x):\n",
    "      return ord(x) - ((ord('a') - 1) if x.islower() else (ord('A') - 27))\n",
    "   groups = grouper(input.splitlines(), 3)\n",
    "   prio = 0\n",
    "   badges = 0\n",
    "   for group in groups:\n",
    "      badge = set.intersection(*[set(elf) for elf in group]).pop()\n",
    "      for elf in group:\n",
    "         assert len(elf) % 2 == 0\n",
    "         c1 = set(elf[:len(elf)//2])\n",
    "         c2 = set(elf[len(elf)//2:])\n",
    "         x = (c1 & c2).pop()\n",
    "         prio += score(x)\n",
    "      badges += score(badge)\n",
    "   return prio, badges\n",
    "\n",
    "assert rucksacks(p.example_data) == (157, 70)"
   ]
  },
  {
   "cell_type": "code",
   "execution_count": 10,
   "metadata": {},
   "outputs": [],
   "source": [
    "p.answers = rucksacks(p.input_data)"
   ]
  },
  {
   "cell_type": "code",
   "execution_count": 11,
   "metadata": {},
   "outputs": [
    {
     "data": {
      "text/plain": [
       "<Puzzle(2022, 4) at 0x7f1c0d6870a0 - Camp Cleanup>"
      ]
     },
     "execution_count": 11,
     "metadata": {},
     "output_type": "execute_result"
    }
   ],
   "source": [
    "p = Puzzle(day=4)\n",
    "p"
   ]
  },
  {
   "cell_type": "code",
   "execution_count": 12,
   "metadata": {},
   "outputs": [],
   "source": [
    "def camp_cleanup(input):\n",
    "   contained = 0\n",
    "   overlap = 0\n",
    "   for line in input.splitlines():\n",
    "      a, b = line.split(',')\n",
    "      a = tuple(int(x) for x in a.split('-'))\n",
    "      b = tuple(int(x) for x in b.split('-'))\n",
    "      if a[0] >= b[0] and a[1] <= b[1] or b[0] >= a[0] and b[1] <= a[1]:\n",
    "         contained += 1\n",
    "      if (a[0] >= b[0] and a[0] <= b[1] or\n",
    "          a[1] >= b[0] and a[1] <= b[1] or\n",
    "          b[0] >= a[0] and b[0] <= a[1] or\n",
    "          b[1] >= a[0] and b[1] <= a[1]):\n",
    "         overlap += 1\n",
    "   return contained, overlap\n",
    "\n",
    "assert camp_cleanup(p.example_data) == (2, 4)\n",
    "      "
   ]
  },
  {
   "cell_type": "code",
   "execution_count": 13,
   "metadata": {},
   "outputs": [],
   "source": [
    "p.answers = camp_cleanup(p.input_data)"
   ]
  },
  {
   "cell_type": "code",
   "execution_count": 14,
   "metadata": {},
   "outputs": [
    {
     "data": {
      "text/plain": [
       "(<Puzzle(2022, 5) at 0x7f1c0d765d30 - Supply Stacks>,\n",
       " ['    [D]    ',\n",
       "  '[N] [C]    ',\n",
       "  '[Z] [M] [P]',\n",
       "  ' 1   2   3 ',\n",
       "  '',\n",
       "  'move 1 from 2 to 1',\n",
       "  'move 3 from 1 to 3',\n",
       "  'move 2 from 2 to 1',\n",
       "  'move 1 from 1 to 2'])"
      ]
     },
     "execution_count": 14,
     "metadata": {},
     "output_type": "execute_result"
    }
   ],
   "source": [
    "p = Puzzle(day=5)\n",
    "p, p.example_data.splitlines()"
   ]
  },
  {
   "cell_type": "code",
   "execution_count": 15,
   "metadata": {},
   "outputs": [],
   "source": [
    "def cargo(input, part='a'):\n",
    "   stacks = None\n",
    "   for line in input.splitlines():\n",
    "      if not line:\n",
    "         continue\n",
    "      if line and line[0] != 'm':\n",
    "         boxes = line[1::4]\n",
    "         if boxes[0] == '1':\n",
    "            continue\n",
    "         if stacks is None:\n",
    "            stacks = [''] * len(boxes)\n",
    "         for i, b in enumerate(boxes):\n",
    "            if b == ' ':\n",
    "               continue\n",
    "            stacks[i] = stacks[i] + b\n",
    "         continue\n",
    "      count, x, y = [int(x) for x in re.findall(r'(\\d+)', line)]\n",
    "      x = x - 1\n",
    "      y = y - 1\n",
    "      src, dest = stacks[x], stacks[y]\n",
    "      move = src[:count]\n",
    "      if part == 'a':\n",
    "         move = move[::-1]\n",
    "      dest = move + dest\n",
    "      src = src[count:]\n",
    "      stacks[x], stacks[y] = src, dest\n",
    "   answer = ''.join(s[0] for s in stacks)\n",
    "   return answer\n",
    "\n",
    "assert cargo(p.example_data) == 'CMZ'\n",
    "assert cargo(p.example_data, 'b') == 'MCD'"
   ]
  },
  {
   "cell_type": "code",
   "execution_count": 16,
   "metadata": {},
   "outputs": [],
   "source": [
    "p.answer_a = cargo(p.input_data)\n",
    "p.answer_b = cargo(p.input_data, 'b')"
   ]
  },
  {
   "cell_type": "code",
   "execution_count": 17,
   "metadata": {},
   "outputs": [
    {
     "data": {
      "text/plain": [
       "(<Puzzle(2022, 6) at 0x7f1c0d687eb0 - Tuning Trouble>,\n",
       " ['mjqjpqmgbljsphdztnvjfqwrcgsmlb'])"
      ]
     },
     "execution_count": 17,
     "metadata": {},
     "output_type": "execute_result"
    }
   ],
   "source": [
    "p = Puzzle(day=6)\n",
    "p, p.example_data.splitlines()"
   ]
  },
  {
   "cell_type": "code",
   "execution_count": 18,
   "metadata": {},
   "outputs": [],
   "source": [
    "def tuning(input, num=4):\n",
    "    for i in range(num, len(input) + 1):\n",
    "        if len(set(input[i-num:i])) == num:\n",
    "            return i\n",
    "    assert False\n",
    "\n",
    "assert tuning(p.example_data) == 7\n",
    "assert tuning('bvwbjplbgvbhsrlpgdmjqwftvncz') == 5\n",
    "assert tuning('zcfzfwzzqfrljwzlrfnpqdbhtmscgvjw') == 11\n",
    "\n",
    "assert tuning('mjqjpqmgbljsphdztnvjfqwrcgsmlb', 14) == 19\n",
    "assert tuning('bvwbjplbgvbhsrlpgdmjqwftvncz', 14) == 23\n",
    "assert tuning('nppdvjthqldpwncqszvftbrmjlhg', 14) == 23\n",
    "assert tuning('nznrnfrfntjfmvfwmzdfjlvtqnbhcprsg', 14) == 29\n",
    "assert tuning('zcfzfwzzqfrljwzlrfnpqdbhtmscgvjw', 14) == 26"
   ]
  },
  {
   "cell_type": "code",
   "execution_count": 19,
   "metadata": {},
   "outputs": [],
   "source": [
    "p.answer_a = tuning(p.input_data)\n",
    "p.answer_b = tuning(p.input_data, 14)"
   ]
  },
  {
   "cell_type": "code",
   "execution_count": 20,
   "metadata": {},
   "outputs": [],
   "source": [
    "p = Puzzle(day=7)\n",
    "p\n",
    "\n",
    "ex = \"\"\"$ cd /\n",
    "$ ls\n",
    "dir a\n",
    "14848514 b.txt\n",
    "8504156 c.dat\n",
    "dir d\n",
    "$ cd a\n",
    "$ ls\n",
    "dir e\n",
    "29116 f\n",
    "2557 g\n",
    "62596 h.lst\n",
    "$ cd e\n",
    "$ ls\n",
    "584 i\n",
    "$ cd ..\n",
    "$ cd ..\n",
    "$ cd d\n",
    "$ ls\n",
    "4060174 j\n",
    "8033020 d.log\n",
    "5626152 d.ext\n",
    "7214296 k\n",
    "\"\"\""
   ]
  },
  {
   "cell_type": "code",
   "execution_count": 21,
   "metadata": {},
   "outputs": [],
   "source": [
    "def filesystem(input):\n",
    "   fs = {}\n",
    "   cwd = fs\n",
    "   path = '/'\n",
    "\n",
    "   def split_path(d):\n",
    "      children = []\n",
    "      path = d\n",
    "      while path != \"/\":\n",
    "         path, child = os.path.split(path)\n",
    "         children = [child] + children\n",
    "      return children\n",
    "\n",
    "   def mkdir(d):\n",
    "      result = fs\n",
    "      for subdir in split_path(d):\n",
    "         result = result.setdefault(subdir, {\"..\": result})\n",
    "      return result\n",
    "\n",
    "   def visit(fs, func, path=\"/\"):\n",
    "      for k, v in fs.items():\n",
    "         if k == \"..\": continue\n",
    "         if type(v) is dict:\n",
    "            yield from visit(v, func, os.path.join(path, k))\n",
    "      yield func(fs, path)\n",
    "\n",
    "   def size(node):\n",
    "      cache = {}\n",
    "      def impl(x, path):\n",
    "         if path not in cache:\n",
    "            cache[path] = sum(v for k, v in x.items() if k != \"..\" and type(v) is not dict)\n",
    "         return cache[path]\n",
    "      return sum(visit(node, impl))\n",
    "\n",
    "   for line in input.splitlines():\n",
    "      if m := re.match(r'^\\$ cd (.+)', line):\n",
    "         path = os.path.abspath(os.path.join(path, m.group(1)))\n",
    "         cwd = mkdir(path)\n",
    "         continue\n",
    "      if line == \"$ ls\":\n",
    "         continue\n",
    "      if m := re.match(\"dir (.+)\", line):\n",
    "         mkdir(os.path.join(path, m.group(1)))\n",
    "         continue\n",
    "      sz, name = line.split(' ')\n",
    "      cwd[name] = int(sz)\n",
    "\n",
    "   total_size = size(fs)\n",
    "   capacity = 70000000\n",
    "   space_needed = 30000000\n",
    "   free_space = capacity - total_size\n",
    "   need_to_clear = space_needed - free_space\n",
    "   sizes = sorted(visit(fs, lambda fs, _: size(fs)))\n",
    "   return (\n",
    "      sum(s for s in sizes if s <= 100000),\n",
    "      next(s for s in sizes if s >= need_to_clear)\n",
    "   )\n",
    "\n",
    "assert filesystem(ex) == (95437, 24933642)"
   ]
  },
  {
   "cell_type": "code",
   "execution_count": 22,
   "metadata": {},
   "outputs": [],
   "source": [
    "p.answers = filesystem(p.input_data)"
   ]
  },
  {
   "cell_type": "code",
   "execution_count": 23,
   "metadata": {},
   "outputs": [
    {
     "data": {
      "text/plain": [
       "(<Puzzle(2022, 8) at 0x7f1c0d687520 - Treetop Tree House>,\n",
       " ['30373', '25512', '65332', '33549', '35390'])"
      ]
     },
     "execution_count": 23,
     "metadata": {},
     "output_type": "execute_result"
    }
   ],
   "source": [
    "p = Puzzle(day=8)\n",
    "p, p.example_data.splitlines()"
   ]
  },
  {
   "cell_type": "code",
   "execution_count": 24,
   "metadata": {},
   "outputs": [],
   "source": [
    "def treehouse(input):\n",
    "   forest = []\n",
    "   for line in input.splitlines():\n",
    "      forest.append([int(c) for c in line])\n",
    "   rows, cols = len(forest), len(forest[0])\n",
    "   def is_visible(f, x, y):\n",
    "      rows, cols = len(f), len(f[0])\n",
    "      assert x >= 0 and x < cols and y >= 0 and y < rows\n",
    "      if x in (0, cols - 1) or y in (0, rows - 1):\n",
    "         return True\n",
    "      left = f[y][:x]\n",
    "      right = f[y][x+1:]\n",
    "      up = [f[yy][x] for yy in range(y)]\n",
    "      down = [f[yy][x] for yy in range(y+1, rows)]\n",
    "      tree = f[y][x]\n",
    "      vis = any(max(line, default=-1) < tree for line in (left, right, up, down))\n",
    "      # print(f\"(x={x}, y={y}): t={tree} vis={vis} l={left} r={right} u={up} d={down}\")\n",
    "      return vis\n",
    "   def scenic_score(f, x, y):\n",
    "      rows, cols = len(f), len(f[0])\n",
    "      assert x >= 0 and x < cols and y >= 0 and y < rows\n",
    "      if x in (0, cols - 1) or y in (0, rows - 1):\n",
    "         return 0\n",
    "      tree = f[y][x]\n",
    "      left = list(reversed(f[y][:x]))\n",
    "      right = f[y][x+1:]\n",
    "      up = list(reversed([f[yy][x] for yy in range(y)]))\n",
    "      down = [f[yy][x] for yy in range(y+1, rows)]\n",
    "      def score(l, t):\n",
    "         return next(\n",
    "            (i + 1 for i, x in enumerate(l) if x >= t),\n",
    "            len(l)\n",
    "         )\n",
    "      return multiply(score(l, tree) for l in (left, right, up, down))\n",
    "\n",
    "   # print((rows, cols), forest)\n",
    "   vis = sum(is_visible(forest, x, y) for y in range(rows) for x in range(cols))\n",
    "   best = max(scenic_score(forest, x, y) for y in range(rows) for x in range(cols))\n",
    "\n",
    "   return vis, best\n",
    "\n",
    "assert treehouse(p.example_data) == (21, 8)"
   ]
  },
  {
   "cell_type": "code",
   "execution_count": 25,
   "metadata": {},
   "outputs": [],
   "source": [
    "p.answers = treehouse(p.input_data)"
   ]
  },
  {
   "cell_type": "code",
   "execution_count": 26,
   "metadata": {},
   "outputs": [],
   "source": [
    "p = Puzzle(day=9)\n",
    "p\n",
    "ex = \"\"\"R 4\n",
    "U 4\n",
    "L 3\n",
    "D 1\n",
    "R 4\n",
    "D 1\n",
    "L 5\n",
    "R 2\"\"\"\n"
   ]
  },
  {
   "cell_type": "code",
   "execution_count": 27,
   "metadata": {},
   "outputs": [],
   "source": [
    "\n",
    "def rope(input, knots=2):\n",
    "    def sign(x):\n",
    "        return -1 if x < 0 else 0 if x == 0 else 1\n",
    "    rope = [(0, 0)] * knots\n",
    "    seen = set([(0, 0)])\n",
    "    for line in input.splitlines():\n",
    "        d, count = line.split(' ', 1)\n",
    "        move = UP if d == \"U\" else DOWN if d == \"D\" else LEFT if d == \"L\" else RIGHT\n",
    "        for step in range(int(count)):\n",
    "            for i, knot in enumerate(rope):\n",
    "                if i == 0:\n",
    "                    rope[i] = (X(knot) + X(move), Y(knot) + Y(move))\n",
    "                    continue\n",
    "                prev = rope[i-1]\n",
    "                if knot == prev or knot in neighbors8(prev):\n",
    "                    continue\n",
    "                diff = (X(knot) - X(prev), Y(knot) - Y(prev))\n",
    "                rope[i] = knot = (X(knot) - sign(X(diff)), Y(knot) - sign(Y(diff)))\n",
    "                if i == len(rope) - 1:\n",
    "                    seen.add(knot)\n",
    "    return len(seen)\n",
    "\n",
    "assert rope(ex) == 13\n"
   ]
  },
  {
   "cell_type": "code",
   "execution_count": 28,
   "metadata": {},
   "outputs": [],
   "source": [
    "p.answer_a = rope(p.input_data)\n",
    "p.answer_b = rope(p.input_data, knots=10)"
   ]
  },
  {
   "cell_type": "code",
   "execution_count": 29,
   "metadata": {},
   "outputs": [],
   "source": [
    "p = Puzzle(day=10)\n",
    "p\n",
    "ex = \"\"\"addx 15\n",
    "addx -11\n",
    "addx 6\n",
    "addx -3\n",
    "addx 5\n",
    "addx -1\n",
    "addx -8\n",
    "addx 13\n",
    "addx 4\n",
    "noop\n",
    "addx -1\n",
    "addx 5\n",
    "addx -1\n",
    "addx 5\n",
    "addx -1\n",
    "addx 5\n",
    "addx -1\n",
    "addx 5\n",
    "addx -1\n",
    "addx -35\n",
    "addx 1\n",
    "addx 24\n",
    "addx -19\n",
    "addx 1\n",
    "addx 16\n",
    "addx -11\n",
    "noop\n",
    "noop\n",
    "addx 21\n",
    "addx -15\n",
    "noop\n",
    "noop\n",
    "addx -3\n",
    "addx 9\n",
    "addx 1\n",
    "addx -3\n",
    "addx 8\n",
    "addx 1\n",
    "addx 5\n",
    "noop\n",
    "noop\n",
    "noop\n",
    "noop\n",
    "noop\n",
    "addx -36\n",
    "noop\n",
    "addx 1\n",
    "addx 7\n",
    "noop\n",
    "noop\n",
    "noop\n",
    "addx 2\n",
    "addx 6\n",
    "noop\n",
    "noop\n",
    "noop\n",
    "noop\n",
    "noop\n",
    "addx 1\n",
    "noop\n",
    "noop\n",
    "addx 7\n",
    "addx 1\n",
    "noop\n",
    "addx -13\n",
    "addx 13\n",
    "addx 7\n",
    "noop\n",
    "addx 1\n",
    "addx -33\n",
    "noop\n",
    "noop\n",
    "noop\n",
    "addx 2\n",
    "noop\n",
    "noop\n",
    "noop\n",
    "addx 8\n",
    "noop\n",
    "addx -1\n",
    "addx 2\n",
    "addx 1\n",
    "noop\n",
    "addx 17\n",
    "addx -9\n",
    "addx 1\n",
    "addx 1\n",
    "addx -3\n",
    "addx 11\n",
    "noop\n",
    "noop\n",
    "addx 1\n",
    "noop\n",
    "addx 1\n",
    "noop\n",
    "noop\n",
    "addx -13\n",
    "addx -19\n",
    "addx 1\n",
    "addx 3\n",
    "addx 26\n",
    "addx -30\n",
    "addx 12\n",
    "addx -1\n",
    "addx 3\n",
    "addx 1\n",
    "noop\n",
    "noop\n",
    "noop\n",
    "addx -9\n",
    "addx 18\n",
    "addx 1\n",
    "addx 2\n",
    "noop\n",
    "noop\n",
    "addx 9\n",
    "noop\n",
    "noop\n",
    "noop\n",
    "addx -1\n",
    "addx 2\n",
    "addx -37\n",
    "addx 1\n",
    "addx 3\n",
    "noop\n",
    "addx 15\n",
    "addx -21\n",
    "addx 22\n",
    "addx -6\n",
    "addx 1\n",
    "noop\n",
    "addx 2\n",
    "addx 1\n",
    "noop\n",
    "addx -10\n",
    "noop\n",
    "noop\n",
    "addx 20\n",
    "addx 1\n",
    "addx 2\n",
    "addx 2\n",
    "addx -6\n",
    "addx -11\n",
    "noop\n",
    "noop\n",
    "noop\n",
    "\"\"\""
   ]
  },
  {
   "cell_type": "code",
   "execution_count": 30,
   "metadata": {},
   "outputs": [
    {
     "name": "stdout",
     "output_type": "stream",
     "text": [
      "##  ##  ##  ##  ##  ##  ##  ##  ##  ##  \n",
      "###   ###   ###   ###   ###   ###   ### \n",
      "####    ####    ####    ####    ####    \n",
      "#####     #####     #####     #####     \n",
      "######      ######      ######      ####\n",
      "#######       #######       #######     \n"
     ]
    }
   ],
   "source": [
    "def crt(input):\n",
    "   insns = []\n",
    "   for line in input.splitlines():\n",
    "      if m := re.match(r'addx (-?\\d+)', line):\n",
    "         insns.append(None)\n",
    "         insns.append(int(m.group(1)))\n",
    "      elif line == \"noop\":\n",
    "         insns.append(None)\n",
    "   X = 1\n",
    "   strength = 0\n",
    "   display = []\n",
    "   line = ''\n",
    "   for cycle, op in enumerate(insns):\n",
    "      if cycle == 19 or (cycle - 19) % 40 == 0:\n",
    "         strength += X * (cycle + 1)\n",
    "      idx = cycle % 40\n",
    "      if idx >= X - 1 and idx <= X + 1:\n",
    "         line = line + '#'\n",
    "      else:\n",
    "         line = line + ' '\n",
    "      if idx == 39:\n",
    "         display.append(line)\n",
    "         line = ''\n",
    "      if op is not None:\n",
    "         X += op\n",
    "   print('\\n'.join(display))\n",
    "   return strength\n",
    "\n",
    "assert crt(ex) == 13140"
   ]
  },
  {
   "cell_type": "code",
   "execution_count": 31,
   "metadata": {},
   "outputs": [
    {
     "name": "stdout",
     "output_type": "stream",
     "text": [
      "###  #  #  ##  ####  ##    ## ###  ###  \n",
      "#  # # #  #  #    # #  #    # #  # #  # \n",
      "#  # ##   #  #   #  #  #    # ###  #  # \n",
      "###  # #  ####  #   ####    # #  # ###  \n",
      "# #  # #  #  # #    #  # #  # #  # # #  \n",
      "#  # #  # #  # #### #  #  ##  ###  #  # \n"
     ]
    }
   ],
   "source": [
    "p.answer_a = crt(p.input_data)\n",
    "p.answer_b = 'RKAZAJBR'"
   ]
  },
  {
   "cell_type": "code",
   "execution_count": 32,
   "metadata": {},
   "outputs": [
    {
     "data": {
      "text/plain": [
       "<Puzzle(2022, 11) at 0x7f1c0d68a940 - Monkey in the Middle>"
      ]
     },
     "execution_count": 32,
     "metadata": {},
     "output_type": "execute_result"
    }
   ],
   "source": [
    "p = Puzzle(day=11)\n",
    "p"
   ]
  },
  {
   "cell_type": "code",
   "execution_count": 33,
   "metadata": {},
   "outputs": [],
   "source": [
    "class Monkey(object):\n",
    "   def __init__(self, para):\n",
    "      for line in [l.strip() for l in para.split('\\n')]:\n",
    "         x, *rest = line.split(':', 1)\n",
    "         rest = [atom(a.rstrip(',')) for a in rest[0].strip().split(' ')]\n",
    "         if x.startswith(\"Monkey\"):\n",
    "            self.name = x\n",
    "         if x.startswith('Starting'):\n",
    "            self.items = rest\n",
    "         if x.startswith('Operation'):\n",
    "            self.op = rest[-2:]\n",
    "         if x.startswith('Test'):\n",
    "            self.mod = rest[-1]\n",
    "         if x.startswith('If true'):\n",
    "            self.dest = [-1, rest[-1]]\n",
    "         if x.startswith('If false'):\n",
    "            self.dest[0] = rest[-1]\n",
    "            \n",
    "   def __repr__(self):\n",
    "      return f\"{self.name}: {self.items}\"\n",
    "\n",
    "   def mult(self):\n",
    "      if self.op[0] == '*' and self.op[1] != 'old':\n",
    "         return self.op[-1]\n",
    "      return 1\n",
    "\n",
    "   def inspect(self, item, divisor, gcd):\n",
    "      rhs = item if self.op[-1] == \"old\" else self.op[-1]\n",
    "      if self.op[0] == '*':\n",
    "         item *= rhs\n",
    "      else:\n",
    "         item += rhs\n",
    "      return (item // divisor) % gcd\n",
    "      \n",
    "   def turn(self, divisor, gcd):\n",
    "      for item in self.items:\n",
    "         item = self.inspect(item, divisor, gcd)\n",
    "         dest = self.dest[item % self.mod == 0]\n",
    "         yield (item, dest)\n",
    "      self.items = []\n",
    "            \n",
    "def monkey_business(input, rounds=20, divisor=3, debug=False):\n",
    "   monkeys = [Monkey(para) for para in input.split('\\n\\n')]\n",
    "   gcd = multiply(m.mod for m in monkeys)\n",
    "   count = defaultdict(int)\n",
    "   for round in range(1, rounds + 1):\n",
    "      for idx, monkey in enumerate(monkeys):\n",
    "         for item, dest in monkey.turn(divisor, gcd):\n",
    "            count[idx] += 1\n",
    "            monkeys[dest].items.append(item)\n",
    "      if debug and (round % 1000 == 0 or round == rounds):\n",
    "         print(round, count)\n",
    "   return multiply(sorted(count.values())[-2:])\n",
    "\n",
    "assert monkey_business(p.example_data) == 10605\n",
    "assert monkey_business(p.example_data, divisor=1, rounds=10000) == 2713310158\n"
   ]
  },
  {
   "cell_type": "code",
   "execution_count": 34,
   "metadata": {},
   "outputs": [],
   "source": [
    "p.answers = (\n",
    "   monkey_business(p.input_data),\n",
    "   monkey_business(p.input_data, divisor=1, rounds=10000)\n",
    ")"
   ]
  },
  {
   "cell_type": "code",
   "execution_count": 35,
   "metadata": {},
   "outputs": [
    {
     "data": {
      "text/plain": [
       "<Puzzle(2022, 12) at 0x7f1c0d69dac0 - Hill Climbing Algorithm>"
      ]
     },
     "execution_count": 35,
     "metadata": {},
     "output_type": "execute_result"
    }
   ],
   "source": [
    "p =  Puzzle(day=12)\n",
    "p"
   ]
  },
  {
   "cell_type": "code",
   "execution_count": 36,
   "metadata": {},
   "outputs": [
    {
     "data": {
      "text/plain": [
       "['Sabqponm', 'abcryxxl', 'accszExk', 'acctuvwj', 'abdefghi']"
      ]
     },
     "execution_count": 36,
     "metadata": {},
     "output_type": "execute_result"
    }
   ],
   "source": [
    "p.example_data.splitlines()"
   ]
  },
  {
   "cell_type": "code",
   "execution_count": 37,
   "metadata": {},
   "outputs": [],
   "source": [
    "def hill_climbing(input):\n",
    "    graph = {}\n",
    "    starts = set()\n",
    "    pos = (0, 0)\n",
    "    dest = None\n",
    "    for y, line in enumerate(input.splitlines()):\n",
    "        row = []\n",
    "        for x, c in enumerate(line):\n",
    "            if c == 'S':\n",
    "                pos = (x, y)\n",
    "                c = 'a'\n",
    "            elif c == 'E':\n",
    "                dest = (x, y)\n",
    "                c = 'z'\n",
    "            graph[(x, y)] = ord(c) - ord('a')\n",
    "            if c == 'a':\n",
    "                starts.add((x, y))\n",
    "    def moves(s):\n",
    "        for n in neighbors4(s):\n",
    "            if n in graph and graph[n] <= graph[s] + 1:\n",
    "                yield n\n",
    "    a1 = bfs(pos, moves, [dest])\n",
    "    first = best = len(a1) - 1\n",
    "    for pos in starts:\n",
    "        if answer := bfs(pos, moves, [dest]):\n",
    "            best = min(best, len(answer) - 1)\n",
    "    return first, best\n",
    "\n",
    "assert hill_climbing(p.example_data) == (31, 29)\n",
    "            "
   ]
  },
  {
   "cell_type": "code",
   "execution_count": 38,
   "metadata": {},
   "outputs": [],
   "source": [
    "p.answers = hill_climbing(p.input_data)"
   ]
  },
  {
   "cell_type": "code",
   "execution_count": 39,
   "metadata": {},
   "outputs": [
    {
     "data": {
      "text/plain": [
       "<Puzzle(2022, 13) at 0x7f1c0d69f8b0 - Distress Signal>"
      ]
     },
     "execution_count": 39,
     "metadata": {},
     "output_type": "execute_result"
    }
   ],
   "source": [
    "p = Puzzle(day=13)\n",
    "p"
   ]
  },
  {
   "cell_type": "code",
   "execution_count": 40,
   "metadata": {},
   "outputs": [],
   "source": [
    "def compair(x, y):\n",
    "    if type(x) is int and type(y) is int:\n",
    "        if x < y:\n",
    "            return -1\n",
    "        if x > y:\n",
    "            return 1\n",
    "        return 0\n",
    "    if type(x) is int:\n",
    "        return compair([x], y)\n",
    "    if type(y) is int:\n",
    "        return compair(x, [y])\n",
    "    for xx, yy in zip_longest(x, y):\n",
    "        if xx is None:\n",
    "            return -1\n",
    "        if yy is None:\n",
    "            return 1\n",
    "        if (res := compair(xx, yy)) != 0:\n",
    "            return res\n",
    "    return 0\n",
    "    \n",
    "def distress(input):\n",
    "    import json\n",
    "    import functools\n",
    "    ordered = 0\n",
    "    for idx, para in enumerate(input.split('\\n\\n'), 1):\n",
    "        x, y = [json.loads(s) for s in para.split('\\n')]\n",
    "        if compair(x, y) == -1:\n",
    "            ordered += idx\n",
    "    packets = [json.loads(line) for line in input.splitlines() if line] + [[[2]]] + [[[6]]]\n",
    "    packets.sort(key=functools.cmp_to_key(compair))\n",
    "    return (ordered, (1 + packets.index([[2]])) * (1 + packets.index([[6]])))\n",
    "\n",
    "assert distress(p.example_data) == (13, 140)"
   ]
  },
  {
   "cell_type": "code",
   "execution_count": 41,
   "metadata": {},
   "outputs": [],
   "source": [
    "p.answers = distress(p.input_data)"
   ]
  },
  {
   "cell_type": "code",
   "execution_count": 42,
   "metadata": {},
   "outputs": [
    {
     "data": {
      "text/plain": [
       "<Puzzle(2022, 14) at 0x7f1c0d69dd90 - Regolith Reservoir>"
      ]
     },
     "execution_count": 42,
     "metadata": {},
     "output_type": "execute_result"
    }
   ],
   "source": [
    "p = Puzzle(day=14)\n",
    "p"
   ]
  },
  {
   "cell_type": "code",
   "execution_count": 43,
   "metadata": {},
   "outputs": [],
   "source": [
    "def cavern(input, part_b=False):\n",
    "   cave = set()\n",
    "   minx = 10 ** 10\n",
    "   maxx = 0\n",
    "   maxy = 0\n",
    "   for line in input.splitlines():\n",
    "      prev = None\n",
    "      for p in line.split(\" -> \"):\n",
    "         p = tuple(int(a) for a in p.split(\",\"))\n",
    "         if prev is not None:\n",
    "            x0, x1 = min(X(prev), X(p)), max(X(prev), X(p))\n",
    "            y0, y1 = min(Y(prev), Y(p)), max(Y(prev), Y(p))\n",
    "            minx = min(minx, x0)\n",
    "            maxx = max(maxx, x1)\n",
    "            maxy = max(maxy, y1 + (2 if part_b else 0))\n",
    "            points = set((x, y) for y in range(y0, y1 + 1) for x in range(x0, x1 + 1))\n",
    "            cave |= points\n",
    "         prev = p\n",
    "\n",
    "   # Model sand falling\n",
    "   def moves(p):\n",
    "      for x, y in ((0, 1), (-1, 1), (1, 1)):\n",
    "         yield (X(p) + x, Y(p) + y)\n",
    "\n",
    "   grains = set()\n",
    "   done = False\n",
    "   while not done:\n",
    "      # New grain of sand\n",
    "      p = (500, 0)\n",
    "      move = 0\n",
    "      while p not in grains and not done:\n",
    "         for q in moves(p):\n",
    "            if q in cave or q in grains or (part_b and Y(q) == maxy):\n",
    "               continue\n",
    "            if not part_b and Y(q) >= maxy:\n",
    "               done = True\n",
    "            p = q\n",
    "            break\n",
    "         else:\n",
    "            grains.add(p)\n",
    "            if part_b:\n",
    "               print (f\"Grain {len(grains)} came to rest at {p}\")\n",
    "            break\n",
    "\n",
    "   return len(grains)\n",
    "\n",
    "assert cavern(p.example_data) == 24\n",
    "# cavern(p.example_data, True)"
   ]
  },
  {
   "cell_type": "code",
   "execution_count": 46,
   "metadata": {},
   "outputs": [],
   "source": [
    "p.answer_a = cavern(p.input_data)"
   ]
  }
 ],
 "metadata": {
  "kernelspec": {
   "display_name": "Python 3.9.13 ('py39')",
   "language": "python",
   "name": "python3"
  },
  "language_info": {
   "codemirror_mode": {
    "name": "ipython",
    "version": 3
   },
   "file_extension": ".py",
   "mimetype": "text/x-python",
   "name": "python",
   "nbconvert_exporter": "python",
   "pygments_lexer": "ipython3",
   "version": "3.9.13"
  },
  "vscode": {
   "interpreter": {
    "hash": "27b143f34847a2d4fdd35ddd6888aa5709ecaccd069e9438664809dabde818fd"
   }
  }
 },
 "nbformat": 4,
 "nbformat_minor": 2
}
