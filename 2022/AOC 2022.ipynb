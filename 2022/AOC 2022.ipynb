{
 "cells": [
  {
   "cell_type": "code",
   "execution_count": 2,
   "metadata": {},
   "outputs": [],
   "source": [
    "from aoc import *"
   ]
  },
  {
   "cell_type": "code",
   "execution_count": 3,
   "metadata": {},
   "outputs": [
    {
     "data": {
      "text/plain": [
       "<Puzzle(2022, 1) at 0x116a20370 - Calorie Counting>"
      ]
     },
     "execution_count": 3,
     "metadata": {},
     "output_type": "execute_result"
    }
   ],
   "source": [
    "p = Puzzle(year=2022, day=1)\n",
    "p"
   ]
  },
  {
   "cell_type": "code",
   "execution_count": 4,
   "metadata": {},
   "outputs": [
    {
     "data": {
      "text/plain": [
       "('67633', '199628')"
      ]
     },
     "execution_count": 4,
     "metadata": {},
     "output_type": "execute_result"
    }
   ],
   "source": [
    "def calorie_count(data):\n",
    "    elves = data.split(\"\\n\\n\")\n",
    "    elves = [[int(l) for l in x.splitlines()] for x in elves]\n",
    "    elf_sum = [sum(e) for e in elves]\n",
    "    return sorted(elf_sum, reverse=True)\n",
    "    \n",
    "assert calorie_count(p.example_data)[0] == 24000\n",
    "elves = calorie_count(p.input_data)\n",
    "p.answer_a = elves[0]\n",
    "p.answer_b = sum(elves[:3])\n",
    "p.answers"
   ]
  },
  {
   "cell_type": "code",
   "execution_count": 5,
   "metadata": {},
   "outputs": [
    {
     "data": {
      "text/plain": [
       "<Puzzle(2022, 2) at 0x116a6a080 - Rock Paper Scissors>"
      ]
     },
     "execution_count": 5,
     "metadata": {},
     "output_type": "execute_result"
    }
   ],
   "source": [
    "p = Puzzle(year=2022, day=2)\n",
    "p"
   ]
  },
  {
   "cell_type": "code",
   "execution_count": 8,
   "metadata": {},
   "outputs": [
    {
     "data": {
      "text/plain": [
       "['A Y', 'B X', 'C Z']"
      ]
     },
     "execution_count": 8,
     "metadata": {},
     "output_type": "execute_result"
    }
   ],
   "source": [
    "p.example_data.splitlines()"
   ]
  },
  {
   "cell_type": "code",
   "execution_count": 9,
   "metadata": {},
   "outputs": [
    {
     "data": {
      "text/plain": [
       "[1, 3]"
      ]
     },
     "execution_count": 9,
     "metadata": {},
     "output_type": "execute_result"
    }
   ],
   "source": [
    "Rock, Paper, Scissors = (1, 2, 3)\n",
    "RPS = { \n",
    "   'A': Rock, 'B': Paper, 'C': Scissors,\n",
    "   'X': Rock, 'Y': Paper, 'Z': Scissors\n",
    "}\n"
   ]
  },
  {
   "cell_type": "code",
   "execution_count": null,
   "metadata": {},
   "outputs": [],
   "source": []
  }
 ],
 "metadata": {
  "kernelspec": {
   "display_name": "Python 3.10.0 ('py3')",
   "language": "python",
   "name": "python3"
  },
  "language_info": {
   "codemirror_mode": {
    "name": "ipython",
    "version": 3
   },
   "file_extension": ".py",
   "mimetype": "text/x-python",
   "name": "python",
   "nbconvert_exporter": "python",
   "pygments_lexer": "ipython3",
   "version": "3.10.0"
  },
  "orig_nbformat": 4,
  "vscode": {
   "interpreter": {
    "hash": "04a09e2e14eb6b92be6b7b85e349c7b7974c646f3d040b1b79db9e54e09a30c3"
   }
  }
 },
 "nbformat": 4,
 "nbformat_minor": 2
}
