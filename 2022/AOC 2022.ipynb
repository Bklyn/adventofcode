{
 "cells": [
  {
   "cell_type": "code",
   "execution_count": null,
   "metadata": {},
   "outputs": [],
   "source": [
    "from aoc import *"
   ]
  },
  {
   "cell_type": "code",
   "execution_count": null,
   "metadata": {},
   "outputs": [],
   "source": [
    "p = Puzzle(year=2022, day=1)\n",
    "p"
   ]
  },
  {
   "cell_type": "code",
   "execution_count": null,
   "metadata": {},
   "outputs": [],
   "source": [
    "def calorie_count(data):\n",
    "    elves = data.split(\"\\n\\n\")\n",
    "    elves = [[int(l) for l in x.splitlines()] for x in elves]\n",
    "    elf_sum = [sum(e) for e in elves]\n",
    "    return sorted(elf_sum, reverse=True)\n",
    "    \n",
    "assert calorie_count(p.example_data)[0] == 24000\n",
    "elves = calorie_count(p.input_data)\n",
    "p.answer_a = elves[0]\n",
    "p.answer_b = sum(elves[:3])\n",
    "p.answers"
   ]
  },
  {
   "cell_type": "code",
   "execution_count": null,
   "metadata": {},
   "outputs": [],
   "source": [
    "p = Puzzle(year=2022, day=2)\n",
    "p, p.easter_eggs"
   ]
  },
  {
   "cell_type": "code",
   "execution_count": null,
   "metadata": {},
   "outputs": [],
   "source": [
    "p.example_data.splitlines()"
   ]
  },
  {
   "cell_type": "code",
   "execution_count": null,
   "metadata": {},
   "outputs": [],
   "source": [
    "Rock, Paper, Scissors = (1, 2, 3)\n",
    "\n",
    "def rock_paper_scissors(input, part='a'):\n",
    "   RPS = { \n",
    "      'A': Rock, 'B': Paper, 'C': Scissors,\n",
    "      'X': Rock, 'Y': Paper, 'Z': Scissors,\n",
    "   }\n",
    "   score = 0\n",
    "   for round in input.strip().splitlines():\n",
    "      them, us = [RPS[x] for x in round.split(' ')]\n",
    "      if part == 'b':\n",
    "         if us == Rock: # Lose\n",
    "            us = (Rock if them == Paper else\n",
    "                  Paper if them == Scissors else\n",
    "                  Scissors)\n",
    "         elif us == Paper: # Draw\n",
    "            us = them\n",
    "         else: # Win\n",
    "            us = (Rock if them == Scissors else\n",
    "                  Paper if them == Rock else\n",
    "                  Scissors)\n",
    "      score += us\n",
    "      if them == us:\n",
    "         score += 3\n",
    "      if (them, us) in ((Rock, Paper), (Paper, Scissors), (Scissors, Rock)):\n",
    "         score += 6\n",
    "   return score\n",
    "\n",
    "assert rock_paper_scissors(p.example_data, 'a') == 15\n",
    "assert rock_paper_scissors(p.example_data, 'b') == 12"
   ]
  },
  {
   "cell_type": "code",
   "execution_count": null,
   "metadata": {},
   "outputs": [],
   "source": [
    "p.answers = (\n",
    "    rock_paper_scissors(p.input_data),\n",
    "    rock_paper_scissors(p.input_data, 'b')\n",
    ")"
   ]
  },
  {
   "cell_type": "code",
   "execution_count": 60,
   "metadata": {},
   "outputs": [
    {
     "data": {
      "text/plain": [
       "<Puzzle(2022, 3) at 0x116b382b0 - Rucksack Reorganization>"
      ]
     },
     "execution_count": 60,
     "metadata": {},
     "output_type": "execute_result"
    }
   ],
   "source": [
    "p = Puzzle(year=2022, day=3)\n",
    "p"
   ]
  },
  {
   "cell_type": "code",
   "execution_count": 61,
   "metadata": {},
   "outputs": [],
   "source": [
    "def rucksacks(input):\n",
    "   def score(x):\n",
    "      return ord(x) - ((ord('a') - 1) if x.islower() else (ord('A') - 27))\n",
    "   groups = grouper(input.splitlines(), 3)\n",
    "   prio = 0\n",
    "   badges = 0\n",
    "   for group in groups:\n",
    "      badge = set.intersection(*[set(elf) for elf in group]).pop()\n",
    "      for elf in group:\n",
    "         assert len(elf) % 2 == 0\n",
    "         c1 = set(elf[:len(elf)//2])\n",
    "         c2 = set(elf[len(elf)//2:])\n",
    "         x = (c1 & c2).pop()\n",
    "         prio += score(x)\n",
    "      badges += score(badge)\n",
    "   return prio, badges\n",
    "\n",
    "assert rucksacks(p.example_data) == (157, 70)"
   ]
  },
  {
   "cell_type": "code",
   "execution_count": 57,
   "metadata": {},
   "outputs": [],
   "source": [
    "p.answers = rucksacks(p.input_data)"
   ]
  },
  {
   "cell_type": "code",
   "execution_count": null,
   "metadata": {},
   "outputs": [],
   "source": []
  }
 ],
 "metadata": {
  "kernelspec": {
   "display_name": "Python 3.10.6 ('base')",
   "language": "python",
   "name": "python3"
  },
  "language_info": {
   "codemirror_mode": {
    "name": "ipython",
    "version": 3
   },
   "file_extension": ".py",
   "mimetype": "text/x-python",
   "name": "python",
   "nbconvert_exporter": "python",
   "pygments_lexer": "ipython3",
   "version": "3.10.6"
  },
  "vscode": {
   "interpreter": {
    "hash": "725e985a38573e8a6b195fc8419e8acff43de0a458134961160febd6d9e97b6c"
   }
  }
 },
 "nbformat": 4,
 "nbformat_minor": 2
}
