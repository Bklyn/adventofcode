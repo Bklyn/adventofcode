{
 "cells": [
  {
   "cell_type": "code",
   "execution_count": 151,
   "metadata": {},
   "outputs": [],
   "source": [
    "from aoc import *\n",
    "import re\n",
    "from aocd.models import Puzzle as AOCDPuzzle\n",
    "\n",
    "def Puzzle(day, year=2022):\n",
    "   return AOCDPuzzle(year=year, day=day)"
   ]
  },
  {
   "cell_type": "code",
   "execution_count": 152,
   "metadata": {},
   "outputs": [
    {
     "data": {
      "text/plain": [
       "<Puzzle(2022, 1) at 0x1189454e0 - Calorie Counting>"
      ]
     },
     "execution_count": 152,
     "metadata": {},
     "output_type": "execute_result"
    }
   ],
   "source": [
    "p = Puzzle(day=1)\n",
    "p"
   ]
  },
  {
   "cell_type": "code",
   "execution_count": 153,
   "metadata": {},
   "outputs": [
    {
     "data": {
      "text/plain": [
       "('67633', '199628')"
      ]
     },
     "execution_count": 153,
     "metadata": {},
     "output_type": "execute_result"
    }
   ],
   "source": [
    "def calorie_count(data):\n",
    "    elves = data.split(\"\\n\\n\")\n",
    "    elves = [[int(l) for l in x.splitlines()] for x in elves]\n",
    "    elf_sum = [sum(e) for e in elves]\n",
    "    return sorted(elf_sum, reverse=True)\n",
    "    \n",
    "assert calorie_count(p.example_data)[0] == 24000\n",
    "elves = calorie_count(p.input_data)\n",
    "p.answer_a = elves[0]\n",
    "p.answer_b = sum(elves[:3])\n",
    "p.answers"
   ]
  },
  {
   "cell_type": "code",
   "execution_count": 154,
   "metadata": {},
   "outputs": [
    {
     "data": {
      "text/plain": [
       "(<Puzzle(2022, 2) at 0x118946200 - Rock Paper Scissors>,\n",
       " [<span title=\"Why do you keep guessing?!\">you reason</span>])"
      ]
     },
     "execution_count": 154,
     "metadata": {},
     "output_type": "execute_result"
    }
   ],
   "source": [
    "p = Puzzle(day=2)\n",
    "p, p.easter_eggs"
   ]
  },
  {
   "cell_type": "code",
   "execution_count": 155,
   "metadata": {},
   "outputs": [],
   "source": [
    "Rock, Paper, Scissors = (1, 2, 3)\n",
    "\n",
    "def rock_paper_scissors(input, part='a'):\n",
    "   RPS = { \n",
    "      'A': Rock, 'B': Paper, 'C': Scissors,\n",
    "      'X': Rock, 'Y': Paper, 'Z': Scissors,\n",
    "   }\n",
    "   score = 0\n",
    "   for round in input.strip().splitlines():\n",
    "      them, us = [RPS[x] for x in round.split(' ')]\n",
    "      if part == 'b':\n",
    "         if us == Rock: # Lose\n",
    "            us = (Rock if them == Paper else\n",
    "                  Paper if them == Scissors else\n",
    "                  Scissors)\n",
    "         elif us == Paper: # Draw\n",
    "            us = them\n",
    "         else: # Win\n",
    "            us = (Rock if them == Scissors else\n",
    "                  Paper if them == Rock else\n",
    "                  Scissors)\n",
    "      score += us\n",
    "      if them == us:\n",
    "         score += 3\n",
    "      if (them, us) in ((Rock, Paper), (Paper, Scissors), (Scissors, Rock)):\n",
    "         score += 6\n",
    "   return score\n",
    "\n",
    "assert rock_paper_scissors(p.example_data, 'a') == 15\n",
    "assert rock_paper_scissors(p.example_data, 'b') == 12"
   ]
  },
  {
   "cell_type": "code",
   "execution_count": 156,
   "metadata": {},
   "outputs": [],
   "source": [
    "p.answers = (\n",
    "    rock_paper_scissors(p.input_data),\n",
    "    rock_paper_scissors(p.input_data, 'b')\n",
    ")"
   ]
  },
  {
   "cell_type": "code",
   "execution_count": 157,
   "metadata": {},
   "outputs": [
    {
     "data": {
      "text/plain": [
       "<Puzzle(2022, 3) at 0x118946410 - Rucksack Reorganization>"
      ]
     },
     "execution_count": 157,
     "metadata": {},
     "output_type": "execute_result"
    }
   ],
   "source": [
    "p = Puzzle(day=3)\n",
    "p"
   ]
  },
  {
   "cell_type": "code",
   "execution_count": 158,
   "metadata": {},
   "outputs": [],
   "source": [
    "def rucksacks(input):\n",
    "   def score(x):\n",
    "      return ord(x) - ((ord('a') - 1) if x.islower() else (ord('A') - 27))\n",
    "   groups = grouper(input.splitlines(), 3)\n",
    "   prio = 0\n",
    "   badges = 0\n",
    "   for group in groups:\n",
    "      badge = set.intersection(*[set(elf) for elf in group]).pop()\n",
    "      for elf in group:\n",
    "         assert len(elf) % 2 == 0\n",
    "         c1 = set(elf[:len(elf)//2])\n",
    "         c2 = set(elf[len(elf)//2:])\n",
    "         x = (c1 & c2).pop()\n",
    "         prio += score(x)\n",
    "      badges += score(badge)\n",
    "   return prio, badges\n",
    "\n",
    "assert rucksacks(p.example_data) == (157, 70)"
   ]
  },
  {
   "cell_type": "code",
   "execution_count": 159,
   "metadata": {},
   "outputs": [],
   "source": [
    "p.answers = rucksacks(p.input_data)"
   ]
  },
  {
   "cell_type": "code",
   "execution_count": 160,
   "metadata": {},
   "outputs": [
    {
     "data": {
      "text/plain": [
       "<Puzzle(2022, 4) at 0x118945e10 - Camp Cleanup>"
      ]
     },
     "execution_count": 160,
     "metadata": {},
     "output_type": "execute_result"
    }
   ],
   "source": [
    "p = Puzzle(day=4)\n",
    "p"
   ]
  },
  {
   "cell_type": "code",
   "execution_count": 161,
   "metadata": {},
   "outputs": [],
   "source": [
    "def camp_cleanup(input):\n",
    "   contained = 0\n",
    "   overlap = 0\n",
    "   for line in input.splitlines():\n",
    "      a, b = line.split(',')\n",
    "      a = tuple(int(x) for x in a.split('-'))\n",
    "      b = tuple(int(x) for x in b.split('-'))\n",
    "      if a[0] >= b[0] and a[1] <= b[1] or b[0] >= a[0] and b[1] <= a[1]:\n",
    "         contained += 1\n",
    "      if (a[0] >= b[0] and a[0] <= b[1] or\n",
    "          a[1] >= b[0] and a[1] <= b[1] or\n",
    "          b[0] >= a[0] and b[0] <= a[1] or\n",
    "          b[1] >= a[0] and b[1] <= a[1]):\n",
    "         overlap += 1\n",
    "   return contained, overlap\n",
    "\n",
    "assert camp_cleanup(p.example_data) == (2, 4)\n",
    "      "
   ]
  },
  {
   "cell_type": "code",
   "execution_count": 162,
   "metadata": {},
   "outputs": [],
   "source": [
    "p.answers = camp_cleanup(p.input_data)"
   ]
  },
  {
   "cell_type": "code",
   "execution_count": 163,
   "metadata": {},
   "outputs": [
    {
     "data": {
      "text/plain": [
       "(<Puzzle(2022, 5) at 0x11893f760 - Supply Stacks>,\n",
       " ['    [D]    ',\n",
       "  '[N] [C]    ',\n",
       "  '[Z] [M] [P]',\n",
       "  ' 1   2   3 ',\n",
       "  '',\n",
       "  'move 1 from 2 to 1',\n",
       "  'move 3 from 1 to 3',\n",
       "  'move 2 from 2 to 1',\n",
       "  'move 1 from 1 to 2'])"
      ]
     },
     "execution_count": 163,
     "metadata": {},
     "output_type": "execute_result"
    }
   ],
   "source": [
    "p = Puzzle(day=5)\n",
    "p, p.example_data.splitlines()"
   ]
  },
  {
   "cell_type": "code",
   "execution_count": 164,
   "metadata": {},
   "outputs": [],
   "source": [
    "def cargo(input, part='a'):\n",
    "   stacks = None\n",
    "   for line in input.splitlines():\n",
    "      if not line:\n",
    "         continue\n",
    "      if line and line[0] != 'm':\n",
    "         boxes = line[1::4]\n",
    "         if boxes[0] == '1':\n",
    "            continue\n",
    "         if stacks is None:\n",
    "            stacks = [''] * len(boxes)\n",
    "         for i, b in enumerate(boxes):\n",
    "            if b == ' ':\n",
    "               continue\n",
    "            stacks[i] = stacks[i] + b\n",
    "         continue\n",
    "      count, x, y = [int(x) for x in re.findall(r'(\\d+)', line)]\n",
    "      x = x - 1\n",
    "      y = y - 1\n",
    "      src, dest = stacks[x], stacks[y]\n",
    "      move = src[:count]\n",
    "      if part == 'a':\n",
    "         move = move[::-1]\n",
    "      dest = move + dest\n",
    "      src = src[count:]\n",
    "      stacks[x], stacks[y] = src, dest\n",
    "   answer = ''.join(s[0] for s in stacks)\n",
    "   return answer\n",
    "\n",
    "assert cargo(p.example_data) == 'CMZ'\n",
    "assert cargo(p.example_data, 'b') == 'MCD'"
   ]
  },
  {
   "cell_type": "code",
   "execution_count": 165,
   "metadata": {},
   "outputs": [],
   "source": [
    "p.answer_a = cargo(p.input_data)\n",
    "p.answer_b = cargo(p.input_data, 'b')"
   ]
  },
  {
   "cell_type": "code",
   "execution_count": 166,
   "metadata": {},
   "outputs": [
    {
     "data": {
      "text/plain": [
       "(<Puzzle(2022, 6) at 0x117749000 - Tuning Trouble>,\n",
       " ['mjqjpqmgbljsphdztnvjfqwrcgsmlb'])"
      ]
     },
     "execution_count": 166,
     "metadata": {},
     "output_type": "execute_result"
    }
   ],
   "source": [
    "p = Puzzle(day=6)\n",
    "p, p.example_data.splitlines()"
   ]
  },
  {
   "cell_type": "code",
   "execution_count": 167,
   "metadata": {},
   "outputs": [],
   "source": [
    "def tuning(input, num=4):\n",
    "    for i in range(num, len(input) + 1):\n",
    "        if len(set(input[i-num:i])) == num:\n",
    "            return i\n",
    "    assert False\n",
    "\n",
    "assert tuning(p.example_data) == 7\n",
    "assert tuning('bvwbjplbgvbhsrlpgdmjqwftvncz') == 5\n",
    "assert tuning('zcfzfwzzqfrljwzlrfnpqdbhtmscgvjw') == 11\n",
    "\n",
    "assert tuning('mjqjpqmgbljsphdztnvjfqwrcgsmlb', 14) == 19\n",
    "assert tuning('bvwbjplbgvbhsrlpgdmjqwftvncz', 14) == 23\n",
    "assert tuning('nppdvjthqldpwncqszvftbrmjlhg', 14) == 23\n",
    "assert tuning('nznrnfrfntjfmvfwmzdfjlvtqnbhcprsg', 14) == 29\n",
    "assert tuning('zcfzfwzzqfrljwzlrfnpqdbhtmscgvjw', 14) == 26"
   ]
  },
  {
   "cell_type": "code",
   "execution_count": 168,
   "metadata": {},
   "outputs": [],
   "source": [
    "p.answer_a = tuning(p.input_data)\n",
    "p.answer_b = tuning(p.input_data, 14)"
   ]
  },
  {
   "cell_type": "code",
   "execution_count": 169,
   "metadata": {},
   "outputs": [],
   "source": [
    "p = Puzzle(day=7)\n",
    "p\n",
    "\n",
    "ex = \"\"\"$ cd /\n",
    "$ ls\n",
    "dir a\n",
    "14848514 b.txt\n",
    "8504156 c.dat\n",
    "dir d\n",
    "$ cd a\n",
    "$ ls\n",
    "dir e\n",
    "29116 f\n",
    "2557 g\n",
    "62596 h.lst\n",
    "$ cd e\n",
    "$ ls\n",
    "584 i\n",
    "$ cd ..\n",
    "$ cd ..\n",
    "$ cd d\n",
    "$ ls\n",
    "4060174 j\n",
    "8033020 d.log\n",
    "5626152 d.ext\n",
    "7214296 k\n",
    "\"\"\""
   ]
  },
  {
   "cell_type": "code",
   "execution_count": 170,
   "metadata": {},
   "outputs": [],
   "source": [
    "def filesystem(input):\n",
    "   fs = {}\n",
    "   cwd = fs\n",
    "   path = '/'\n",
    "\n",
    "   def split_path(d):\n",
    "      children = []\n",
    "      path = d\n",
    "      while path != \"/\":\n",
    "         path, child = os.path.split(path)\n",
    "         children = [child] + children\n",
    "      return children\n",
    "\n",
    "   def mkdir(d):\n",
    "      result = fs\n",
    "      for subdir in split_path(d):\n",
    "         result = result.setdefault(subdir, {\"..\": result})\n",
    "      return result\n",
    "\n",
    "   def visit(fs, func, path=\"/\"):\n",
    "      for k, v in fs.items():\n",
    "         if k == \"..\": continue\n",
    "         if type(v) is dict:\n",
    "            yield from visit(v, func, os.path.join(path, k))\n",
    "      yield func(fs, path)\n",
    "\n",
    "   def size(node):\n",
    "      cache = {}\n",
    "      def impl(x, path):\n",
    "         if path not in cache:\n",
    "            cache[path] = sum(v for k, v in x.items() if k != \"..\" and type(v) is not dict)\n",
    "         return cache[path]\n",
    "      return sum(visit(node, impl))\n",
    "\n",
    "   for line in input.splitlines():\n",
    "      if m := re.match(r'^\\$ cd (.+)', line):\n",
    "         path = os.path.abspath(os.path.join(path, m.group(1)))\n",
    "         cwd = mkdir(path)\n",
    "         continue\n",
    "      if line == \"$ ls\":\n",
    "         continue\n",
    "      if m := re.match(\"dir (.+)\", line):\n",
    "         mkdir(os.path.join(path, m.group(1)))\n",
    "         continue\n",
    "      sz, name = line.split(' ')\n",
    "      cwd[name] = int(sz)\n",
    "\n",
    "   total_size = size(fs)\n",
    "   capacity = 70000000\n",
    "   space_needed = 30000000\n",
    "   free_space = capacity - total_size\n",
    "   need_to_clear = space_needed - free_space\n",
    "   sizes = sorted(visit(fs, lambda fs, _: size(fs)))\n",
    "   return (\n",
    "      sum(s for s in sizes if s <= 100000),\n",
    "      next(s for s in sizes if s >= need_to_clear)\n",
    "   )\n",
    "\n",
    "assert filesystem(ex) == (95437, 24933642)"
   ]
  },
  {
   "cell_type": "code",
   "execution_count": 171,
   "metadata": {},
   "outputs": [],
   "source": [
    "p.answers = filesystem(p.input_data)"
   ]
  },
  {
   "cell_type": "code",
   "execution_count": 172,
   "metadata": {},
   "outputs": [
    {
     "data": {
      "text/plain": [
       "(<Puzzle(2022, 8) at 0x118946ad0 - Treetop Tree House>,\n",
       " ['30373', '25512', '65332', '33549', '35390'])"
      ]
     },
     "execution_count": 172,
     "metadata": {},
     "output_type": "execute_result"
    }
   ],
   "source": [
    "p = Puzzle(day=8)\n",
    "p, p.example_data.splitlines()"
   ]
  },
  {
   "cell_type": "code",
   "execution_count": 173,
   "metadata": {},
   "outputs": [],
   "source": [
    "def treehouse(input):\n",
    "   forest = []\n",
    "   for line in input.splitlines():\n",
    "      forest.append([int(c) for c in line])\n",
    "   rows, cols = len(forest), len(forest[0])\n",
    "   def is_visible(f, x, y):\n",
    "      rows, cols = len(f), len(f[0])\n",
    "      assert x >= 0 and x < cols and y >= 0 and y < rows\n",
    "      if x in (0, cols - 1) or y in (0, rows - 1):\n",
    "         return True\n",
    "      left = f[y][:x]\n",
    "      right = f[y][x+1:]\n",
    "      up = [f[yy][x] for yy in range(y)]\n",
    "      down = [f[yy][x] for yy in range(y+1, rows)]\n",
    "      tree = f[y][x]\n",
    "      vis = any(max(line, default=-1) < tree for line in (left, right, up, down))\n",
    "      # print(f\"(x={x}, y={y}): t={tree} vis={vis} l={left} r={right} u={up} d={down}\")\n",
    "      return vis\n",
    "   def scenic_score(f, x, y):\n",
    "      rows, cols = len(f), len(f[0])\n",
    "      assert x >= 0 and x < cols and y >= 0 and y < rows\n",
    "      if x in (0, cols - 1) or y in (0, rows - 1):\n",
    "         return 0\n",
    "      tree = f[y][x]\n",
    "      left = list(reversed(f[y][:x]))\n",
    "      right = f[y][x+1:]\n",
    "      up = list(reversed([f[yy][x] for yy in range(y)]))\n",
    "      down = [f[yy][x] for yy in range(y+1, rows)]\n",
    "      def score(l, t):\n",
    "         return next(\n",
    "            (i + 1 for i, x in enumerate(l) if x >= t),\n",
    "            len(l)\n",
    "         )\n",
    "      return multiply(score(l, tree) for l in (left, right, up, down))\n",
    "\n",
    "   # print((rows, cols), forest)\n",
    "   vis = sum(is_visible(forest, x, y) for y in range(rows) for x in range(cols))\n",
    "   best = max(scenic_score(forest, x, y) for y in range(rows) for x in range(cols))\n",
    "\n",
    "   return vis, best\n",
    "\n",
    "assert treehouse(p.example_data) == (21, 8)"
   ]
  },
  {
   "cell_type": "code",
   "execution_count": 174,
   "metadata": {},
   "outputs": [
    {
     "ename": "KeyboardInterrupt",
     "evalue": "",
     "output_type": "error",
     "traceback": [
      "\u001b[0;31m---------------------------------------------------------------------------\u001b[0m",
      "\u001b[0;31mKeyboardInterrupt\u001b[0m                         Traceback (most recent call last)",
      "\u001b[0;32m/var/folders/xs/lbsqf83x5hq1m_960gjbt5qh0000gn/T/ipykernel_52881/2157002989.py\u001b[0m in \u001b[0;36m<module>\u001b[0;34m\u001b[0m\n\u001b[0;32m----> 1\u001b[0;31m \u001b[0mp\u001b[0m\u001b[0;34m.\u001b[0m\u001b[0manswers\u001b[0m \u001b[0;34m=\u001b[0m \u001b[0mtreehouse\u001b[0m\u001b[0;34m(\u001b[0m\u001b[0mp\u001b[0m\u001b[0;34m.\u001b[0m\u001b[0minput_data\u001b[0m\u001b[0;34m)\u001b[0m\u001b[0;34m\u001b[0m\u001b[0;34m\u001b[0m\u001b[0m\n\u001b[0m",
      "\u001b[0;32m/var/folders/xs/lbsqf83x5hq1m_960gjbt5qh0000gn/T/ipykernel_52881/1930135340.py\u001b[0m in \u001b[0;36mtreehouse\u001b[0;34m(input)\u001b[0m\n\u001b[1;32m     36\u001b[0m    \u001b[0;31m# print((rows, cols), forest)\u001b[0m\u001b[0;34m\u001b[0m\u001b[0;34m\u001b[0m\u001b[0m\n\u001b[1;32m     37\u001b[0m    \u001b[0mvis\u001b[0m \u001b[0;34m=\u001b[0m \u001b[0msum\u001b[0m\u001b[0;34m(\u001b[0m\u001b[0mis_visible\u001b[0m\u001b[0;34m(\u001b[0m\u001b[0mforest\u001b[0m\u001b[0;34m,\u001b[0m \u001b[0mx\u001b[0m\u001b[0;34m,\u001b[0m \u001b[0my\u001b[0m\u001b[0;34m)\u001b[0m \u001b[0;32mfor\u001b[0m \u001b[0my\u001b[0m \u001b[0;32min\u001b[0m \u001b[0mrange\u001b[0m\u001b[0;34m(\u001b[0m\u001b[0mrows\u001b[0m\u001b[0;34m)\u001b[0m \u001b[0;32mfor\u001b[0m \u001b[0mx\u001b[0m \u001b[0;32min\u001b[0m \u001b[0mrange\u001b[0m\u001b[0;34m(\u001b[0m\u001b[0mcols\u001b[0m\u001b[0;34m)\u001b[0m\u001b[0;34m)\u001b[0m\u001b[0;34m\u001b[0m\u001b[0;34m\u001b[0m\u001b[0m\n\u001b[0;32m---> 38\u001b[0;31m    \u001b[0mbest\u001b[0m \u001b[0;34m=\u001b[0m \u001b[0mmax\u001b[0m\u001b[0;34m(\u001b[0m\u001b[0mscenic_score\u001b[0m\u001b[0;34m(\u001b[0m\u001b[0mforest\u001b[0m\u001b[0;34m,\u001b[0m \u001b[0mx\u001b[0m\u001b[0;34m,\u001b[0m \u001b[0my\u001b[0m\u001b[0;34m)\u001b[0m \u001b[0;32mfor\u001b[0m \u001b[0my\u001b[0m \u001b[0;32min\u001b[0m \u001b[0mrange\u001b[0m\u001b[0;34m(\u001b[0m\u001b[0mrows\u001b[0m\u001b[0;34m)\u001b[0m \u001b[0;32mfor\u001b[0m \u001b[0mx\u001b[0m \u001b[0;32min\u001b[0m \u001b[0mrange\u001b[0m\u001b[0;34m(\u001b[0m\u001b[0mcols\u001b[0m\u001b[0;34m)\u001b[0m\u001b[0;34m)\u001b[0m\u001b[0;34m\u001b[0m\u001b[0;34m\u001b[0m\u001b[0m\n\u001b[0m\u001b[1;32m     39\u001b[0m \u001b[0;34m\u001b[0m\u001b[0m\n\u001b[1;32m     40\u001b[0m    \u001b[0;32mreturn\u001b[0m \u001b[0mvis\u001b[0m\u001b[0;34m,\u001b[0m \u001b[0mbest\u001b[0m\u001b[0;34m\u001b[0m\u001b[0;34m\u001b[0m\u001b[0m\n",
      "\u001b[0;32m/var/folders/xs/lbsqf83x5hq1m_960gjbt5qh0000gn/T/ipykernel_52881/1930135340.py\u001b[0m in \u001b[0;36m<genexpr>\u001b[0;34m(.0)\u001b[0m\n\u001b[1;32m     36\u001b[0m    \u001b[0;31m# print((rows, cols), forest)\u001b[0m\u001b[0;34m\u001b[0m\u001b[0;34m\u001b[0m\u001b[0m\n\u001b[1;32m     37\u001b[0m    \u001b[0mvis\u001b[0m \u001b[0;34m=\u001b[0m \u001b[0msum\u001b[0m\u001b[0;34m(\u001b[0m\u001b[0mis_visible\u001b[0m\u001b[0;34m(\u001b[0m\u001b[0mforest\u001b[0m\u001b[0;34m,\u001b[0m \u001b[0mx\u001b[0m\u001b[0;34m,\u001b[0m \u001b[0my\u001b[0m\u001b[0;34m)\u001b[0m \u001b[0;32mfor\u001b[0m \u001b[0my\u001b[0m \u001b[0;32min\u001b[0m \u001b[0mrange\u001b[0m\u001b[0;34m(\u001b[0m\u001b[0mrows\u001b[0m\u001b[0;34m)\u001b[0m \u001b[0;32mfor\u001b[0m \u001b[0mx\u001b[0m \u001b[0;32min\u001b[0m \u001b[0mrange\u001b[0m\u001b[0;34m(\u001b[0m\u001b[0mcols\u001b[0m\u001b[0;34m)\u001b[0m\u001b[0;34m)\u001b[0m\u001b[0;34m\u001b[0m\u001b[0;34m\u001b[0m\u001b[0m\n\u001b[0;32m---> 38\u001b[0;31m    \u001b[0mbest\u001b[0m \u001b[0;34m=\u001b[0m \u001b[0mmax\u001b[0m\u001b[0;34m(\u001b[0m\u001b[0mscenic_score\u001b[0m\u001b[0;34m(\u001b[0m\u001b[0mforest\u001b[0m\u001b[0;34m,\u001b[0m \u001b[0mx\u001b[0m\u001b[0;34m,\u001b[0m \u001b[0my\u001b[0m\u001b[0;34m)\u001b[0m \u001b[0;32mfor\u001b[0m \u001b[0my\u001b[0m \u001b[0;32min\u001b[0m \u001b[0mrange\u001b[0m\u001b[0;34m(\u001b[0m\u001b[0mrows\u001b[0m\u001b[0;34m)\u001b[0m \u001b[0;32mfor\u001b[0m \u001b[0mx\u001b[0m \u001b[0;32min\u001b[0m \u001b[0mrange\u001b[0m\u001b[0;34m(\u001b[0m\u001b[0mcols\u001b[0m\u001b[0;34m)\u001b[0m\u001b[0;34m)\u001b[0m\u001b[0;34m\u001b[0m\u001b[0;34m\u001b[0m\u001b[0m\n\u001b[0m\u001b[1;32m     39\u001b[0m \u001b[0;34m\u001b[0m\u001b[0m\n\u001b[1;32m     40\u001b[0m    \u001b[0;32mreturn\u001b[0m \u001b[0mvis\u001b[0m\u001b[0;34m,\u001b[0m \u001b[0mbest\u001b[0m\u001b[0;34m\u001b[0m\u001b[0;34m\u001b[0m\u001b[0m\n",
      "\u001b[0;32m/var/folders/xs/lbsqf83x5hq1m_960gjbt5qh0000gn/T/ipykernel_52881/1930135340.py\u001b[0m in \u001b[0;36mscenic_score\u001b[0;34m(f, x, y)\u001b[0m\n\u001b[1;32m     32\u001b[0m             \u001b[0mlen\u001b[0m\u001b[0;34m(\u001b[0m\u001b[0ml\u001b[0m\u001b[0;34m)\u001b[0m\u001b[0;34m\u001b[0m\u001b[0;34m\u001b[0m\u001b[0m\n\u001b[1;32m     33\u001b[0m          )\n\u001b[0;32m---> 34\u001b[0;31m       \u001b[0;32mreturn\u001b[0m \u001b[0mmultiply\u001b[0m\u001b[0;34m(\u001b[0m\u001b[0mscore\u001b[0m\u001b[0;34m(\u001b[0m\u001b[0ml\u001b[0m\u001b[0;34m,\u001b[0m \u001b[0mtree\u001b[0m\u001b[0;34m)\u001b[0m \u001b[0;32mfor\u001b[0m \u001b[0ml\u001b[0m \u001b[0;32min\u001b[0m \u001b[0;34m(\u001b[0m\u001b[0mleft\u001b[0m\u001b[0;34m,\u001b[0m \u001b[0mright\u001b[0m\u001b[0;34m,\u001b[0m \u001b[0mup\u001b[0m\u001b[0;34m,\u001b[0m \u001b[0mdown\u001b[0m\u001b[0;34m)\u001b[0m\u001b[0;34m)\u001b[0m\u001b[0;34m\u001b[0m\u001b[0;34m\u001b[0m\u001b[0m\n\u001b[0m\u001b[1;32m     35\u001b[0m \u001b[0;34m\u001b[0m\u001b[0m\n\u001b[1;32m     36\u001b[0m    \u001b[0;31m# print((rows, cols), forest)\u001b[0m\u001b[0;34m\u001b[0m\u001b[0;34m\u001b[0m\u001b[0m\n",
      "\u001b[0;32m~/src/adventofcode/2022/aoc.py\u001b[0m in \u001b[0;36mmultiply\u001b[0;34m(numbers)\u001b[0m\n\u001b[1;32m    222\u001b[0m     \u001b[0;34m\"Multiply all the numbers together.\"\u001b[0m\u001b[0;34m\u001b[0m\u001b[0;34m\u001b[0m\u001b[0m\n\u001b[1;32m    223\u001b[0m     \u001b[0mresult\u001b[0m \u001b[0;34m=\u001b[0m \u001b[0;36m1\u001b[0m\u001b[0;34m\u001b[0m\u001b[0;34m\u001b[0m\u001b[0m\n\u001b[0;32m--> 224\u001b[0;31m     \u001b[0;32mfor\u001b[0m \u001b[0mn\u001b[0m \u001b[0;32min\u001b[0m \u001b[0mnumbers\u001b[0m\u001b[0;34m:\u001b[0m\u001b[0;34m\u001b[0m\u001b[0;34m\u001b[0m\u001b[0m\n\u001b[0m\u001b[1;32m    225\u001b[0m         \u001b[0mresult\u001b[0m \u001b[0;34m*=\u001b[0m \u001b[0mn\u001b[0m\u001b[0;34m\u001b[0m\u001b[0;34m\u001b[0m\u001b[0m\n\u001b[1;32m    226\u001b[0m     \u001b[0;32mreturn\u001b[0m \u001b[0mresult\u001b[0m\u001b[0;34m\u001b[0m\u001b[0;34m\u001b[0m\u001b[0m\n",
      "\u001b[0;32m/var/folders/xs/lbsqf83x5hq1m_960gjbt5qh0000gn/T/ipykernel_52881/1930135340.py\u001b[0m in \u001b[0;36m<genexpr>\u001b[0;34m(.0)\u001b[0m\n\u001b[1;32m     32\u001b[0m             \u001b[0mlen\u001b[0m\u001b[0;34m(\u001b[0m\u001b[0ml\u001b[0m\u001b[0;34m)\u001b[0m\u001b[0;34m\u001b[0m\u001b[0;34m\u001b[0m\u001b[0m\n\u001b[1;32m     33\u001b[0m          )\n\u001b[0;32m---> 34\u001b[0;31m       \u001b[0;32mreturn\u001b[0m \u001b[0mmultiply\u001b[0m\u001b[0;34m(\u001b[0m\u001b[0mscore\u001b[0m\u001b[0;34m(\u001b[0m\u001b[0ml\u001b[0m\u001b[0;34m,\u001b[0m \u001b[0mtree\u001b[0m\u001b[0;34m)\u001b[0m \u001b[0;32mfor\u001b[0m \u001b[0ml\u001b[0m \u001b[0;32min\u001b[0m \u001b[0;34m(\u001b[0m\u001b[0mleft\u001b[0m\u001b[0;34m,\u001b[0m \u001b[0mright\u001b[0m\u001b[0;34m,\u001b[0m \u001b[0mup\u001b[0m\u001b[0;34m,\u001b[0m \u001b[0mdown\u001b[0m\u001b[0;34m)\u001b[0m\u001b[0;34m)\u001b[0m\u001b[0;34m\u001b[0m\u001b[0;34m\u001b[0m\u001b[0m\n\u001b[0m\u001b[1;32m     35\u001b[0m \u001b[0;34m\u001b[0m\u001b[0m\n\u001b[1;32m     36\u001b[0m    \u001b[0;31m# print((rows, cols), forest)\u001b[0m\u001b[0;34m\u001b[0m\u001b[0;34m\u001b[0m\u001b[0m\n",
      "\u001b[0;32m/var/folders/xs/lbsqf83x5hq1m_960gjbt5qh0000gn/T/ipykernel_52881/1930135340.py\u001b[0m in \u001b[0;36mscore\u001b[0;34m(l, t)\u001b[0m\n\u001b[1;32m     29\u001b[0m       \u001b[0;32mdef\u001b[0m \u001b[0mscore\u001b[0m\u001b[0;34m(\u001b[0m\u001b[0ml\u001b[0m\u001b[0;34m,\u001b[0m \u001b[0mt\u001b[0m\u001b[0;34m)\u001b[0m\u001b[0;34m:\u001b[0m\u001b[0;34m\u001b[0m\u001b[0;34m\u001b[0m\u001b[0m\n\u001b[1;32m     30\u001b[0m          return next(\n\u001b[0;32m---> 31\u001b[0;31m             \u001b[0;34m(\u001b[0m\u001b[0mi\u001b[0m \u001b[0;34m+\u001b[0m \u001b[0;36m1\u001b[0m \u001b[0;32mfor\u001b[0m \u001b[0mi\u001b[0m\u001b[0;34m,\u001b[0m \u001b[0mx\u001b[0m \u001b[0;32min\u001b[0m \u001b[0menumerate\u001b[0m\u001b[0;34m(\u001b[0m\u001b[0ml\u001b[0m\u001b[0;34m)\u001b[0m \u001b[0;32mif\u001b[0m \u001b[0mx\u001b[0m \u001b[0;34m>=\u001b[0m \u001b[0mt\u001b[0m\u001b[0;34m)\u001b[0m\u001b[0;34m,\u001b[0m\u001b[0;34m\u001b[0m\u001b[0;34m\u001b[0m\u001b[0m\n\u001b[0m\u001b[1;32m     32\u001b[0m             \u001b[0mlen\u001b[0m\u001b[0;34m(\u001b[0m\u001b[0ml\u001b[0m\u001b[0;34m)\u001b[0m\u001b[0;34m\u001b[0m\u001b[0;34m\u001b[0m\u001b[0m\n\u001b[1;32m     33\u001b[0m          )\n",
      "\u001b[0;31mKeyboardInterrupt\u001b[0m: "
     ]
    }
   ],
   "source": [
    "p.answers = treehouse(p.input_data)"
   ]
  },
  {
   "cell_type": "code",
   "execution_count": null,
   "metadata": {},
   "outputs": [],
   "source": [
    "p = Puzzle(day=9)\n",
    "p\n",
    "ex = \"\"\"R 4\n",
    "U 4\n",
    "L 3\n",
    "D 1\n",
    "R 4\n",
    "D 1\n",
    "L 5\n",
    "R 2\"\"\"\n"
   ]
  },
  {
   "cell_type": "code",
   "execution_count": null,
   "metadata": {},
   "outputs": [],
   "source": [
    "\n",
    "def rope(input, knots=2):\n",
    "    def sign(x):\n",
    "        return -1 if x < 0 else 0 if x == 0 else 1\n",
    "    rope = [(0, 0)] * knots\n",
    "    seen = set([(0, 0)])\n",
    "    for line in input.splitlines():\n",
    "        d, count = line.split(' ', 1)\n",
    "        move = UP if d == \"U\" else DOWN if d == \"D\" else LEFT if d == \"L\" else RIGHT\n",
    "        for step in range(int(count)):\n",
    "            for i, knot in enumerate(rope):\n",
    "                if i == 0:\n",
    "                    rope[i] = (X(knot) + X(move), Y(knot) + Y(move))\n",
    "                    continue\n",
    "                prev = rope[i-1]\n",
    "                if knot == prev or knot in neighbors8(prev):\n",
    "                    continue\n",
    "                diff = (X(knot) - X(prev), Y(knot) - Y(prev))\n",
    "                rope[i] = knot = (X(knot) - sign(X(diff)), Y(knot) - sign(Y(diff)))\n",
    "                if i == len(rope) - 1:\n",
    "                    seen.add(knot)\n",
    "    return len(seen)\n",
    "\n",
    "assert rope(ex) == 13\n"
   ]
  },
  {
   "cell_type": "code",
   "execution_count": null,
   "metadata": {},
   "outputs": [],
   "source": [
    "p.answer_a = rope(p.input_data)\n",
    "p.answer_b = rope(p.input_data, knots=10)"
   ]
  },
  {
   "cell_type": "code",
   "execution_count": null,
   "metadata": {},
   "outputs": [],
   "source": [
    "p = Puzzle(day=10)\n",
    "p\n",
    "ex = \"\"\"addx 15\n",
    "addx -11\n",
    "addx 6\n",
    "addx -3\n",
    "addx 5\n",
    "addx -1\n",
    "addx -8\n",
    "addx 13\n",
    "addx 4\n",
    "noop\n",
    "addx -1\n",
    "addx 5\n",
    "addx -1\n",
    "addx 5\n",
    "addx -1\n",
    "addx 5\n",
    "addx -1\n",
    "addx 5\n",
    "addx -1\n",
    "addx -35\n",
    "addx 1\n",
    "addx 24\n",
    "addx -19\n",
    "addx 1\n",
    "addx 16\n",
    "addx -11\n",
    "noop\n",
    "noop\n",
    "addx 21\n",
    "addx -15\n",
    "noop\n",
    "noop\n",
    "addx -3\n",
    "addx 9\n",
    "addx 1\n",
    "addx -3\n",
    "addx 8\n",
    "addx 1\n",
    "addx 5\n",
    "noop\n",
    "noop\n",
    "noop\n",
    "noop\n",
    "noop\n",
    "addx -36\n",
    "noop\n",
    "addx 1\n",
    "addx 7\n",
    "noop\n",
    "noop\n",
    "noop\n",
    "addx 2\n",
    "addx 6\n",
    "noop\n",
    "noop\n",
    "noop\n",
    "noop\n",
    "noop\n",
    "addx 1\n",
    "noop\n",
    "noop\n",
    "addx 7\n",
    "addx 1\n",
    "noop\n",
    "addx -13\n",
    "addx 13\n",
    "addx 7\n",
    "noop\n",
    "addx 1\n",
    "addx -33\n",
    "noop\n",
    "noop\n",
    "noop\n",
    "addx 2\n",
    "noop\n",
    "noop\n",
    "noop\n",
    "addx 8\n",
    "noop\n",
    "addx -1\n",
    "addx 2\n",
    "addx 1\n",
    "noop\n",
    "addx 17\n",
    "addx -9\n",
    "addx 1\n",
    "addx 1\n",
    "addx -3\n",
    "addx 11\n",
    "noop\n",
    "noop\n",
    "addx 1\n",
    "noop\n",
    "addx 1\n",
    "noop\n",
    "noop\n",
    "addx -13\n",
    "addx -19\n",
    "addx 1\n",
    "addx 3\n",
    "addx 26\n",
    "addx -30\n",
    "addx 12\n",
    "addx -1\n",
    "addx 3\n",
    "addx 1\n",
    "noop\n",
    "noop\n",
    "noop\n",
    "addx -9\n",
    "addx 18\n",
    "addx 1\n",
    "addx 2\n",
    "noop\n",
    "noop\n",
    "addx 9\n",
    "noop\n",
    "noop\n",
    "noop\n",
    "addx -1\n",
    "addx 2\n",
    "addx -37\n",
    "addx 1\n",
    "addx 3\n",
    "noop\n",
    "addx 15\n",
    "addx -21\n",
    "addx 22\n",
    "addx -6\n",
    "addx 1\n",
    "noop\n",
    "addx 2\n",
    "addx 1\n",
    "noop\n",
    "addx -10\n",
    "noop\n",
    "noop\n",
    "addx 20\n",
    "addx 1\n",
    "addx 2\n",
    "addx 2\n",
    "addx -6\n",
    "addx -11\n",
    "noop\n",
    "noop\n",
    "noop\n",
    "\"\"\""
   ]
  },
  {
   "cell_type": "code",
   "execution_count": null,
   "metadata": {},
   "outputs": [
    {
     "name": "stdout",
     "output_type": "stream",
     "text": [
      "##  ##  ##  ##  ##  ##  ##  ##  ##  ##  \n",
      "###   ###   ###   ###   ###   ###   ### \n",
      "####    ####    ####    ####    ####    \n",
      "#####     #####     #####     #####     \n",
      "######      ######      ######      ####\n",
      "#######       #######       #######     \n"
     ]
    }
   ],
   "source": [
    "def crt(input):\n",
    "   insns = []\n",
    "   for line in input.splitlines():\n",
    "      if m := re.match(r'addx (-?\\d+)', line):\n",
    "         insns.append(None)\n",
    "         insns.append(int(m.group(1)))\n",
    "      elif line == \"noop\":\n",
    "         insns.append(None)\n",
    "   X = 1\n",
    "   strength = 0\n",
    "   display = []\n",
    "   line = ''\n",
    "   for cycle, op in enumerate(insns):\n",
    "      if cycle == 19 or (cycle - 19) % 40 == 0:\n",
    "         strength += X * (cycle + 1)\n",
    "      idx = cycle % 40\n",
    "      if idx >= X - 1 and idx <= X + 1:\n",
    "         line = line + '#'\n",
    "      else:\n",
    "         line = line + ' '\n",
    "      if idx == 39:\n",
    "         display.append(line)\n",
    "         line = ''\n",
    "      if op is not None:\n",
    "         X += op\n",
    "   print('\\n'.join(display))\n",
    "   return strength\n",
    "\n",
    "assert crt(ex) == 13140"
   ]
  },
  {
   "cell_type": "code",
   "execution_count": null,
   "metadata": {},
   "outputs": [
    {
     "name": "stdout",
     "output_type": "stream",
     "text": [
      "###  #  #  ##  ####  ##    ## ###  ###  \n",
      "#  # # #  #  #    # #  #    # #  # #  # \n",
      "#  # ##   #  #   #  #  #    # ###  #  # \n",
      "###  # #  ####  #   ####    # #  # ###  \n",
      "# #  # #  #  # #    #  # #  # #  # # #  \n",
      "#  # #  # #  # #### #  #  ##  ###  #  # \n"
     ]
    }
   ],
   "source": [
    "p.answer_a = crt(p.input_data)\n",
    "p.answer_b = 'RKAZAJBR'"
   ]
  },
  {
   "cell_type": "code",
   "execution_count": null,
   "metadata": {},
   "outputs": [
    {
     "data": {
      "text/plain": [
       "<Puzzle(2022, 11) at 0x11774a8f0 - Monkey in the Middle>"
      ]
     },
     "execution_count": 31,
     "metadata": {},
     "output_type": "execute_result"
    }
   ],
   "source": [
    "p = Puzzle(day=11)\n",
    "p"
   ]
  },
  {
   "cell_type": "code",
   "execution_count": null,
   "metadata": {},
   "outputs": [],
   "source": [
    "class Monkey(object):\n",
    "   def __init__(self, para):\n",
    "      for line in [l.strip() for l in para.split('\\n')]:\n",
    "         x, *rest = line.split(':', 1)\n",
    "         rest = [atom(a.rstrip(',')) for a in rest[0].strip().split(' ')]\n",
    "         if x.startswith(\"Monkey\"):\n",
    "            self.name = x\n",
    "         if x.startswith('Starting'):\n",
    "            self.items = rest\n",
    "         if x.startswith('Operation'):\n",
    "            self.op = rest[-2:]\n",
    "         if x.startswith('Test'):\n",
    "            self.mod = rest[-1]\n",
    "         if x.startswith('If true'):\n",
    "            self.dest = [-1, rest[-1]]\n",
    "         if x.startswith('If false'):\n",
    "            self.dest[0] = rest[-1]\n",
    "            \n",
    "   def __repr__(self):\n",
    "      return f\"{self.name}: {self.items}\"\n",
    "\n",
    "   def mult(self):\n",
    "      if self.op[0] == '*' and self.op[1] != 'old':\n",
    "         return self.op[-1]\n",
    "      return 1\n",
    "\n",
    "   def inspect(self, item, divisor, gcd):\n",
    "      rhs = item if self.op[-1] == \"old\" else self.op[-1]\n",
    "      if self.op[0] == '*':\n",
    "         item *= rhs\n",
    "      else:\n",
    "         item += rhs\n",
    "      return (item // divisor) % gcd\n",
    "      \n",
    "   def turn(self, divisor, gcd):\n",
    "      for item in self.items:\n",
    "         item = self.inspect(item, divisor, gcd)\n",
    "         dest = self.dest[item % self.mod == 0]\n",
    "         yield (item, dest)\n",
    "      self.items = []\n",
    "            \n",
    "def monkey_business(input, rounds=20, divisor=3, debug=False):\n",
    "   monkeys = [Monkey(para) for para in input.split('\\n\\n')]\n",
    "   gcd = multiply(m.mod for m in monkeys)\n",
    "   count = defaultdict(int)\n",
    "   for round in range(1, rounds + 1):\n",
    "      for idx, monkey in enumerate(monkeys):\n",
    "         for item, dest in monkey.turn(divisor, gcd):\n",
    "            count[idx] += 1\n",
    "            monkeys[dest].items.append(item)\n",
    "      if debug and (round % 1000 == 0 or round == rounds):\n",
    "         print(round, count)\n",
    "   return multiply(sorted(count.values())[-2:])\n",
    "\n",
    "assert monkey_business(p.example_data) == 10605\n",
    "assert monkey_business(p.example_data, divisor=1, rounds=10000) == 2713310158\n"
   ]
  },
  {
   "cell_type": "code",
   "execution_count": null,
   "metadata": {},
   "outputs": [],
   "source": [
    "p.answers = (\n",
    "   monkey_business(p.input_data),\n",
    "   monkey_business(p.input_data, divisor=1, rounds=10000)\n",
    ")"
   ]
  },
  {
   "cell_type": "code",
   "execution_count": null,
   "metadata": {},
   "outputs": [
    {
     "data": {
      "text/plain": [
       "<Puzzle(2022, 12) at 0x1177262c0 - Hill Climbing Algorithm>"
      ]
     },
     "execution_count": 34,
     "metadata": {},
     "output_type": "execute_result"
    }
   ],
   "source": [
    "p =  Puzzle(day=12)\n",
    "p"
   ]
  },
  {
   "cell_type": "code",
   "execution_count": null,
   "metadata": {},
   "outputs": [
    {
     "data": {
      "text/plain": [
       "['Sabqponm', 'abcryxxl', 'accszExk', 'acctuvwj', 'abdefghi']"
      ]
     },
     "execution_count": 35,
     "metadata": {},
     "output_type": "execute_result"
    }
   ],
   "source": [
    "p.example_data.splitlines()"
   ]
  },
  {
   "cell_type": "code",
   "execution_count": null,
   "metadata": {},
   "outputs": [],
   "source": [
    "def hill_climbing(input):\n",
    "    graph = {}\n",
    "    starts = set()\n",
    "    pos = (0, 0)\n",
    "    dest = None\n",
    "    for y, line in enumerate(input.splitlines()):\n",
    "        row = []\n",
    "        for x, c in enumerate(line):\n",
    "            if c == 'S':\n",
    "                pos = (x, y)\n",
    "                c = 'a'\n",
    "            elif c == 'E':\n",
    "                dest = (x, y)\n",
    "                c = 'z'\n",
    "            graph[(x, y)] = ord(c) - ord('a')\n",
    "            if c == 'a':\n",
    "                starts.add((x, y))\n",
    "    def moves(s):\n",
    "        for n in neighbors4(s):\n",
    "            if n in graph and graph[n] <= graph[s] + 1:\n",
    "                yield n\n",
    "    a1 = bfs(pos, moves, [dest])\n",
    "    first = best = len(a1) - 1\n",
    "    for pos in starts:\n",
    "        if answer := bfs(pos, moves, [dest]):\n",
    "            best = min(best, len(answer) - 1)\n",
    "    return first, best\n",
    "\n",
    "assert hill_climbing(p.example_data) == (31, 29)\n",
    "            "
   ]
  },
  {
   "cell_type": "code",
   "execution_count": null,
   "metadata": {},
   "outputs": [],
   "source": [
    "p.answers = hill_climbing(p.input_data)"
   ]
  },
  {
   "cell_type": "code",
   "execution_count": null,
   "metadata": {},
   "outputs": [
    {
     "data": {
      "text/plain": [
       "<Puzzle(2022, 13) at 0x117732c80 - Distress Signal>"
      ]
     },
     "execution_count": 38,
     "metadata": {},
     "output_type": "execute_result"
    }
   ],
   "source": [
    "p = Puzzle(day=13)\n",
    "p"
   ]
  },
  {
   "cell_type": "code",
   "execution_count": null,
   "metadata": {},
   "outputs": [],
   "source": [
    "def compair(x, y):\n",
    "    if type(x) is int and type(y) is int:\n",
    "        if x < y:\n",
    "            return -1\n",
    "        if x > y:\n",
    "            return 1\n",
    "        return 0\n",
    "    if type(x) is int:\n",
    "        return compair([x], y)\n",
    "    if type(y) is int:\n",
    "        return compair(x, [y])\n",
    "    for xx, yy in zip_longest(x, y):\n",
    "        if xx is None:\n",
    "            return -1\n",
    "        if yy is None:\n",
    "            return 1\n",
    "        if (res := compair(xx, yy)) != 0:\n",
    "            return res\n",
    "    return 0\n",
    "    \n",
    "def distress(input):\n",
    "    import json\n",
    "    import functools\n",
    "    ordered = 0\n",
    "    for idx, para in enumerate(input.split('\\n\\n'), 1):\n",
    "        x, y = [json.loads(s) for s in para.split('\\n')]\n",
    "        if compair(x, y) == -1:\n",
    "            ordered += idx\n",
    "    packets = [json.loads(line) for line in input.splitlines() if line] + [[[2]]] + [[[6]]]\n",
    "    packets.sort(key=functools.cmp_to_key(compair))\n",
    "    return (ordered, (1 + packets.index([[2]])) * (1 + packets.index([[6]])))\n",
    "\n",
    "assert distress(p.example_data) == (13, 140)"
   ]
  },
  {
   "cell_type": "code",
   "execution_count": null,
   "metadata": {},
   "outputs": [],
   "source": [
    "p.answers = distress(p.input_data)"
   ]
  },
  {
   "cell_type": "code",
   "execution_count": null,
   "metadata": {},
   "outputs": [
    {
     "data": {
      "text/plain": [
       "<Puzzle(2022, 14) at 0x117727a60 - Regolith Reservoir>"
      ]
     },
     "execution_count": 41,
     "metadata": {},
     "output_type": "execute_result"
    }
   ],
   "source": [
    "p = Puzzle(day=14)\n",
    "p"
   ]
  },
  {
   "cell_type": "code",
   "execution_count": null,
   "metadata": {},
   "outputs": [],
   "source": [
    "def cavern(input, part_b=False):\n",
    "    cave = set()\n",
    "    maxy = 0\n",
    "    for line in input.splitlines():\n",
    "        prev = None\n",
    "        for p in line.split(\" -> \"):\n",
    "            p = tuple(int(a) for a in p.split(\",\"))\n",
    "            if prev is not None:\n",
    "                x0, x1 = min(X(prev), X(p)), max(X(prev), X(p))\n",
    "                y0, y1 = min(Y(prev), Y(p)), max(Y(prev), Y(p))\n",
    "                maxy = max(maxy, y1 + (2 if part_b else 0))\n",
    "                points = set(\n",
    "                    (x, y) for y in range(y0, y1 + 1) for x in range(x0, x1 + 1)\n",
    "                )\n",
    "                cave |= points\n",
    "            prev = p\n",
    "\n",
    "    def moves(p):\n",
    "        for x, y in ((0, 1), (-1, 1), (1, 1)):\n",
    "            yield (X(p) + x, Y(p) + y)\n",
    "\n",
    "    grains = set()\n",
    "    done = False\n",
    "    while (p := (500, 0)) not in grains and not done:\n",
    "        move = 0\n",
    "        while p not in grains and not done:\n",
    "            for q in moves(p):\n",
    "                if q in cave or q in grains:\n",
    "                    continue\n",
    "                if part_b and Y(q) == maxy:\n",
    "                    grains.add(p)\n",
    "                    break\n",
    "                if not part_b and Y(q) >= maxy:\n",
    "                    done = True\n",
    "                p = q\n",
    "                break\n",
    "            else:\n",
    "                grains.add(p)\n",
    "                break\n",
    "            move += 1\n",
    "            if move > 1000:\n",
    "                done = True\n",
    "                break\n",
    "    return len(grains)\n",
    "\n",
    "assert cavern(p.example_data) == 24\n",
    "assert cavern(p.example_data, True) == 93\n"
   ]
  },
  {
   "cell_type": "code",
   "execution_count": null,
   "metadata": {},
   "outputs": [],
   "source": [
    "p.answers = (cavern(p.input_data), cavern(p.input_data, True))"
   ]
  },
  {
   "cell_type": "code",
   "execution_count": null,
   "metadata": {},
   "outputs": [
    {
     "data": {
      "text/plain": [
       "<Puzzle(2022, 15) at 0x117733670 - Beacon Exclusion Zone>"
      ]
     },
     "execution_count": 44,
     "metadata": {},
     "output_type": "execute_result"
    }
   ],
   "source": [
    "p = Puzzle(day=15)\n",
    "p"
   ]
  },
  {
   "cell_type": "code",
   "execution_count": null,
   "metadata": {},
   "outputs": [],
   "source": [
    "def impact(s, d, row):\n",
    "   dist = abs(row - Y(s))\n",
    "   delta = d - dist\n",
    "   if delta < 0:\n",
    "      return None\n",
    "   return (X(s) - delta, X(s) + delta)\n",
    "   \n",
    "def overlap(ranges):\n",
    "   ranges = sorted(ranges)\n",
    "   it = iter(ranges)\n",
    "   try:\n",
    "      curr_start, curr_stop = next(it)\n",
    "   except StopIteration:\n",
    "      return\n",
    "   for start, stop in it:\n",
    "      if curr_start <= start <= curr_stop + 1:\n",
    "         curr_stop = max(curr_stop, stop)\n",
    "      else:\n",
    "         yield (curr_start, curr_stop)\n",
    "         curr_start, curr_stop = start, stop\n",
    "   yield curr_start, curr_stop      \n",
    "   \n",
    "def beacons(input, row):\n",
    "   sensors = dict()\n",
    "   beacons = set()\n",
    "   for line in input.splitlines():\n",
    "      m = re.match(r'Sensor at x=([^,]+), y=([^:]+): closest beacon is at x=([^,]+), y=(.+)', line)\n",
    "      assert m\n",
    "      s = tuple(int(x) for x in m.groups()[:2])\n",
    "      b = tuple(int(x) for x in m.groups()[2:])\n",
    "      d = cityblock_distance(s, b)\n",
    "      sensors[s] = d\n",
    "      beacons.add(b)\n",
    "   impacts = list(overlap(\n",
    "      x for x in (impact(s, sensors[s], row) for s in sensors)\n",
    "      if x is not None))\n",
    "   coverage = (\n",
    "      sum(y - x + 1 for x, y in impacts) -\n",
    "      sum(1 for b in beacons if b[1] == row) -\n",
    "      sum(1 for s in sensors if s[1] == row)\n",
    "   )\n",
    "   # Find beacon location.  This is slow and I'm not sure how to speed it up\n",
    "   for y in range(4000000 + 1):\n",
    "      impacts = list(overlap(\n",
    "         x for x in (impact(s, sensors[s], y) for s in sensors)\n",
    "         if x is not None))\n",
    "      if len(impacts) > 1:\n",
    "         freq = 4000000 * (impacts[0][1] + 1) + y\n",
    "         break\n",
    "   return coverage, freq\n",
    "\n",
    "assert beacons(p.example_data, 10) == (26, 56000011)"
   ]
  },
  {
   "cell_type": "code",
   "execution_count": null,
   "metadata": {},
   "outputs": [],
   "source": [
    "# p.answers = beacons(p.input_data, 2000000)"
   ]
  },
  {
   "cell_type": "code",
   "execution_count": null,
   "metadata": {},
   "outputs": [
    {
     "data": {
      "text/plain": [
       "<Puzzle(2022, 16) at 0x1177333a0 - Proboscidea Volcanium>"
      ]
     },
     "execution_count": 47,
     "metadata": {},
     "output_type": "execute_result"
    }
   ],
   "source": [
    "p = Puzzle(day=16)\n",
    "p"
   ]
  },
  {
   "cell_type": "code",
   "execution_count": null,
   "metadata": {},
   "outputs": [],
   "source": [
    "def volcano(input):\n",
    "   valves = dict()\n",
    "   rates = dict()\n",
    "   for line in input.splitlines():\n",
    "      m = re.match(r'Valve (\\w+) has flow rate=(\\d+); .* valve(?:s)? (.+)', line)\n",
    "      assert m, line\n",
    "      valve, rate, dest = m.groups()\n",
    "      valves[valve] = set(dest.split(', '))\n",
    "      rates[valve] = int(rate)\n",
    "   \n",
    "   def moves(s):\n",
    "      for v in valves[s]:\n",
    "         yield v\n",
    "      yield 'Open ' + s\n",
    "\n",
    "# assert volcano(p.example_data) == 1651"
   ]
  },
  {
   "cell_type": "code",
   "execution_count": null,
   "metadata": {},
   "outputs": [
    {
     "data": {
      "text/plain": [
       "<Puzzle(2022, 17) at 0x117731900 - Pyroclastic Flow>"
      ]
     },
     "execution_count": 49,
     "metadata": {},
     "output_type": "execute_result"
    }
   ],
   "source": [
    "p = Puzzle(day=17)\n",
    "p"
   ]
  },
  {
   "cell_type": "code",
   "execution_count": null,
   "metadata": {},
   "outputs": [],
   "source": [
    "def tetris(input, rocks=2022, debug=False):\n",
    "   shapes = [  # Bottom row first\n",
    "      ['####'],\n",
    "      ['.#.', '###', '.#.'],\n",
    "      ['###', '..#', '..#'],\n",
    "      ['#', '#', '#', '#'],\n",
    "      ['##', '##']\n",
    "   ]\n",
    "\n",
    "   def collides(cavern, shape, x, y):\n",
    "      return any(\n",
    "            cavern[y + dy][x + dx] not in '.@'\n",
    "            and shape[dy][dx] == '#'\n",
    "            for dy in range(len(shape))\n",
    "            for dx in range(len(shape[0])))\n",
    "\n",
    "   def paint(cav, shape, x, y, glyph='#'):\n",
    "      for cy in range(len(cav)):\n",
    "         if cy < y or cy >= y + len(shape):\n",
    "            yield cav[cy]\n",
    "            continue\n",
    "         dy = cy - y\n",
    "         line = list(cavern[cy])\n",
    "         for dx in range(len(shape[dy])):\n",
    "            if shape[dy][dx] == '#':\n",
    "               line[x + dx] = glyph\n",
    "         yield ''.join(line)\n",
    "\n",
    "   def window(cav):\n",
    "      peaks = [\n",
    "         max([y for y in range(len(cav)) if cav[y][x] == '#'], default=0)\n",
    "         for x in range(1, 8)\n",
    "      ]\n",
    "      bottom = max([y for y in range(len(cav)) if cav[y][1:8] == '#######'], default=0)\n",
    "      # return min(peaks, default=0), max(peaks, default=0)\n",
    "      return bottom, max(peaks, default=0)\n",
    "\n",
    "   def draw(cav, offset=0):\n",
    "      for y in reversed(range(len(cav))):\n",
    "         print(f\"{y+offset:>4} {cav[y]}\")\n",
    "\n",
    "   gas_index = 0\n",
    "   scrolled = 0\n",
    "   height = 0\n",
    "   cavern = ['+-------+']\n",
    "   seen = {}\n",
    "   scores = []\n",
    "\n",
    "   assert window(cavern) == (0, 0)\n",
    "\n",
    "   for shape_index in range(rocks):\n",
    "      shape = shapes[shape_index % len(shapes)]\n",
    "      x, y = 3, height + 4\n",
    "      add_lines = y + len(shape) - len(cavern)\n",
    "      if add_lines:\n",
    "         cavern.extend(['|.......|'] * add_lines)\n",
    "      while True:\n",
    "         gas = input[gas_index % len(input)]\n",
    "         gas_index += 1\n",
    "         dx = -1 if gas == '<' else 1\n",
    "         # Check for collision with wall or fixed shape\n",
    "         if not collides(cavern, shape, x + dx, y):\n",
    "            x += dx\n",
    "         if collides(cavern, shape, x, y - 1):\n",
    "            cavern = list(paint(cavern, shape, x, y, '#'))\n",
    "            bottom, top = window(cavern)\n",
    "            assert top == max(height, y + len(shape) - 1)\n",
    "            height = top\n",
    "            # print(f\"Shape #{shape_index}: height={height} scrolled={scrolled} bottom={bottom} shape={shape} period={len(input) * len(shapes)}\")\n",
    "            if bottom > 1:\n",
    "               rep = '\\n'.join(cavern)\n",
    "               state = (shape_index, bottom, top, scrolled, top + scrolled)\n",
    "               if (prev := seen.get(rep)) is not None:\n",
    "                  period = state[0] - prev[0]\n",
    "                  cycles = rocks // period\n",
    "                  remainder = rocks % period\n",
    "                  #print(f\"{shape_index}: period={period} cycles={cycles} remainder={remainder} scores={len(scores)}\")\n",
    "                  assert len(scores) > remainder\n",
    "                  score = cycles * (state[-1] - prev[-1]) + scores[remainder-1]\n",
    "                  #print(f\"Shape #{shape_index}: have seen this state before: {prev} -> {state}: period={period} \"\n",
    "                  #   f\"cycles={cycles} remainder={remainder} scores[{remainder}]={scores[remainder]} total={score}\")\n",
    "                  return score\n",
    "               seen[rep] = state\n",
    "               scrolled += bottom\n",
    "               height -= bottom \n",
    "               cavern = [cavern[0]] + cavern[bottom+1:]\n",
    "\n",
    "            scores.append(height + scrolled)\n",
    "            break\n",
    "         y -= 1\n",
    "\n",
    "   if debug:\n",
    "      print(f\"Shape #{shape_index}: height={height} scrolled={scrolled} bottom={bottom} shape={shape}\")\n",
    "      draw(cavern, scrolled)\n",
    "   return height + scrolled\n",
    "\n",
    "\n",
    "ex18 = '>>><<><>><<<>><>>><<<>>><<<><<<>><>><<>>'\n",
    "assert tetris(ex18, 2022) ==  3068\n",
    "# assert tetris(ex18, 10**12) == 1514285714288\n",
    "\n",
    "p.answers = (\n",
    "   tetris(Puzzle(day=17).input_data.strip(), 2022),\n",
    "   tetris(Puzzle(day=17).input_data.strip(), 10**12))"
   ]
  },
  {
   "cell_type": "code",
   "execution_count": null,
   "metadata": {},
   "outputs": [
    {
     "data": {
      "text/plain": [
       "<Puzzle(2022, 18) at 0x11893e7a0 - Boiling Boulders>"
      ]
     },
     "execution_count": 82,
     "metadata": {},
     "output_type": "execute_result"
    }
   ],
   "source": [
    "p = Puzzle(day=18)\n",
    "p"
   ]
  },
  {
   "cell_type": "code",
   "execution_count": null,
   "metadata": {},
   "outputs": [],
   "source": [
    "p.view()"
   ]
  },
  {
   "cell_type": "code",
   "execution_count": null,
   "metadata": {},
   "outputs": [],
   "source": [
    "def surface_area(input):\n",
    "   faces = [tuple((dx, dy, dz) for dx in range(2) for dy in range(2)) for dz in range(2)] + \\\n",
    "      [tuple((dx, dy, dz) for dy in range(2) for dz in range(2)) for dx in range(2)] + \\\n",
    "      [tuple((dx, dy, dz) for dz in range(2) for dx in range(2)) for dy in range(2)]\n",
    "   seen = Counter()\n",
    "   for line in input.splitlines():\n",
    "      x, y, z = [int(s) for s in line.strip().split(',')]\n",
    "      p = (x, y, z)\n",
    "      for coords in faces:\n",
    "         face = tuple(tuple(m + n for m, n in zip(p, c)) for c in coords)\n",
    "         seen.update([face])\n",
    "   return len([f for f, count in seen.items() if count == 1])\n",
    "\n",
    "assert surface_area(p.example_data) == 64"
   ]
  },
  {
   "cell_type": "code",
   "execution_count": null,
   "metadata": {},
   "outputs": [
    {
     "name": "stdout",
     "output_type": "stream",
     "text": [
      "That's the right answer!  You are one gold star closer to collecting enough star fruit. [Continue to Part Two]\n"
     ]
    }
   ],
   "source": [
    "p.answer_a = surface_area(p.input_data)"
   ]
  },
  {
   "cell_type": "code",
   "execution_count": 189,
   "metadata": {},
   "outputs": [
    {
     "data": {
      "text/plain": [
       "<Puzzle(2022, 20) at 0x118ad6fb0 - Grove Positioning System>"
      ]
     },
     "execution_count": 189,
     "metadata": {},
     "output_type": "execute_result"
    }
   ],
   "source": [
    "p = Puzzle(day=20)\n",
    "p"
   ]
  },
  {
   "cell_type": "code",
   "execution_count": 190,
   "metadata": {},
   "outputs": [],
   "source": [
    "# juanplopes again...\n",
    "T = [int(x) for x in p.input_data.splitlines()]\n",
    "\n",
    "def solve(key, times):\n",
    "    I = list(range(len(T)))\n",
    "    for _ in range(times):\n",
    "        for i, val in enumerate(T):\n",
    "            idx = I.index(i)\n",
    "            I.pop(idx)\n",
    "            I.insert((idx + val * key) % len(I), i)\n",
    "    zero = I.index(T.index(0))\n",
    "    return sum(T[I[(zero+i) % len(I)]] * key for i in (1000, 2000, 3000))\n",
    "\n",
    "p.answers = (solve(1, 1), solve(811589153, 10))"
   ]
  },
  {
   "cell_type": "code",
   "execution_count": 197,
   "metadata": {},
   "outputs": [
    {
     "data": {
      "text/plain": [
       "<Puzzle(2022, 21) at 0x11893fd30 - Monkey Math>"
      ]
     },
     "execution_count": 197,
     "metadata": {},
     "output_type": "execute_result"
    }
   ],
   "source": [
    "p = Puzzle(day=21)\n",
    "p"
   ]
  },
  {
   "cell_type": "code",
   "execution_count": 269,
   "metadata": {},
   "outputs": [
    {
     "name": "stdout",
     "output_type": "stream",
     "text": [
      "True False ((4 + (2 * (humn - 3))) / 4) 150\n"
     ]
    },
    {
     "ename": "KeyboardInterrupt",
     "evalue": "",
     "output_type": "error",
     "traceback": [
      "\u001b[0;31m---------------------------------------------------------------------------\u001b[0m",
      "\u001b[0;31mKeyboardInterrupt\u001b[0m                         Traceback (most recent call last)",
      "\u001b[0;32m/var/folders/xs/lbsqf83x5hq1m_960gjbt5qh0000gn/T/ipykernel_52881/1541603593.py\u001b[0m in \u001b[0;36m<module>\u001b[0;34m\u001b[0m\n\u001b[1;32m     70\u001b[0m    \u001b[0;32mreturn\u001b[0m \u001b[0meval_node\u001b[0m\u001b[0;34m(\u001b[0m\u001b[0;34m\"root\"\u001b[0m\u001b[0;34m,\u001b[0m \u001b[0mmonkeys\u001b[0m\u001b[0;34m)\u001b[0m\u001b[0;34m\u001b[0m\u001b[0;34m\u001b[0m\u001b[0m\n\u001b[1;32m     71\u001b[0m \u001b[0;34m\u001b[0m\u001b[0m\n\u001b[0;32m---> 72\u001b[0;31m \u001b[0;32massert\u001b[0m \u001b[0mmonkey_math\u001b[0m\u001b[0;34m(\u001b[0m\u001b[0mp\u001b[0m\u001b[0;34m.\u001b[0m\u001b[0mexample_data\u001b[0m\u001b[0;34m)\u001b[0m \u001b[0;34m==\u001b[0m \u001b[0;34m(\u001b[0m\u001b[0;36m152\u001b[0m\u001b[0;34m,\u001b[0m \u001b[0;36m301\u001b[0m\u001b[0;34m)\u001b[0m\u001b[0;34m\u001b[0m\u001b[0;34m\u001b[0m\u001b[0m\n\u001b[0m",
      "\u001b[0;32m/var/folders/xs/lbsqf83x5hq1m_960gjbt5qh0000gn/T/ipykernel_52881/1541603593.py\u001b[0m in \u001b[0;36mmonkey_math\u001b[0;34m(input)\u001b[0m\n\u001b[1;32m     52\u001b[0m       \u001b[0mmid\u001b[0m \u001b[0;34m=\u001b[0m \u001b[0;34m(\u001b[0m\u001b[0mub\u001b[0m \u001b[0;34m+\u001b[0m \u001b[0mlb\u001b[0m\u001b[0;34m)\u001b[0m \u001b[0;34m//\u001b[0m \u001b[0;36m2\u001b[0m\u001b[0;34m\u001b[0m\u001b[0;34m\u001b[0m\u001b[0m\n\u001b[1;32m     53\u001b[0m       \u001b[0mmonkeys\u001b[0m\u001b[0;34m.\u001b[0m\u001b[0mupdate\u001b[0m\u001b[0;34m(\u001b[0m\u001b[0mhumn\u001b[0m\u001b[0;34m=\u001b[0m\u001b[0mmid\u001b[0m\u001b[0;34m)\u001b[0m\u001b[0;34m\u001b[0m\u001b[0;34m\u001b[0m\u001b[0m\n\u001b[0;32m---> 54\u001b[0;31m       \u001b[0mres\u001b[0m \u001b[0;34m=\u001b[0m \u001b[0meval_node\u001b[0m\u001b[0;34m(\u001b[0m\u001b[0mroot\u001b[0m\u001b[0;34m[\u001b[0m\u001b[0mdyn\u001b[0m\u001b[0;34m]\u001b[0m\u001b[0;34m,\u001b[0m \u001b[0mmonkeys\u001b[0m\u001b[0;34m)\u001b[0m\u001b[0;34m\u001b[0m\u001b[0;34m\u001b[0m\u001b[0m\n\u001b[0m\u001b[1;32m     55\u001b[0m       \u001b[0;32mif\u001b[0m \u001b[0mres\u001b[0m \u001b[0;34m>\u001b[0m \u001b[0mstatic\u001b[0m\u001b[0;34m:\u001b[0m\u001b[0;34m\u001b[0m\u001b[0;34m\u001b[0m\u001b[0m\n\u001b[1;32m     56\u001b[0m          \u001b[0mlb\u001b[0m \u001b[0;34m=\u001b[0m \u001b[0mmid\u001b[0m\u001b[0;34m\u001b[0m\u001b[0;34m\u001b[0m\u001b[0m\n",
      "\u001b[0;32m/var/folders/xs/lbsqf83x5hq1m_960gjbt5qh0000gn/T/ipykernel_52881/1541603593.py\u001b[0m in \u001b[0;36meval_node\u001b[0;34m(x, graph)\u001b[0m\n\u001b[1;32m      4\u001b[0m    \u001b[0;32mdef\u001b[0m \u001b[0meval_node\u001b[0m\u001b[0;34m(\u001b[0m\u001b[0mx\u001b[0m\u001b[0;34m,\u001b[0m \u001b[0mgraph\u001b[0m\u001b[0;34m)\u001b[0m\u001b[0;34m:\u001b[0m\u001b[0;34m\u001b[0m\u001b[0;34m\u001b[0m\u001b[0m\n\u001b[1;32m      5\u001b[0m       \u001b[0;32mif\u001b[0m \u001b[0mtype\u001b[0m\u001b[0;34m(\u001b[0m\u001b[0mx\u001b[0m\u001b[0;34m)\u001b[0m \u001b[0;32mis\u001b[0m \u001b[0mstr\u001b[0m\u001b[0;34m:\u001b[0m\u001b[0;34m\u001b[0m\u001b[0;34m\u001b[0m\u001b[0m\n\u001b[0;32m----> 6\u001b[0;31m          \u001b[0;32mreturn\u001b[0m \u001b[0meval_node\u001b[0m\u001b[0;34m(\u001b[0m\u001b[0mgraph\u001b[0m\u001b[0;34m[\u001b[0m\u001b[0mx\u001b[0m\u001b[0;34m]\u001b[0m\u001b[0;34m,\u001b[0m \u001b[0mgraph\u001b[0m\u001b[0;34m)\u001b[0m\u001b[0;34m\u001b[0m\u001b[0;34m\u001b[0m\u001b[0m\n\u001b[0m\u001b[1;32m      7\u001b[0m       \u001b[0;32mif\u001b[0m \u001b[0mtype\u001b[0m\u001b[0;34m(\u001b[0m\u001b[0mx\u001b[0m\u001b[0;34m)\u001b[0m \u001b[0;32mis\u001b[0m \u001b[0mint\u001b[0m\u001b[0;34m:\u001b[0m\u001b[0;34m\u001b[0m\u001b[0;34m\u001b[0m\u001b[0m\n\u001b[1;32m      8\u001b[0m          \u001b[0;32mreturn\u001b[0m \u001b[0mx\u001b[0m\u001b[0;34m\u001b[0m\u001b[0;34m\u001b[0m\u001b[0m\n",
      "\u001b[0;32m/var/folders/xs/lbsqf83x5hq1m_960gjbt5qh0000gn/T/ipykernel_52881/1541603593.py\u001b[0m in \u001b[0;36meval_node\u001b[0;34m(x, graph)\u001b[0m\n\u001b[1;32m      9\u001b[0m       \u001b[0;32massert\u001b[0m \u001b[0mlen\u001b[0m\u001b[0;34m(\u001b[0m\u001b[0mx\u001b[0m\u001b[0;34m)\u001b[0m \u001b[0;34m==\u001b[0m \u001b[0;36m3\u001b[0m\u001b[0;34m,\u001b[0m \u001b[0mx\u001b[0m\u001b[0;34m\u001b[0m\u001b[0;34m\u001b[0m\u001b[0m\n\u001b[1;32m     10\u001b[0m       \u001b[0mop\u001b[0m \u001b[0;34m=\u001b[0m \u001b[0;34m{\u001b[0m\u001b[0;34m'+'\u001b[0m\u001b[0;34m:\u001b[0m \u001b[0moperator\u001b[0m\u001b[0;34m.\u001b[0m\u001b[0madd\u001b[0m\u001b[0;34m,\u001b[0m \u001b[0;34m'-'\u001b[0m\u001b[0;34m:\u001b[0m \u001b[0moperator\u001b[0m\u001b[0;34m.\u001b[0m\u001b[0msub\u001b[0m\u001b[0;34m,\u001b[0m \u001b[0;34m'*'\u001b[0m\u001b[0;34m:\u001b[0m \u001b[0moperator\u001b[0m\u001b[0;34m.\u001b[0m\u001b[0mmul\u001b[0m\u001b[0;34m,\u001b[0m \u001b[0;34m'/'\u001b[0m\u001b[0;34m:\u001b[0m \u001b[0moperator\u001b[0m\u001b[0;34m.\u001b[0m\u001b[0mfloordiv\u001b[0m \u001b[0;34m}\u001b[0m\u001b[0;34m\u001b[0m\u001b[0;34m\u001b[0m\u001b[0m\n\u001b[0;32m---> 11\u001b[0;31m       \u001b[0;32mreturn\u001b[0m \u001b[0mop\u001b[0m\u001b[0;34m[\u001b[0m\u001b[0mx\u001b[0m\u001b[0;34m[\u001b[0m\u001b[0;36m1\u001b[0m\u001b[0;34m]\u001b[0m\u001b[0;34m]\u001b[0m\u001b[0;34m(\u001b[0m\u001b[0meval_node\u001b[0m\u001b[0;34m(\u001b[0m\u001b[0mx\u001b[0m\u001b[0;34m[\u001b[0m\u001b[0;36m0\u001b[0m\u001b[0;34m]\u001b[0m\u001b[0;34m,\u001b[0m \u001b[0mgraph\u001b[0m\u001b[0;34m)\u001b[0m\u001b[0;34m,\u001b[0m \u001b[0meval_node\u001b[0m\u001b[0;34m(\u001b[0m\u001b[0mx\u001b[0m\u001b[0;34m[\u001b[0m\u001b[0;36m2\u001b[0m\u001b[0;34m]\u001b[0m\u001b[0;34m,\u001b[0m \u001b[0mgraph\u001b[0m\u001b[0;34m)\u001b[0m\u001b[0;34m)\u001b[0m\u001b[0;34m\u001b[0m\u001b[0;34m\u001b[0m\u001b[0m\n\u001b[0m\u001b[1;32m     12\u001b[0m \u001b[0;34m\u001b[0m\u001b[0m\n\u001b[1;32m     13\u001b[0m    \u001b[0;32mdef\u001b[0m \u001b[0mvisit\u001b[0m\u001b[0;34m(\u001b[0m\u001b[0mnode\u001b[0m\u001b[0;34m,\u001b[0m \u001b[0mgraph\u001b[0m\u001b[0;34m)\u001b[0m\u001b[0;34m:\u001b[0m\u001b[0;34m\u001b[0m\u001b[0;34m\u001b[0m\u001b[0m\n",
      "\u001b[0;32m/var/folders/xs/lbsqf83x5hq1m_960gjbt5qh0000gn/T/ipykernel_52881/1541603593.py\u001b[0m in \u001b[0;36meval_node\u001b[0;34m(x, graph)\u001b[0m\n\u001b[1;32m      4\u001b[0m    \u001b[0;32mdef\u001b[0m \u001b[0meval_node\u001b[0m\u001b[0;34m(\u001b[0m\u001b[0mx\u001b[0m\u001b[0;34m,\u001b[0m \u001b[0mgraph\u001b[0m\u001b[0;34m)\u001b[0m\u001b[0;34m:\u001b[0m\u001b[0;34m\u001b[0m\u001b[0;34m\u001b[0m\u001b[0m\n\u001b[1;32m      5\u001b[0m       \u001b[0;32mif\u001b[0m \u001b[0mtype\u001b[0m\u001b[0;34m(\u001b[0m\u001b[0mx\u001b[0m\u001b[0;34m)\u001b[0m \u001b[0;32mis\u001b[0m \u001b[0mstr\u001b[0m\u001b[0;34m:\u001b[0m\u001b[0;34m\u001b[0m\u001b[0;34m\u001b[0m\u001b[0m\n\u001b[0;32m----> 6\u001b[0;31m          \u001b[0;32mreturn\u001b[0m \u001b[0meval_node\u001b[0m\u001b[0;34m(\u001b[0m\u001b[0mgraph\u001b[0m\u001b[0;34m[\u001b[0m\u001b[0mx\u001b[0m\u001b[0;34m]\u001b[0m\u001b[0;34m,\u001b[0m \u001b[0mgraph\u001b[0m\u001b[0;34m)\u001b[0m\u001b[0;34m\u001b[0m\u001b[0;34m\u001b[0m\u001b[0m\n\u001b[0m\u001b[1;32m      7\u001b[0m       \u001b[0;32mif\u001b[0m \u001b[0mtype\u001b[0m\u001b[0;34m(\u001b[0m\u001b[0mx\u001b[0m\u001b[0;34m)\u001b[0m \u001b[0;32mis\u001b[0m \u001b[0mint\u001b[0m\u001b[0;34m:\u001b[0m\u001b[0;34m\u001b[0m\u001b[0;34m\u001b[0m\u001b[0m\n\u001b[1;32m      8\u001b[0m          \u001b[0;32mreturn\u001b[0m \u001b[0mx\u001b[0m\u001b[0;34m\u001b[0m\u001b[0;34m\u001b[0m\u001b[0m\n",
      "\u001b[0;32m/var/folders/xs/lbsqf83x5hq1m_960gjbt5qh0000gn/T/ipykernel_52881/1541603593.py\u001b[0m in \u001b[0;36meval_node\u001b[0;34m(x, graph)\u001b[0m\n\u001b[1;32m      9\u001b[0m       \u001b[0;32massert\u001b[0m \u001b[0mlen\u001b[0m\u001b[0;34m(\u001b[0m\u001b[0mx\u001b[0m\u001b[0;34m)\u001b[0m \u001b[0;34m==\u001b[0m \u001b[0;36m3\u001b[0m\u001b[0;34m,\u001b[0m \u001b[0mx\u001b[0m\u001b[0;34m\u001b[0m\u001b[0;34m\u001b[0m\u001b[0m\n\u001b[1;32m     10\u001b[0m       \u001b[0mop\u001b[0m \u001b[0;34m=\u001b[0m \u001b[0;34m{\u001b[0m\u001b[0;34m'+'\u001b[0m\u001b[0;34m:\u001b[0m \u001b[0moperator\u001b[0m\u001b[0;34m.\u001b[0m\u001b[0madd\u001b[0m\u001b[0;34m,\u001b[0m \u001b[0;34m'-'\u001b[0m\u001b[0;34m:\u001b[0m \u001b[0moperator\u001b[0m\u001b[0;34m.\u001b[0m\u001b[0msub\u001b[0m\u001b[0;34m,\u001b[0m \u001b[0;34m'*'\u001b[0m\u001b[0;34m:\u001b[0m \u001b[0moperator\u001b[0m\u001b[0;34m.\u001b[0m\u001b[0mmul\u001b[0m\u001b[0;34m,\u001b[0m \u001b[0;34m'/'\u001b[0m\u001b[0;34m:\u001b[0m \u001b[0moperator\u001b[0m\u001b[0;34m.\u001b[0m\u001b[0mfloordiv\u001b[0m \u001b[0;34m}\u001b[0m\u001b[0;34m\u001b[0m\u001b[0;34m\u001b[0m\u001b[0m\n\u001b[0;32m---> 11\u001b[0;31m       \u001b[0;32mreturn\u001b[0m \u001b[0mop\u001b[0m\u001b[0;34m[\u001b[0m\u001b[0mx\u001b[0m\u001b[0;34m[\u001b[0m\u001b[0;36m1\u001b[0m\u001b[0;34m]\u001b[0m\u001b[0;34m]\u001b[0m\u001b[0;34m(\u001b[0m\u001b[0meval_node\u001b[0m\u001b[0;34m(\u001b[0m\u001b[0mx\u001b[0m\u001b[0;34m[\u001b[0m\u001b[0;36m0\u001b[0m\u001b[0;34m]\u001b[0m\u001b[0;34m,\u001b[0m \u001b[0mgraph\u001b[0m\u001b[0;34m)\u001b[0m\u001b[0;34m,\u001b[0m \u001b[0meval_node\u001b[0m\u001b[0;34m(\u001b[0m\u001b[0mx\u001b[0m\u001b[0;34m[\u001b[0m\u001b[0;36m2\u001b[0m\u001b[0;34m]\u001b[0m\u001b[0;34m,\u001b[0m \u001b[0mgraph\u001b[0m\u001b[0;34m)\u001b[0m\u001b[0;34m)\u001b[0m\u001b[0;34m\u001b[0m\u001b[0;34m\u001b[0m\u001b[0m\n\u001b[0m\u001b[1;32m     12\u001b[0m \u001b[0;34m\u001b[0m\u001b[0m\n\u001b[1;32m     13\u001b[0m    \u001b[0;32mdef\u001b[0m \u001b[0mvisit\u001b[0m\u001b[0;34m(\u001b[0m\u001b[0mnode\u001b[0m\u001b[0;34m,\u001b[0m \u001b[0mgraph\u001b[0m\u001b[0;34m)\u001b[0m\u001b[0;34m:\u001b[0m\u001b[0;34m\u001b[0m\u001b[0;34m\u001b[0m\u001b[0m\n",
      "\u001b[0;32m/var/folders/xs/lbsqf83x5hq1m_960gjbt5qh0000gn/T/ipykernel_52881/1541603593.py\u001b[0m in \u001b[0;36meval_node\u001b[0;34m(x, graph)\u001b[0m\n\u001b[1;32m      4\u001b[0m    \u001b[0;32mdef\u001b[0m \u001b[0meval_node\u001b[0m\u001b[0;34m(\u001b[0m\u001b[0mx\u001b[0m\u001b[0;34m,\u001b[0m \u001b[0mgraph\u001b[0m\u001b[0;34m)\u001b[0m\u001b[0;34m:\u001b[0m\u001b[0;34m\u001b[0m\u001b[0;34m\u001b[0m\u001b[0m\n\u001b[1;32m      5\u001b[0m       \u001b[0;32mif\u001b[0m \u001b[0mtype\u001b[0m\u001b[0;34m(\u001b[0m\u001b[0mx\u001b[0m\u001b[0;34m)\u001b[0m \u001b[0;32mis\u001b[0m \u001b[0mstr\u001b[0m\u001b[0;34m:\u001b[0m\u001b[0;34m\u001b[0m\u001b[0;34m\u001b[0m\u001b[0m\n\u001b[0;32m----> 6\u001b[0;31m          \u001b[0;32mreturn\u001b[0m \u001b[0meval_node\u001b[0m\u001b[0;34m(\u001b[0m\u001b[0mgraph\u001b[0m\u001b[0;34m[\u001b[0m\u001b[0mx\u001b[0m\u001b[0;34m]\u001b[0m\u001b[0;34m,\u001b[0m \u001b[0mgraph\u001b[0m\u001b[0;34m)\u001b[0m\u001b[0;34m\u001b[0m\u001b[0;34m\u001b[0m\u001b[0m\n\u001b[0m\u001b[1;32m      7\u001b[0m       \u001b[0;32mif\u001b[0m \u001b[0mtype\u001b[0m\u001b[0;34m(\u001b[0m\u001b[0mx\u001b[0m\u001b[0;34m)\u001b[0m \u001b[0;32mis\u001b[0m \u001b[0mint\u001b[0m\u001b[0;34m:\u001b[0m\u001b[0;34m\u001b[0m\u001b[0;34m\u001b[0m\u001b[0m\n\u001b[1;32m      8\u001b[0m          \u001b[0;32mreturn\u001b[0m \u001b[0mx\u001b[0m\u001b[0;34m\u001b[0m\u001b[0;34m\u001b[0m\u001b[0m\n",
      "\u001b[0;32m/var/folders/xs/lbsqf83x5hq1m_960gjbt5qh0000gn/T/ipykernel_52881/1541603593.py\u001b[0m in \u001b[0;36meval_node\u001b[0;34m(x, graph)\u001b[0m\n\u001b[1;32m      9\u001b[0m       \u001b[0;32massert\u001b[0m \u001b[0mlen\u001b[0m\u001b[0;34m(\u001b[0m\u001b[0mx\u001b[0m\u001b[0;34m)\u001b[0m \u001b[0;34m==\u001b[0m \u001b[0;36m3\u001b[0m\u001b[0;34m,\u001b[0m \u001b[0mx\u001b[0m\u001b[0;34m\u001b[0m\u001b[0;34m\u001b[0m\u001b[0m\n\u001b[1;32m     10\u001b[0m       \u001b[0mop\u001b[0m \u001b[0;34m=\u001b[0m \u001b[0;34m{\u001b[0m\u001b[0;34m'+'\u001b[0m\u001b[0;34m:\u001b[0m \u001b[0moperator\u001b[0m\u001b[0;34m.\u001b[0m\u001b[0madd\u001b[0m\u001b[0;34m,\u001b[0m \u001b[0;34m'-'\u001b[0m\u001b[0;34m:\u001b[0m \u001b[0moperator\u001b[0m\u001b[0;34m.\u001b[0m\u001b[0msub\u001b[0m\u001b[0;34m,\u001b[0m \u001b[0;34m'*'\u001b[0m\u001b[0;34m:\u001b[0m \u001b[0moperator\u001b[0m\u001b[0;34m.\u001b[0m\u001b[0mmul\u001b[0m\u001b[0;34m,\u001b[0m \u001b[0;34m'/'\u001b[0m\u001b[0;34m:\u001b[0m \u001b[0moperator\u001b[0m\u001b[0;34m.\u001b[0m\u001b[0mfloordiv\u001b[0m \u001b[0;34m}\u001b[0m\u001b[0;34m\u001b[0m\u001b[0;34m\u001b[0m\u001b[0m\n\u001b[0;32m---> 11\u001b[0;31m       \u001b[0;32mreturn\u001b[0m \u001b[0mop\u001b[0m\u001b[0;34m[\u001b[0m\u001b[0mx\u001b[0m\u001b[0;34m[\u001b[0m\u001b[0;36m1\u001b[0m\u001b[0;34m]\u001b[0m\u001b[0;34m]\u001b[0m\u001b[0;34m(\u001b[0m\u001b[0meval_node\u001b[0m\u001b[0;34m(\u001b[0m\u001b[0mx\u001b[0m\u001b[0;34m[\u001b[0m\u001b[0;36m0\u001b[0m\u001b[0;34m]\u001b[0m\u001b[0;34m,\u001b[0m \u001b[0mgraph\u001b[0m\u001b[0;34m)\u001b[0m\u001b[0;34m,\u001b[0m \u001b[0meval_node\u001b[0m\u001b[0;34m(\u001b[0m\u001b[0mx\u001b[0m\u001b[0;34m[\u001b[0m\u001b[0;36m2\u001b[0m\u001b[0;34m]\u001b[0m\u001b[0;34m,\u001b[0m \u001b[0mgraph\u001b[0m\u001b[0;34m)\u001b[0m\u001b[0;34m)\u001b[0m\u001b[0;34m\u001b[0m\u001b[0;34m\u001b[0m\u001b[0m\n\u001b[0m\u001b[1;32m     12\u001b[0m \u001b[0;34m\u001b[0m\u001b[0m\n\u001b[1;32m     13\u001b[0m    \u001b[0;32mdef\u001b[0m \u001b[0mvisit\u001b[0m\u001b[0;34m(\u001b[0m\u001b[0mnode\u001b[0m\u001b[0;34m,\u001b[0m \u001b[0mgraph\u001b[0m\u001b[0;34m)\u001b[0m\u001b[0;34m:\u001b[0m\u001b[0;34m\u001b[0m\u001b[0;34m\u001b[0m\u001b[0m\n",
      "\u001b[0;32m/var/folders/xs/lbsqf83x5hq1m_960gjbt5qh0000gn/T/ipykernel_52881/1541603593.py\u001b[0m in \u001b[0;36meval_node\u001b[0;34m(x, graph)\u001b[0m\n\u001b[1;32m      4\u001b[0m    \u001b[0;32mdef\u001b[0m \u001b[0meval_node\u001b[0m\u001b[0;34m(\u001b[0m\u001b[0mx\u001b[0m\u001b[0;34m,\u001b[0m \u001b[0mgraph\u001b[0m\u001b[0;34m)\u001b[0m\u001b[0;34m:\u001b[0m\u001b[0;34m\u001b[0m\u001b[0;34m\u001b[0m\u001b[0m\n\u001b[1;32m      5\u001b[0m       \u001b[0;32mif\u001b[0m \u001b[0mtype\u001b[0m\u001b[0;34m(\u001b[0m\u001b[0mx\u001b[0m\u001b[0;34m)\u001b[0m \u001b[0;32mis\u001b[0m \u001b[0mstr\u001b[0m\u001b[0;34m:\u001b[0m\u001b[0;34m\u001b[0m\u001b[0;34m\u001b[0m\u001b[0m\n\u001b[0;32m----> 6\u001b[0;31m          \u001b[0;32mreturn\u001b[0m \u001b[0meval_node\u001b[0m\u001b[0;34m(\u001b[0m\u001b[0mgraph\u001b[0m\u001b[0;34m[\u001b[0m\u001b[0mx\u001b[0m\u001b[0;34m]\u001b[0m\u001b[0;34m,\u001b[0m \u001b[0mgraph\u001b[0m\u001b[0;34m)\u001b[0m\u001b[0;34m\u001b[0m\u001b[0;34m\u001b[0m\u001b[0m\n\u001b[0m\u001b[1;32m      7\u001b[0m       \u001b[0;32mif\u001b[0m \u001b[0mtype\u001b[0m\u001b[0;34m(\u001b[0m\u001b[0mx\u001b[0m\u001b[0;34m)\u001b[0m \u001b[0;32mis\u001b[0m \u001b[0mint\u001b[0m\u001b[0;34m:\u001b[0m\u001b[0;34m\u001b[0m\u001b[0;34m\u001b[0m\u001b[0m\n\u001b[1;32m      8\u001b[0m          \u001b[0;32mreturn\u001b[0m \u001b[0mx\u001b[0m\u001b[0;34m\u001b[0m\u001b[0;34m\u001b[0m\u001b[0m\n",
      "\u001b[0;32m/var/folders/xs/lbsqf83x5hq1m_960gjbt5qh0000gn/T/ipykernel_52881/1541603593.py\u001b[0m in \u001b[0;36meval_node\u001b[0;34m(x, graph)\u001b[0m\n\u001b[1;32m      9\u001b[0m       \u001b[0;32massert\u001b[0m \u001b[0mlen\u001b[0m\u001b[0;34m(\u001b[0m\u001b[0mx\u001b[0m\u001b[0;34m)\u001b[0m \u001b[0;34m==\u001b[0m \u001b[0;36m3\u001b[0m\u001b[0;34m,\u001b[0m \u001b[0mx\u001b[0m\u001b[0;34m\u001b[0m\u001b[0;34m\u001b[0m\u001b[0m\n\u001b[1;32m     10\u001b[0m       \u001b[0mop\u001b[0m \u001b[0;34m=\u001b[0m \u001b[0;34m{\u001b[0m\u001b[0;34m'+'\u001b[0m\u001b[0;34m:\u001b[0m \u001b[0moperator\u001b[0m\u001b[0;34m.\u001b[0m\u001b[0madd\u001b[0m\u001b[0;34m,\u001b[0m \u001b[0;34m'-'\u001b[0m\u001b[0;34m:\u001b[0m \u001b[0moperator\u001b[0m\u001b[0;34m.\u001b[0m\u001b[0msub\u001b[0m\u001b[0;34m,\u001b[0m \u001b[0;34m'*'\u001b[0m\u001b[0;34m:\u001b[0m \u001b[0moperator\u001b[0m\u001b[0;34m.\u001b[0m\u001b[0mmul\u001b[0m\u001b[0;34m,\u001b[0m \u001b[0;34m'/'\u001b[0m\u001b[0;34m:\u001b[0m \u001b[0moperator\u001b[0m\u001b[0;34m.\u001b[0m\u001b[0mfloordiv\u001b[0m \u001b[0;34m}\u001b[0m\u001b[0;34m\u001b[0m\u001b[0;34m\u001b[0m\u001b[0m\n\u001b[0;32m---> 11\u001b[0;31m       \u001b[0;32mreturn\u001b[0m \u001b[0mop\u001b[0m\u001b[0;34m[\u001b[0m\u001b[0mx\u001b[0m\u001b[0;34m[\u001b[0m\u001b[0;36m1\u001b[0m\u001b[0;34m]\u001b[0m\u001b[0;34m]\u001b[0m\u001b[0;34m(\u001b[0m\u001b[0meval_node\u001b[0m\u001b[0;34m(\u001b[0m\u001b[0mx\u001b[0m\u001b[0;34m[\u001b[0m\u001b[0;36m0\u001b[0m\u001b[0;34m]\u001b[0m\u001b[0;34m,\u001b[0m \u001b[0mgraph\u001b[0m\u001b[0;34m)\u001b[0m\u001b[0;34m,\u001b[0m \u001b[0meval_node\u001b[0m\u001b[0;34m(\u001b[0m\u001b[0mx\u001b[0m\u001b[0;34m[\u001b[0m\u001b[0;36m2\u001b[0m\u001b[0;34m]\u001b[0m\u001b[0;34m,\u001b[0m \u001b[0mgraph\u001b[0m\u001b[0;34m)\u001b[0m\u001b[0;34m)\u001b[0m\u001b[0;34m\u001b[0m\u001b[0;34m\u001b[0m\u001b[0m\n\u001b[0m\u001b[1;32m     12\u001b[0m \u001b[0;34m\u001b[0m\u001b[0m\n\u001b[1;32m     13\u001b[0m    \u001b[0;32mdef\u001b[0m \u001b[0mvisit\u001b[0m\u001b[0;34m(\u001b[0m\u001b[0mnode\u001b[0m\u001b[0;34m,\u001b[0m \u001b[0mgraph\u001b[0m\u001b[0;34m)\u001b[0m\u001b[0;34m:\u001b[0m\u001b[0;34m\u001b[0m\u001b[0;34m\u001b[0m\u001b[0m\n",
      "\u001b[0;32m/var/folders/xs/lbsqf83x5hq1m_960gjbt5qh0000gn/T/ipykernel_52881/1541603593.py\u001b[0m in \u001b[0;36meval_node\u001b[0;34m(x, graph)\u001b[0m\n\u001b[1;32m      2\u001b[0m \u001b[0;34m\u001b[0m\u001b[0m\n\u001b[1;32m      3\u001b[0m \u001b[0;32mdef\u001b[0m \u001b[0mmonkey_math\u001b[0m\u001b[0;34m(\u001b[0m\u001b[0minput\u001b[0m\u001b[0;34m)\u001b[0m\u001b[0;34m:\u001b[0m\u001b[0;34m\u001b[0m\u001b[0;34m\u001b[0m\u001b[0m\n\u001b[0;32m----> 4\u001b[0;31m    \u001b[0;32mdef\u001b[0m \u001b[0meval_node\u001b[0m\u001b[0;34m(\u001b[0m\u001b[0mx\u001b[0m\u001b[0;34m,\u001b[0m \u001b[0mgraph\u001b[0m\u001b[0;34m)\u001b[0m\u001b[0;34m:\u001b[0m\u001b[0;34m\u001b[0m\u001b[0;34m\u001b[0m\u001b[0m\n\u001b[0m\u001b[1;32m      5\u001b[0m       \u001b[0;32mif\u001b[0m \u001b[0mtype\u001b[0m\u001b[0;34m(\u001b[0m\u001b[0mx\u001b[0m\u001b[0;34m)\u001b[0m \u001b[0;32mis\u001b[0m \u001b[0mstr\u001b[0m\u001b[0;34m:\u001b[0m\u001b[0;34m\u001b[0m\u001b[0;34m\u001b[0m\u001b[0m\n\u001b[1;32m      6\u001b[0m          \u001b[0;32mreturn\u001b[0m \u001b[0meval_node\u001b[0m\u001b[0;34m(\u001b[0m\u001b[0mgraph\u001b[0m\u001b[0;34m[\u001b[0m\u001b[0mx\u001b[0m\u001b[0;34m]\u001b[0m\u001b[0;34m,\u001b[0m \u001b[0mgraph\u001b[0m\u001b[0;34m)\u001b[0m\u001b[0;34m\u001b[0m\u001b[0;34m\u001b[0m\u001b[0m\n",
      "\u001b[0;31mKeyboardInterrupt\u001b[0m: "
     ]
    }
   ],
   "source": [
    "import operator\n",
    "\n",
    "def monkey_math(input):\n",
    "   def eval_node(x, graph):\n",
    "      if type(x) is str:\n",
    "         return eval_node(graph[x], graph)\n",
    "      if type(x) is int:\n",
    "         return x\n",
    "      assert len(x) == 3, x\n",
    "      op = {'+': operator.add, '-': operator.sub, '*': operator.mul, '/': operator.floordiv }\n",
    "      return op[x[1]](eval_node(x[0], graph), eval_node(x[2], graph))\n",
    "\n",
    "   def visit(node, graph):\n",
    "      ops = {'+': operator.add, '-': operator.sub, '*': operator.mul, '/': operator.floordiv }\n",
    "      if type(node) is str:\n",
    "         if node.isdigit():\n",
    "            return int(node)\n",
    "         if node == \"humn\":\n",
    "            return node\n",
    "         assert node in graph, node\n",
    "         return visit(graph[node], graph)\n",
    "      if type(node) is int:\n",
    "         return node\n",
    "      n1, op, n2 = visit(node[0], graph), ops[node[1]], visit(node[2], graph)\n",
    "      if type(n1) is int and type(n2) is int:\n",
    "         return op(n1, n2)\n",
    "      return f\"({n1} {node[1]} {n2})\"\n",
    "\n",
    "   monkeys = {}\n",
    "   for line in input.splitlines():\n",
    "      try:\n",
    "         name, expr = line.split(\": \")\n",
    "         expr = expr.split(' ')\n",
    "         if len(expr) == 1:\n",
    "            expr = int(expr[0])\n",
    "      except:\n",
    "         assert False, f\"wtf? {line}\"\n",
    "         raise\n",
    "      monkeys[name] = expr\n",
    "\n",
    "   root = monkeys[\"root\"]\n",
    "   answer1 = eval_node(\"root\", monkeys)\n",
    "   lhs = f\"{visit(root[0], monkeys)}\"\n",
    "   rhs = f\"{visit(root[2], monkeys)}\"\n",
    "   print (\"humn\" in lhs, \"humn\" in rhs, lhs, rhs)\n",
    "   dyn = 0 if \"humn\" in lhs else 2\n",
    "   assert dyn == 0\n",
    "   static = eval_node(root[0 if dyn == 2 else 2], monkeys)\n",
    "   lb = 0\n",
    "   ub = 10 ** 100\n",
    "   while lb <= ub:\n",
    "      mid = (ub + lb) // 2\n",
    "      monkeys.update(humn=mid)\n",
    "      res = eval_node(root[dyn], monkeys)\n",
    "      if res > static:\n",
    "         lb = mid\n",
    "      elif res < static:\n",
    "         ub = mid\n",
    "      else:\n",
    "         return answer1, lb, ub, mid, res, static\n",
    "   return answer1, lb\n",
    "   for i in range(1000000):\n",
    "      monkeys[\"humn\"] = i\n",
    "      lhs, rhs = [eval_node(root[n], monkeys) for n in (0, 2)]\n",
    "      if lhs == rhs:\n",
    "         return answer1, i\n",
    "      if i % 100 == 0:\n",
    "         print(i, lhs, rhs)\n",
    "   # print(eval_node(root[0], monkeys), eval_node(root[2], monkeys))\n",
    "   return eval_node(\"root\", monkeys)\n",
    "\n",
    "assert monkey_math(p.example_data) == (152, 301)"
   ]
  },
  {
   "cell_type": "code",
   "execution_count": 268,
   "metadata": {},
   "outputs": [
    {
     "name": "stdout",
     "output_type": "stream",
     "text": [
      "True False ((452 + ((88019559115041 - ((((((541 + (((((4 * ((((((((2 * (((((557 + ((996 + (((((261 + (2 * ((2 * (((980 + ((39 * (934 + ((((((((((191 + (6 * ((2 * (((((978 + (3 * (((((humn - 259) / 5) + 998) * 50) - 222))) / 12) + 442) / 2) - 274)) - 560))) + 105) / 2) - 556) * 2) + 65) + 773) / 2) - 791) / 9))) + 703)) / 9) - 848)) - 760))) + 658) / 3) - 888) * 4)) / 8)) / 2) - 436) * 11) + 798)) - 585) / 5) + 225) * 2) - 318) / 2) + 564)) - 998) / 3) - 362) / 4)) * 7) + 344) / 5) - 275) * 6)) / 3)) * 2) 24376746909942\n"
     ]
    },
    {
     "data": {
      "text/plain": [
       "(83056452926300,\n",
       " 3469704905521,\n",
       " 3469704905540,\n",
       " 3469704905530,\n",
       " 24376746909942,\n",
       " 24376746909942)"
      ]
     },
     "execution_count": 268,
     "metadata": {},
     "output_type": "execute_result"
    }
   ],
   "source": [
    "monkey_math(p.input_data)"
   ]
  },
  {
   "cell_type": "code",
   "execution_count": 258,
   "metadata": {},
   "outputs": [
    {
     "data": {
      "text/plain": [
       "24376746909942.0"
      ]
     },
     "execution_count": 258,
     "metadata": {},
     "output_type": "execute_result"
    }
   ],
   "source": [
    "humn = 3469704905529\n",
    "((452 + ((88019559115041 - ((((((541 + (((((4 * ((((((((2 * (((((557 + ((996 + (((((261 + (2 * ((2 * (((980 + ((39 * (934 + ((((((((((191 + (6 * ((2 * (((((978 + (3 * (((((humn - 259) / 5) + 998) * 50) - 222))) / 12) + 442) / 2) - 274)) - 560))) + 105) / 2) - 556) * 2) + 65) + 773) / 2) - 791) / 9))) + 703)) / 9) - 848)) - 760))) + 658) / 3) - 888) * 4)) / 8)) / 2) - 436) * 11) + 798)) - 585) / 5) + 225) * 2) - 318) / 2) + 564)) - 998) / 3) - 362) / 4)) * 7) + 344) / 5) - 275) * 6)) / 3)) * 2)"
   ]
  },
  {
   "cell_type": "code",
   "execution_count": 270,
   "metadata": {},
   "outputs": [
    {
     "data": {
      "text/plain": [
       "<Puzzle(2022, 22) at 0x117732260 - Monkey Map>"
      ]
     },
     "execution_count": 270,
     "metadata": {},
     "output_type": "execute_result"
    }
   ],
   "source": [
    "p = Puzzle(day=22)\n",
    "p"
   ]
  },
  {
   "cell_type": "code",
   "execution_count": 336,
   "metadata": {},
   "outputs": [
    {
     "name": "stdout",
     "output_type": "stream",
     "text": [
      "12 16\n"
     ]
    }
   ],
   "source": [
    "def monkey_map(input):\n",
    "   M = list(input.splitlines())\n",
    "   M, path = M[:-2], M[-1]\n",
    "   width = max(len(row) for row in M)\n",
    "   M = [row.ljust(width) for row in M]\n",
    "   path = [int(x) if x.isdigit() else x for x in re.split(\"([LR])\", path)]\n",
    "   LEFT, RIGHT, UP, DOWN = (-1, 0), (1, 0), (0, -1), (0, 1)\n",
    "   GLYPH = {LEFT: '<', RIGHT: '>', UP: '^', DOWN: 'v'}\n",
    "   TURNS = {\n",
    "      (LEFT, 'L'): DOWN, (LEFT, 'R'): UP,\n",
    "      (RIGHT, 'L'): UP, (RIGHT, 'R'): DOWN,\n",
    "      (UP, 'L'): LEFT, (UP, 'R'): RIGHT,\n",
    "      (DOWN, 'L'): RIGHT, (DOWN, 'R'): LEFT\n",
    "   }\n",
    "   def move(x, y, facing):\n",
    "      while True:\n",
    "         if facing in (UP, DOWN):\n",
    "            y = (y + Y(facing)) % len(M)\n",
    "         else:\n",
    "            x = (x + X(facing)) % len(M[y])\n",
    "         if M[y][x] != ' ':\n",
    "            break\n",
    "      if M[y][x] == '.':\n",
    "         return x, y\n",
    "\n",
    "   facing = RIGHT\n",
    "   x, y = M[0].index('.'), 0\n",
    "   trace = {}\n",
    "   for step in path:\n",
    "      if type(step) is str:\n",
    "         facing = TURNS[(facing, step)]\n",
    "         continue\n",
    "      for _ in range(step):\n",
    "         tpl = move(x, y, facing)\n",
    "         # print(f\"{_+1}/{step}: {(x, y)} + {facing} -> {tpl}\")\n",
    "         if tpl is None:\n",
    "            break\n",
    "         trace[(x, y)] = GLYPH[facing]\n",
    "         x, y = tpl\n",
    "\n",
    "   #for yy, row in enumerate(M):\n",
    "   #   chars = [trace.get((xx, yy), c) for xx, c in enumerate(row)]\n",
    "   #   print(f\"{yy+1:4} {''.join(chars)}\")\n",
    "   return 1000 * (y + 1) + 4 * (x + 1) + {RIGHT: 0, DOWN: 1, LEFT: 2, UP: 3}[facing]\n",
    "\n",
    "assert monkey_map(p.example_data) == 6032"
   ]
  },
  {
   "cell_type": "code",
   "execution_count": 337,
   "metadata": {},
   "outputs": [
    {
     "name": "stdout",
     "output_type": "stream",
     "text": [
      "200 150\n"
     ]
    }
   ],
   "source": [
    "p.answer_a = monkey_map(p.input_data)"
   ]
  },
  {
   "cell_type": "code",
   "execution_count": 338,
   "metadata": {},
   "outputs": [
    {
     "data": {
      "text/plain": [
       "<Puzzle(2022, 23) at 0x118ad6410 - Unstable Diffusion>"
      ]
     },
     "execution_count": 338,
     "metadata": {},
     "output_type": "execute_result"
    }
   ],
   "source": [
    "p = Puzzle(day=23)\n",
    "p"
   ]
  },
  {
   "cell_type": "code",
   "execution_count": 402,
   "metadata": {},
   "outputs": [
    {
     "name": "stdout",
     "output_type": "stream",
     "text": [
      "22 elves\n",
      "> Round 1: elves=22 moved=11 score=59\n",
      "> Round 2: elves=22 moved=11 score=77\n",
      "> Round 3: elves=22 moved=13 score=88\n",
      "> Round 4: elves=22 moved=14 score=88\n",
      "> Round 5: elves=22 moved=19 score=99\n",
      "> Round 6: elves=22 moved=8 score=99\n",
      "> Round 7: elves=22 moved=10 score=99\n",
      "> Round 8: elves=22 moved=11 score=99\n",
      "> Round 9: elves=22 moved=6 score=99\n",
      "> Round 10: elves=22 moved=9 score=110\n",
      "> Round 11: elves=22 moved=7 score=110\n",
      "> Round 12: elves=22 moved=6 score=110\n",
      "> Round 13: elves=22 moved=5 score=110\n",
      "> Round 14: elves=22 moved=6 score=110\n",
      "> Round 15: elves=22 moved=6 score=121\n",
      "> Round 16: elves=22 moved=4 score=134\n",
      "> Round 17: elves=22 moved=2 score=134\n",
      "> Round 18: elves=22 moved=2 score=134\n",
      "> Round 19: elves=22 moved=2 score=146\n",
      "> Round 20: elves=22 moved=0 score=146\n"
     ]
    }
   ],
   "source": [
    "def diffusion(input, debug=False):\n",
    "   NORTH, SOUTH, WEST, EAST = (0, -1), (0, 1), (-1, 0), (1, 0)\n",
    "   NE, NW = (1, -1), (-1, -1)\n",
    "   SE, SW = (1, 1), (-1, 1)\n",
    "   CHECK = {\n",
    "      NORTH: [NORTH, NE, NW],\n",
    "      SOUTH: [SOUTH, SE, SW],\n",
    "      WEST: [WEST, NW, SW],\n",
    "      EAST: [EAST, NE, SE]\n",
    "   }\n",
    "   MOVES = [NORTH, SOUTH, WEST, EAST]\n",
    "   elves = set((x, y) for y, line in enumerate(input.splitlines()) for x, c in enumerate(line) if c == '#')\n",
    "   print(f\"{len(elves)} elves\")\n",
    "   def dims(elves):\n",
    "      minx, maxx = min(x for x, y in elves), max(x for x, y in elves)\n",
    "      miny, maxy = min(y for x, y in elves), max(y for x, y in elves)\n",
    "      return ((minx, maxx), (miny, maxy))\n",
    "   def draw(elves):\n",
    "      (minx, maxx), (miny, maxy) = dims(elves)\n",
    "      shape = (maxx - minx + 1, maxy - miny + 1)\n",
    "      print(shape)\n",
    "      for y in range(miny - 1, maxy + 2):\n",
    "         row = ['#' if (x, y) in elves else '.' for x in range(minx - 1, maxx + 2)]\n",
    "         print(''.join(row))\n",
    "   def can_move(x, y, direction):\n",
    "      return not any((x + dx, y + dy) in elves for dx, dy in CHECK[direction])\n",
    "   def score(elves):\n",
    "      (minx, maxx), (miny, maxy) = dims(elves)\n",
    "      return (maxx - minx + 1) * (maxy - miny + 1) - len(elves)\n",
    "   round = 0\n",
    "   score1 = None\n",
    "   while True:\n",
    "      moves = {}\n",
    "      for x, y in elves:\n",
    "         \n",
    "         if not any(n in elves for n in neighbors8((x, y))):\n",
    "            # No move\n",
    "            continue\n",
    "         for i in range(len(MOVES)):\n",
    "            move = MOVES[(round + i) % len(MOVES)]\n",
    "            if can_move(x, y, move):\n",
    "               moves[(x, y)] = (x + X(move), y + Y(move))\n",
    "               break\n",
    "      counts = Counter(moves.values())\n",
    "      moves = [(src, dest) for src, dest in moves.items() if counts[dest] == 1]\n",
    "      for src, dest in moves:\n",
    "         elves.remove(src)\n",
    "         elves.add(dest)\n",
    "      round += 1\n",
    "      if debug:\n",
    "         print(f\"> Round {round}: elves={len(elves)} moved={len(moves)} score={score(elves)}\")\n",
    "      if round == 10:\n",
    "         score1 = score(elves)\n",
    "      if not moves:\n",
    "         break\n",
    "   return score1, round\n",
    "            \n",
    "assert diffusion(p.example_data) == (110, 20)"
   ]
  },
  {
   "cell_type": "code",
   "execution_count": 403,
   "metadata": {},
   "outputs": [
    {
     "name": "stdout",
     "output_type": "stream",
     "text": [
      "2551 elves\n",
      "> Round 1: elves=2551 moved=659 score=2778\n",
      "> Round 2: elves=2551 moved=529 score=2999\n",
      "> Round 3: elves=2551 moved=459 score=3224\n",
      "> Round 4: elves=2551 moved=403 score=3149\n",
      "> Round 5: elves=2551 moved=416 score=3378\n",
      "> Round 6: elves=2551 moved=400 score=3532\n",
      "> Round 7: elves=2551 moved=335 score=3609\n",
      "> Round 8: elves=2551 moved=375 score=3690\n",
      "> Round 9: elves=2551 moved=367 score=3849\n",
      "> Round 10: elves=2551 moved=418 score=3849\n",
      "> Round 11: elves=2551 moved=404 score=3929\n",
      "> Round 12: elves=2551 moved=447 score=4010\n",
      "> Round 13: elves=2551 moved=425 score=4010\n",
      "> Round 14: elves=2551 moved=461 score=4173\n",
      "> Round 15: elves=2551 moved=450 score=4173\n",
      "> Round 16: elves=2551 moved=463 score=4255\n",
      "> Round 17: elves=2551 moved=455 score=4255\n",
      "> Round 18: elves=2551 moved=513 score=4337\n",
      "> Round 19: elves=2551 moved=482 score=4337\n",
      "> Round 20: elves=2551 moved=515 score=4421\n",
      "> Round 21: elves=2551 moved=521 score=4505\n",
      "> Round 22: elves=2551 moved=522 score=4505\n",
      "> Round 23: elves=2551 moved=508 score=4589\n",
      "> Round 24: elves=2551 moved=542 score=4673\n",
      "> Round 25: elves=2551 moved=527 score=4673\n",
      "> Round 26: elves=2551 moved=554 score=4673\n",
      "> Round 27: elves=2551 moved=520 score=4673\n",
      "> Round 28: elves=2551 moved=566 score=4673\n",
      "> Round 29: elves=2551 moved=587 score=4673\n",
      "> Round 30: elves=2551 moved=601 score=4673\n",
      "> Round 31: elves=2551 moved=569 score=4673\n",
      "> Round 32: elves=2551 moved=591 score=4844\n",
      "> Round 33: elves=2551 moved=560 score=4931\n",
      "> Round 34: elves=2551 moved=580 score=4931\n",
      "> Round 35: elves=2551 moved=546 score=4931\n",
      "> Round 36: elves=2551 moved=576 score=4931\n",
      "> Round 37: elves=2551 moved=561 score=4931\n",
      "> Round 38: elves=2551 moved=619 score=4931\n",
      "> Round 39: elves=2551 moved=605 score=4931\n",
      "> Round 40: elves=2551 moved=608 score=4931\n",
      "> Round 41: elves=2551 moved=603 score=4931\n",
      "> Round 42: elves=2551 moved=639 score=5105\n",
      "> Round 43: elves=2551 moved=650 score=5105\n",
      "> Round 44: elves=2551 moved=677 score=5105\n",
      "> Round 45: elves=2551 moved=617 score=5193\n",
      "> Round 46: elves=2551 moved=655 score=5193\n",
      "> Round 47: elves=2551 moved=594 score=5193\n",
      "> Round 48: elves=2551 moved=654 score=5193\n",
      "> Round 49: elves=2551 moved=628 score=5281\n",
      "> Round 50: elves=2551 moved=665 score=5281\n",
      "> Round 51: elves=2551 moved=630 score=5370\n",
      "> Round 52: elves=2551 moved=675 score=5370\n",
      "> Round 53: elves=2551 moved=632 score=5370\n",
      "> Round 54: elves=2551 moved=658 score=5370\n",
      "> Round 55: elves=2551 moved=632 score=5459\n",
      "> Round 56: elves=2551 moved=666 score=5548\n",
      "> Round 57: elves=2551 moved=654 score=5548\n",
      "> Round 58: elves=2551 moved=749 score=5548\n",
      "> Round 59: elves=2551 moved=710 score=5548\n",
      "> Round 60: elves=2551 moved=740 score=5548\n",
      "> Round 61: elves=2551 moved=697 score=5548\n",
      "> Round 62: elves=2551 moved=764 score=5548\n",
      "> Round 63: elves=2551 moved=714 score=5637\n",
      "> Round 64: elves=2551 moved=732 score=5729\n",
      "> Round 65: elves=2551 moved=695 score=5729\n",
      "> Round 66: elves=2551 moved=763 score=5729\n",
      "> Round 67: elves=2551 moved=729 score=5729\n",
      "> Round 68: elves=2551 moved=765 score=5729\n",
      "> Round 69: elves=2551 moved=736 score=5821\n",
      "> Round 70: elves=2551 moved=757 score=5821\n",
      "> Round 71: elves=2551 moved=706 score=5821\n",
      "> Round 72: elves=2551 moved=798 score=5821\n",
      "> Round 73: elves=2551 moved=729 score=5821\n",
      "> Round 74: elves=2551 moved=776 score=5821\n",
      "> Round 75: elves=2551 moved=740 score=5821\n",
      "> Round 76: elves=2551 moved=785 score=5821\n",
      "> Round 77: elves=2551 moved=746 score=5821\n",
      "> Round 78: elves=2551 moved=751 score=5821\n",
      "> Round 79: elves=2551 moved=748 score=5821\n",
      "> Round 80: elves=2551 moved=796 score=5912\n",
      "> Round 81: elves=2551 moved=757 score=6005\n",
      "> Round 82: elves=2551 moved=793 score=6005\n",
      "> Round 83: elves=2551 moved=763 score=6005\n",
      "> Round 84: elves=2551 moved=811 score=6097\n",
      "> Round 85: elves=2551 moved=742 score=6097\n",
      "> Round 86: elves=2551 moved=811 score=6097\n",
      "> Round 87: elves=2551 moved=775 score=6097\n",
      "> Round 88: elves=2551 moved=835 score=6097\n",
      "> Round 89: elves=2551 moved=791 score=6191\n",
      "> Round 90: elves=2551 moved=822 score=6191\n",
      "> Round 91: elves=2551 moved=819 score=6191\n",
      "> Round 92: elves=2551 moved=868 score=6191\n",
      "> Round 93: elves=2551 moved=811 score=6285\n",
      "> Round 94: elves=2551 moved=844 score=6285\n",
      "> Round 95: elves=2551 moved=810 score=6285\n",
      "> Round 96: elves=2551 moved=848 score=6379\n",
      "> Round 97: elves=2551 moved=807 score=6379\n",
      "> Round 98: elves=2551 moved=884 score=6379\n",
      "> Round 99: elves=2551 moved=860 score=6379\n",
      "> Round 100: elves=2551 moved=910 score=6379\n",
      "> Round 101: elves=2551 moved=858 score=6379\n",
      "> Round 102: elves=2551 moved=892 score=6474\n",
      "> Round 103: elves=2551 moved=813 score=6474\n",
      "> Round 104: elves=2551 moved=851 score=6474\n",
      "> Round 105: elves=2551 moved=803 score=6474\n",
      "> Round 106: elves=2551 moved=863 score=6474\n",
      "> Round 107: elves=2551 moved=836 score=6474\n",
      "> Round 108: elves=2551 moved=918 score=6569\n",
      "> Round 109: elves=2551 moved=849 score=6569\n",
      "> Round 110: elves=2551 moved=887 score=6569\n",
      "> Round 111: elves=2551 moved=841 score=6569\n",
      "> Round 112: elves=2551 moved=891 score=6664\n",
      "> Round 113: elves=2551 moved=832 score=6664\n",
      "> Round 114: elves=2551 moved=887 score=6857\n",
      "> Round 115: elves=2551 moved=849 score=6857\n",
      "> Round 116: elves=2551 moved=914 score=6857\n",
      "> Round 117: elves=2551 moved=850 score=6857\n",
      "> Round 118: elves=2551 moved=906 score=6857\n",
      "> Round 119: elves=2551 moved=860 score=6857\n",
      "> Round 120: elves=2551 moved=923 score=6857\n",
      "> Round 121: elves=2551 moved=870 score=6955\n",
      "> Round 122: elves=2551 moved=946 score=6955\n",
      "> Round 123: elves=2551 moved=874 score=6955\n",
      "> Round 124: elves=2551 moved=909 score=6955\n",
      "> Round 125: elves=2551 moved=875 score=6955\n",
      "> Round 126: elves=2551 moved=926 score=6955\n",
      "> Round 127: elves=2551 moved=853 score=6955\n",
      "> Round 128: elves=2551 moved=923 score=6955\n",
      "> Round 129: elves=2551 moved=877 score=6955\n",
      "> Round 130: elves=2551 moved=971 score=6955\n",
      "> Round 131: elves=2551 moved=925 score=6955\n",
      "> Round 132: elves=2551 moved=980 score=6955\n",
      "> Round 133: elves=2551 moved=920 score=7053\n",
      "> Round 134: elves=2551 moved=972 score=7053\n",
      "> Round 135: elves=2551 moved=944 score=7053\n",
      "> Round 136: elves=2551 moved=987 score=7053\n",
      "> Round 137: elves=2551 moved=919 score=7053\n",
      "> Round 138: elves=2551 moved=1010 score=7053\n",
      "> Round 139: elves=2551 moved=942 score=7249\n",
      "> Round 140: elves=2551 moved=993 score=7249\n",
      "> Round 141: elves=2551 moved=939 score=7249\n",
      "> Round 142: elves=2551 moved=982 score=7349\n",
      "> Round 143: elves=2551 moved=934 score=7349\n",
      "> Round 144: elves=2551 moved=1007 score=7349\n",
      "> Round 145: elves=2551 moved=932 score=7349\n",
      "> Round 146: elves=2551 moved=966 score=7349\n",
      "> Round 147: elves=2551 moved=953 score=7349\n",
      "> Round 148: elves=2551 moved=984 score=7349\n",
      "> Round 149: elves=2551 moved=931 score=7349\n",
      "> Round 150: elves=2551 moved=1004 score=7449\n",
      "> Round 151: elves=2551 moved=941 score=7449\n",
      "> Round 152: elves=2551 moved=971 score=7449\n",
      "> Round 153: elves=2551 moved=952 score=7449\n",
      "> Round 154: elves=2551 moved=989 score=7449\n",
      "> Round 155: elves=2551 moved=954 score=7449\n",
      "> Round 156: elves=2551 moved=1007 score=7549\n",
      "> Round 157: elves=2551 moved=994 score=7549\n",
      "> Round 158: elves=2551 moved=1000 score=7549\n",
      "> Round 159: elves=2551 moved=983 score=7549\n",
      "> Round 160: elves=2551 moved=1030 score=7549\n",
      "> Round 161: elves=2551 moved=998 score=7650\n",
      "> Round 162: elves=2551 moved=1053 score=7650\n",
      "> Round 163: elves=2551 moved=1016 score=7650\n",
      "> Round 164: elves=2551 moved=1055 score=7650\n",
      "> Round 165: elves=2551 moved=982 score=7650\n",
      "> Round 166: elves=2551 moved=1022 score=7650\n",
      "> Round 167: elves=2551 moved=962 score=7650\n",
      "> Round 168: elves=2551 moved=1082 score=7650\n",
      "> Round 169: elves=2551 moved=1012 score=7650\n",
      "> Round 170: elves=2551 moved=1078 score=7751\n",
      "> Round 171: elves=2551 moved=1012 score=7751\n",
      "> Round 172: elves=2551 moved=1054 score=7853\n",
      "> Round 173: elves=2551 moved=988 score=7853\n",
      "> Round 174: elves=2551 moved=1037 score=7853\n",
      "> Round 175: elves=2551 moved=979 score=7853\n",
      "> Round 176: elves=2551 moved=1071 score=7853\n",
      "> Round 177: elves=2551 moved=1004 score=7853\n",
      "> Round 178: elves=2551 moved=1106 score=7853\n",
      "> Round 179: elves=2551 moved=1051 score=7955\n",
      "> Round 180: elves=2551 moved=1112 score=7955\n",
      "> Round 181: elves=2551 moved=1021 score=8058\n",
      "> Round 182: elves=2551 moved=1102 score=8058\n",
      "> Round 183: elves=2551 moved=1038 score=8058\n",
      "> Round 184: elves=2551 moved=1088 score=8058\n",
      "> Round 185: elves=2551 moved=1023 score=8058\n",
      "> Round 186: elves=2551 moved=1084 score=8058\n",
      "> Round 187: elves=2551 moved=990 score=8058\n",
      "> Round 188: elves=2551 moved=1075 score=8058\n",
      "> Round 189: elves=2551 moved=1005 score=8058\n",
      "> Round 190: elves=2551 moved=1101 score=8161\n",
      "> Round 191: elves=2551 moved=1084 score=8161\n",
      "> Round 192: elves=2551 moved=1131 score=8161\n",
      "> Round 193: elves=2551 moved=1079 score=8161\n",
      "> Round 194: elves=2551 moved=1125 score=8161\n",
      "> Round 195: elves=2551 moved=1058 score=8161\n",
      "> Round 196: elves=2551 moved=1092 score=8161\n",
      "> Round 197: elves=2551 moved=1052 score=8161\n",
      "> Round 198: elves=2551 moved=1100 score=8161\n",
      "> Round 199: elves=2551 moved=998 score=8161\n",
      "> Round 200: elves=2551 moved=1103 score=8161\n",
      "> Round 201: elves=2551 moved=1062 score=8265\n",
      "> Round 202: elves=2551 moved=1112 score=8265\n",
      "> Round 203: elves=2551 moved=1059 score=8265\n",
      "> Round 204: elves=2551 moved=1124 score=8265\n",
      "> Round 205: elves=2551 moved=1060 score=8265\n",
      "> Round 206: elves=2551 moved=1105 score=8265\n",
      "> Round 207: elves=2551 moved=1067 score=8265\n",
      "> Round 208: elves=2551 moved=1158 score=8265\n",
      "> Round 209: elves=2551 moved=1111 score=8369\n",
      "> Round 210: elves=2551 moved=1167 score=8474\n",
      "> Round 211: elves=2551 moved=1064 score=8474\n",
      "> Round 212: elves=2551 moved=1155 score=8474\n",
      "> Round 213: elves=2551 moved=1071 score=8474\n",
      "> Round 214: elves=2551 moved=1132 score=8474\n",
      "> Round 215: elves=2551 moved=1050 score=8474\n",
      "> Round 216: elves=2551 moved=1150 score=8579\n",
      "> Round 217: elves=2551 moved=1078 score=8579\n",
      "> Round 218: elves=2551 moved=1143 score=8579\n",
      "> Round 219: elves=2551 moved=1100 score=8579\n",
      "> Round 220: elves=2551 moved=1150 score=8579\n",
      "> Round 221: elves=2551 moved=1062 score=8685\n",
      "> Round 222: elves=2551 moved=1140 score=8685\n",
      "> Round 223: elves=2551 moved=1068 score=8791\n",
      "> Round 224: elves=2551 moved=1123 score=8791\n",
      "> Round 225: elves=2551 moved=1073 score=8791\n",
      "> Round 226: elves=2551 moved=1159 score=8791\n",
      "> Round 227: elves=2551 moved=1097 score=8791\n",
      "> Round 228: elves=2551 moved=1114 score=8791\n",
      "> Round 229: elves=2551 moved=1094 score=8791\n",
      "> Round 230: elves=2551 moved=1173 score=8791\n",
      "> Round 231: elves=2551 moved=1103 score=8791\n",
      "> Round 232: elves=2551 moved=1153 score=8898\n",
      "> Round 233: elves=2551 moved=1113 score=8898\n",
      "> Round 234: elves=2551 moved=1206 score=8898\n",
      "> Round 235: elves=2551 moved=1161 score=8898\n",
      "> Round 236: elves=2551 moved=1192 score=8898\n",
      "> Round 237: elves=2551 moved=1108 score=8898\n",
      "> Round 238: elves=2551 moved=1161 score=8898\n",
      "> Round 239: elves=2551 moved=1117 score=8898\n",
      "> Round 240: elves=2551 moved=1162 score=8898\n",
      "> Round 241: elves=2551 moved=1085 score=8898\n",
      "> Round 242: elves=2551 moved=1161 score=8898\n",
      "> Round 243: elves=2551 moved=1073 score=8898\n",
      "> Round 244: elves=2551 moved=1156 score=9005\n",
      "> Round 245: elves=2551 moved=1128 score=9005\n",
      "> Round 246: elves=2551 moved=1144 score=9005\n",
      "> Round 247: elves=2551 moved=1086 score=9005\n",
      "> Round 248: elves=2551 moved=1162 score=9112\n",
      "> Round 249: elves=2551 moved=1079 score=9221\n",
      "> Round 250: elves=2551 moved=1242 score=9221\n",
      "> Round 251: elves=2551 moved=1160 score=9221\n",
      "> Round 252: elves=2551 moved=1194 score=9221\n",
      "> Round 253: elves=2551 moved=1129 score=9221\n",
      "> Round 254: elves=2551 moved=1205 score=9221\n",
      "> Round 255: elves=2551 moved=1100 score=9329\n",
      "> Round 256: elves=2551 moved=1174 score=9329\n",
      "> Round 257: elves=2551 moved=1119 score=9329\n",
      "> Round 258: elves=2551 moved=1173 score=9329\n",
      "> Round 259: elves=2551 moved=1075 score=9329\n",
      "> Round 260: elves=2551 moved=1130 score=9329\n"
     ]
    },
    {
     "ename": "KeyboardInterrupt",
     "evalue": "",
     "output_type": "error",
     "traceback": [
      "\u001b[0;31m---------------------------------------------------------------------------\u001b[0m",
      "\u001b[0;31mKeyboardInterrupt\u001b[0m                         Traceback (most recent call last)",
      "\u001b[0;32m/var/folders/xs/lbsqf83x5hq1m_960gjbt5qh0000gn/T/ipykernel_52881/711474168.py\u001b[0m in \u001b[0;36m<module>\u001b[0;34m\u001b[0m\n\u001b[1;32m      1\u001b[0m \u001b[0;31m# p.answers =\u001b[0m\u001b[0;34m\u001b[0m\u001b[0;34m\u001b[0m\u001b[0m\n\u001b[0;32m----> 2\u001b[0;31m \u001b[0mdiffusion\u001b[0m\u001b[0;34m(\u001b[0m\u001b[0mp\u001b[0m\u001b[0;34m.\u001b[0m\u001b[0minput_data\u001b[0m\u001b[0;34m)\u001b[0m\u001b[0;34m\u001b[0m\u001b[0;34m\u001b[0m\u001b[0m\n\u001b[0m",
      "\u001b[0;32m/var/folders/xs/lbsqf83x5hq1m_960gjbt5qh0000gn/T/ipykernel_52881/1910971070.py\u001b[0m in \u001b[0;36mdiffusion\u001b[0;34m(input)\u001b[0m\n\u001b[1;32m     33\u001b[0m       \u001b[0mmoves\u001b[0m \u001b[0;34m=\u001b[0m \u001b[0;34m{\u001b[0m\u001b[0;34m}\u001b[0m\u001b[0;34m\u001b[0m\u001b[0;34m\u001b[0m\u001b[0m\n\u001b[1;32m     34\u001b[0m       \u001b[0;32mfor\u001b[0m \u001b[0mx\u001b[0m\u001b[0;34m,\u001b[0m \u001b[0my\u001b[0m \u001b[0;32min\u001b[0m \u001b[0melves\u001b[0m\u001b[0;34m:\u001b[0m\u001b[0;34m\u001b[0m\u001b[0;34m\u001b[0m\u001b[0m\n\u001b[0;32m---> 35\u001b[0;31m          \u001b[0;32mif\u001b[0m \u001b[0;32mnot\u001b[0m \u001b[0many\u001b[0m\u001b[0;34m(\u001b[0m\u001b[0mn\u001b[0m \u001b[0;32min\u001b[0m \u001b[0melves\u001b[0m \u001b[0;32mfor\u001b[0m \u001b[0mn\u001b[0m \u001b[0;32min\u001b[0m \u001b[0mneighbors8\u001b[0m\u001b[0;34m(\u001b[0m\u001b[0;34m(\u001b[0m\u001b[0mx\u001b[0m\u001b[0;34m,\u001b[0m \u001b[0my\u001b[0m\u001b[0;34m)\u001b[0m\u001b[0;34m)\u001b[0m\u001b[0;34m)\u001b[0m\u001b[0;34m:\u001b[0m\u001b[0;34m\u001b[0m\u001b[0;34m\u001b[0m\u001b[0m\n\u001b[0m\u001b[1;32m     36\u001b[0m             \u001b[0;31m# No move\u001b[0m\u001b[0;34m\u001b[0m\u001b[0;34m\u001b[0m\u001b[0m\n\u001b[1;32m     37\u001b[0m             \u001b[0;32mcontinue\u001b[0m\u001b[0;34m\u001b[0m\u001b[0;34m\u001b[0m\u001b[0m\n",
      "\u001b[0;32m/var/folders/xs/lbsqf83x5hq1m_960gjbt5qh0000gn/T/ipykernel_52881/1910971070.py\u001b[0m in \u001b[0;36m<genexpr>\u001b[0;34m(.0)\u001b[0m\n\u001b[1;32m     33\u001b[0m       \u001b[0mmoves\u001b[0m \u001b[0;34m=\u001b[0m \u001b[0;34m{\u001b[0m\u001b[0;34m}\u001b[0m\u001b[0;34m\u001b[0m\u001b[0;34m\u001b[0m\u001b[0m\n\u001b[1;32m     34\u001b[0m       \u001b[0;32mfor\u001b[0m \u001b[0mx\u001b[0m\u001b[0;34m,\u001b[0m \u001b[0my\u001b[0m \u001b[0;32min\u001b[0m \u001b[0melves\u001b[0m\u001b[0;34m:\u001b[0m\u001b[0;34m\u001b[0m\u001b[0;34m\u001b[0m\u001b[0m\n\u001b[0;32m---> 35\u001b[0;31m          \u001b[0;32mif\u001b[0m \u001b[0;32mnot\u001b[0m \u001b[0many\u001b[0m\u001b[0;34m(\u001b[0m\u001b[0mn\u001b[0m \u001b[0;32min\u001b[0m \u001b[0melves\u001b[0m \u001b[0;32mfor\u001b[0m \u001b[0mn\u001b[0m \u001b[0;32min\u001b[0m \u001b[0mneighbors8\u001b[0m\u001b[0;34m(\u001b[0m\u001b[0;34m(\u001b[0m\u001b[0mx\u001b[0m\u001b[0;34m,\u001b[0m \u001b[0my\u001b[0m\u001b[0;34m)\u001b[0m\u001b[0;34m)\u001b[0m\u001b[0;34m)\u001b[0m\u001b[0;34m:\u001b[0m\u001b[0;34m\u001b[0m\u001b[0;34m\u001b[0m\u001b[0m\n\u001b[0m\u001b[1;32m     36\u001b[0m             \u001b[0;31m# No move\u001b[0m\u001b[0;34m\u001b[0m\u001b[0;34m\u001b[0m\u001b[0m\n\u001b[1;32m     37\u001b[0m             \u001b[0;32mcontinue\u001b[0m\u001b[0;34m\u001b[0m\u001b[0;34m\u001b[0m\u001b[0m\n",
      "\u001b[0;32m_pydevd_bundle/pydevd_cython.pyx\u001b[0m in \u001b[0;36m_pydevd_bundle.pydevd_cython.SafeCallWrapper.__call__\u001b[0;34m()\u001b[0m\n",
      "\u001b[0;32m_pydevd_bundle/pydevd_cython.pyx\u001b[0m in \u001b[0;36m_pydevd_bundle.pydevd_cython.ThreadTracer.__call__\u001b[0;34m()\u001b[0m\n",
      "\u001b[0;32m~/anaconda/envs/py3/lib/python3.10/site-packages/debugpy/_vendored/pydevd/pydevd.py\u001b[0m in \u001b[0;36mapply_files_filter\u001b[0;34m(self, frame, original_filename, force_check_project_scope)\u001b[0m\n\u001b[1;32m   1237\u001b[0m             \u001b[0;32mreturn\u001b[0m \u001b[0mcache\u001b[0m\u001b[0;34m[\u001b[0m\u001b[0mcache_key\u001b[0m\u001b[0;34m]\u001b[0m\u001b[0;34m\u001b[0m\u001b[0;34m\u001b[0m\u001b[0m\n\u001b[1;32m   1238\u001b[0m \u001b[0;34m\u001b[0m\u001b[0m\n\u001b[0;32m-> 1239\u001b[0;31m     \u001b[0;32mdef\u001b[0m \u001b[0mapply_files_filter\u001b[0m\u001b[0;34m(\u001b[0m\u001b[0mself\u001b[0m\u001b[0;34m,\u001b[0m \u001b[0mframe\u001b[0m\u001b[0;34m,\u001b[0m \u001b[0moriginal_filename\u001b[0m\u001b[0;34m,\u001b[0m \u001b[0mforce_check_project_scope\u001b[0m\u001b[0;34m)\u001b[0m\u001b[0;34m:\u001b[0m\u001b[0;34m\u001b[0m\u001b[0;34m\u001b[0m\u001b[0m\n\u001b[0m\u001b[1;32m   1240\u001b[0m         '''\n\u001b[1;32m   1241\u001b[0m         \u001b[0mShould\u001b[0m \u001b[0monly\u001b[0m \u001b[0mbe\u001b[0m \u001b[0mcalled\u001b[0m \u001b[0;32mif\u001b[0m\u001b[0;31m \u001b[0m\u001b[0;31m`\u001b[0m\u001b[0mself\u001b[0m\u001b[0;34m.\u001b[0m\u001b[0mis_files_filter_enabled\u001b[0m \u001b[0;34m==\u001b[0m \u001b[0;32mTrue\u001b[0m\u001b[0;31m`\u001b[0m \u001b[0;32mor\u001b[0m\u001b[0;31m \u001b[0m\u001b[0;31m`\u001b[0m\u001b[0mforce_check_project_scope\u001b[0m \u001b[0;34m==\u001b[0m \u001b[0;32mTrue\u001b[0m\u001b[0;31m`\u001b[0m\u001b[0;34m.\u001b[0m\u001b[0;34m\u001b[0m\u001b[0;34m\u001b[0m\u001b[0m\n",
      "\u001b[0;31mKeyboardInterrupt\u001b[0m: "
     ]
    }
   ],
   "source": [
    "# p.answers = \n",
    "diffusion(p.input_data)"
   ]
  },
  {
   "cell_type": "code",
   "execution_count": 406,
   "metadata": {},
   "outputs": [
    {
     "data": {
      "text/plain": [
       "((-1, -1), (0, -1), (1, -1), (-1, 0), (1, 0), (-1, 1), (0, 1), (1, 1))"
      ]
     },
     "execution_count": 406,
     "metadata": {},
     "output_type": "execute_result"
    }
   ],
   "source": [
    "neighbors8((0, 0))"
   ]
  },
  {
   "cell_type": "code",
   "execution_count": null,
   "metadata": {},
   "outputs": [],
   "source": []
  }
 ],
 "metadata": {
  "kernelspec": {
   "display_name": "Python 3.10.0 ('py3')",
   "language": "python",
   "name": "python3"
  },
  "language_info": {
   "codemirror_mode": {
    "name": "ipython",
    "version": 3
   },
   "file_extension": ".py",
   "mimetype": "text/x-python",
   "name": "python",
   "nbconvert_exporter": "python",
   "pygments_lexer": "ipython3",
   "version": "3.10.0"
  },
  "vscode": {
   "interpreter": {
    "hash": "04a09e2e14eb6b92be6b7b85e349c7b7974c646f3d040b1b79db9e54e09a30c3"
   }
  }
 },
 "nbformat": 4,
 "nbformat_minor": 2
}
