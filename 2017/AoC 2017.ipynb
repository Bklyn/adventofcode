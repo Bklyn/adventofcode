{
 "cells": [
  {
   "cell_type": "markdown",
   "metadata": {},
   "source": [
    "# AoC 2017\n",
    "\n",
    "Solutions to 2017 [Advent of Code](http://adventofcode.com/2017/)\n",
    "Based on [Peter Norvig's AoC 2016 notebook](http://nbviewer.jupyter.org/url/norvig.com/ipython/Advent%20of%20Code.ipynb)"
   ]
  },
  {
   "cell_type": "code",
   "execution_count": 44,
   "metadata": {
    "collapsed": true
   },
   "outputs": [],
   "source": [
    "# Python 3.x\n",
    "import re\n",
    "import numpy as np\n",
    "import math\n",
    "import string\n",
    "import urllib.request\n",
    "\n",
    "from collections import Counter, defaultdict, namedtuple, deque\n",
    "from functools   import lru_cache\n",
    "from itertools   import permutations, combinations, chain, cycle, product, islice\n",
    "from heapq       import heappop, heappush\n",
    "\n",
    "def Input(day):\n",
    "    \"Open this day's input file.\"\n",
    "    filename = '{}.txt'.format(day)\n",
    "    try:\n",
    "        return open(filename)\n",
    "    except FileNotFoundError:\n",
    "        return urllib.request.urlopen(\"https://raw.githubusercontent.com/Bklyn/adventofcode/master/2017/\" + filename)\n",
    "\n",
    "def transpose(matrix): return zip(*matrix)\n",
    "\n",
    "def first(iterable): return next(iter(iterable))\n",
    "\n",
    "def nth(iterable, n, default=None):\n",
    "    \"Returns the nth item of iterable, or a default value\"\n",
    "    return next(islice(iterable, n, None), default)\n",
    "\n",
    "# 2-D points implemented using (x, y) tuples\n",
    "def X(point): return point[0]\n",
    "def Y(point): return point[1]\n",
    "\n",
    "def neighbors4(point): \n",
    "    \"The four neighbors (without diagonals).\"\n",
    "    x, y = point\n",
    "    return ((x+1, y), (x-1, y), (x, y+1), (x, y-1))\n",
    "\n",
    "def neighbors8(point): \n",
    "    \"The eight neighbors (with diagonals).\"\n",
    "    x, y = point \n",
    "    return ((x+1, y), (x-1, y), (x, y+1), (x, y-1),\n",
    "            (x+1, y+1), (x-1, y-1), (x+1, y-1), (x-1, y+1))\n",
    "\n",
    "def cityblock_distance(p, q=(0, 0)): \n",
    "    \"City block distance between two points.\"\n",
    "    return abs(X(p) - X(q)) + abs(Y(p) - Y(q))"
   ]
  },
  {
   "cell_type": "markdown",
   "metadata": {},
   "source": [
    "# Day 1: Inverse Captcha"
   ]
  },
  {
   "cell_type": "code",
   "execution_count": 45,
   "metadata": {},
   "outputs": [
    {
     "name": "stdout",
     "output_type": "stream",
     "text": [
      "1102\n",
      "1076\n"
     ]
    }
   ],
   "source": [
    "def captcha(msg, halfway_around=False):\n",
    "    prev = None\n",
    "    answer = 0\n",
    "    digits = [int(x) for x in msg if x in string.digits]\n",
    "    if halfway_around:\n",
    "        offset = len(digits)//2\n",
    "    else:\n",
    "        offset = 1\n",
    "    for i in range (len (digits)):\n",
    "        j = (i + offset) % len (digits)\n",
    "        if digits[i] == digits[j]:\n",
    "            answer += digits[i]\n",
    "    return answer\n",
    "\n",
    "assert captcha('1122') == 3\n",
    "assert captcha('1111') == 4\n",
    "\n",
    "INPUT = Input(1).read ().decode('ascii')\n",
    "\n",
    "print (captcha(INPUT))\n",
    "\n",
    "def captcha2(msg):\n",
    "    return captcha(msg, True)\n",
    "\n",
    "assert captcha2('1212') == 6\n",
    "assert captcha2('1221') == 0\n",
    "assert captcha2('123425') == 4\n",
    "assert captcha2('123123') == 12\n",
    "assert captcha2('12131415') == 4\n",
    "\n",
    "print (captcha2(INPUT))"
   ]
  },
  {
   "cell_type": "markdown",
   "metadata": {},
   "source": [
    "# [Day 2](http://adventofcode.com/2017/day/2): Corruption Checksum"
   ]
  },
  {
   "cell_type": "code",
   "execution_count": 46,
   "metadata": {},
   "outputs": [
    {
     "name": "stdout",
     "output_type": "stream",
     "text": [
      "39126\n",
      "258\n"
     ]
    }
   ],
   "source": [
    "def checksum(x):\n",
    "    result = 0\n",
    "    for line in x.split('\\n'):\n",
    "        row = [int(x) for x in line.split()]\n",
    "        if not len(row):\n",
    "            continue\n",
    "        row = sorted (row)\n",
    "        result += row[-1] - row[0]\n",
    "        pass\n",
    "    return result\n",
    "\n",
    "assert checksum('''5 1 9 5\n",
    "7 5 3\n",
    "2 4 6 8''') == 18\n",
    "\n",
    "INPUT = Input(2).read().decode('ascii')\n",
    "print (checksum(INPUT))\n",
    "\n",
    "def evenly(x):\n",
    "    result = 0\n",
    "    for line in x.split('\\n'):\n",
    "        row = [int(x) for x in line.split()]\n",
    "        if not len(row):\n",
    "            continue\n",
    "        # Input is small enough, just use brute force\n",
    "        row = sorted (row)\n",
    "        for i, j in product (range (0, len(row)), range (1, len(row))):\n",
    "            if j <= i:\n",
    "                continue\n",
    "            if row[j] % row[i] == 0:\n",
    "                result += row[j] // row[i]\n",
    "                break\n",
    "    return result\n",
    "\n",
    "assert evenly('''\n",
    "5 9 2 8\n",
    "9 4 7 3\n",
    "3 8 6 5''') == 9\n",
    "\n",
    "print (evenly(INPUT))"
   ]
  },
  {
   "cell_type": "markdown",
   "metadata": {},
   "source": [
    "# [Day 3](http://adventofcode.com/2017/day/3) Spiral Memory\n",
    "The memory layout is an [Ulam spiral](https://en.wikipedia.org/wiki/Ulam_spiral) and I had to do some Googling to get help modeling the coordinate system.  [This StackExchange post](https://math.stackexchange.com/questions/617574/inverse-of-ulams-spiral) was instructive, though the accepted answer is actually wrong in several cases.  The code below is inspired by this answer."
   ]
  },
  {
   "cell_type": "code",
   "execution_count": null,
   "metadata": {},
   "outputs": [],
   "source": [
    "def coord(n):\n",
    "    k = int (math.sqrt (n))\n",
    "    m = n - k*k\n",
    "    if k % 2 == 0:              # Even\n",
    "       c = (1-(k//2), k//2)\n",
    "       if m == 0:\n",
    "           pass\n",
    "       elif m <= k+1:\n",
    "           c = (c[0]-1, c[1]-(m-1))\n",
    "       else:\n",
    "           m = n - (k*k + k + 1)\n",
    "           c = (-k//2 + m, -k//2)\n",
    "    else:                        # Odd\n",
    "        c = ((k-1)//2, -(k-1)//2)\n",
    "        if m == 0:\n",
    "            pass\n",
    "        elif m <= k+1:\n",
    "            c = (c[0]+1,c[1]+m-1)\n",
    "        else:\n",
    "            m = n - (k*k + k + 1)\n",
    "            c = (1+(k//2), 1+(k//2))\n",
    "            c = (c[0]-m, c[1])\n",
    "    # print (n, k, m, c)\n",
    "    return c\n",
    "\n",
    "def test_coord():\n",
    "    assert coord(1) == (0,0)\n",
    "    assert coord(2) == (1,0)\n",
    "    assert coord(3) == (1,1)\n",
    "    assert coord(4) == (0,1)\n",
    "    assert coord(5) == (-1,1)\n",
    "    assert coord(6) == (-1,0)\n",
    "    assert coord(7) == (-1,-1)\n",
    "    assert coord(8) == (0,-1)\n",
    "    assert coord(9) == (1,-1)\n",
    "    assert coord(10) == (2,-1)\n",
    "    assert coord(11) == (2,0)\n",
    "    assert coord(36) == (-2, 3)\n",
    "    assert coord(37) == (-3, 3)\n",
    "    assert coord(35) == (-1, 3)\n",
    "    assert coord(42) == (-3, -2)\n",
    "\n",
    "print (cityblock_distance (coord (265149)))\n",
    "\n",
    "def part2(goal):\n",
    "    cache = {(0, 0): 1}\n",
    "    result = 1\n",
    "    i = 1\n",
    "    while result < goal:\n",
    "        result = 0\n",
    "        c = coord(i)\n",
    "        for p in neighbors8(c):\n",
    "            v = cache.get (p)\n",
    "            if v is None:\n",
    "                continue\n",
    "            result += v\n",
    "        print (i, c, result)\n",
    "        cache[c] = result\n",
    "        i += 1\n",
    "    return result\n",
    "\n",
    "print (part2 (265149))\n"
   ]
  },
  {
   "cell_type": "code",
   "execution_count": null,
   "metadata": {
    "collapsed": true
   },
   "outputs": [],
   "source": []
  }
 ],
 "metadata": {
  "kernelspec": {
   "display_name": "Python 3",
   "language": "python",
   "name": "python3"
  },
  "language_info": {
   "codemirror_mode": {
    "name": "ipython",
    "version": 3
   },
   "file_extension": ".py",
   "mimetype": "text/x-python",
   "name": "python",
   "nbconvert_exporter": "python",
   "pygments_lexer": "ipython3",
   "version": "3.6.3"
  }
 },
 "nbformat": 4,
 "nbformat_minor": 2
}
